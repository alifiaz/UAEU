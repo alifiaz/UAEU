{
 "cells": [
  {
   "cell_type": "markdown",
   "metadata": {},
   "source": [
    "## PRACTICAL MACHINE LEARNING  CHALLENGE"
   ]
  },
  {
   "cell_type": "markdown",
   "metadata": {},
   "source": [
    "# CONTENTS\n",
    "\n",
    "* Import necessary libraries & dataset\n",
    "* Statistics of customer mall visits\n",
    "* Plot of Average visits by day\n",
    "* Histogram & probability Plot of the number of visits for the customers\n",
    "\n",
    "\n",
    "* Creating simple statistical features\n",
    "* Customers visits on 03 most frequent days (sat, sun, mon) grouped by low, medium, and high difference of days from last visit\n",
    "\n",
    "\n",
    "* Defining features and labels\n",
    "* Label encoder for dependent variable\n",
    "* Class distributions of the visited day\n",
    "* Stratified train test split\n",
    "* Feature scaling\n",
    "\n",
    "\n",
    "* Machine learning models\n",
    "* Performance Metrics\n",
    "* Features Importance Plot using Random Forest\n",
    "* Deep Learning Model\n",
    "* Further Model Improvements"
   ]
  },
  {
   "cell_type": "markdown",
   "metadata": {},
   "source": [
    "###  IMPORT NECESSARY LIBRARIES & DATASET"
   ]
  },
  {
   "cell_type": "code",
   "execution_count": 1,
   "metadata": {},
   "outputs": [],
   "source": [
    "import numpy as np\n",
    "import pandas as pd\n",
    "from scipy import stats\n",
    "import matplotlib.pyplot as plt\n",
    "import seaborn as sns\n",
    "sns.set_style('white')\n",
    "sns.set_context(\"paper\", font_scale=1.4) \n",
    "pd.set_option('precision', 3)\n",
    "import warnings\n",
    "warnings.filterwarnings(\"ignore\")"
   ]
  },
  {
   "cell_type": "code",
   "execution_count": 2,
   "metadata": {},
   "outputs": [
    {
     "data": {
      "text/html": [
       "<div>\n",
       "<style scoped>\n",
       "    .dataframe tbody tr th:only-of-type {\n",
       "        vertical-align: middle;\n",
       "    }\n",
       "\n",
       "    .dataframe tbody tr th {\n",
       "        vertical-align: top;\n",
       "    }\n",
       "\n",
       "    .dataframe thead th {\n",
       "        text-align: right;\n",
       "    }\n",
       "</style>\n",
       "<table border=\"1\" class=\"dataframe\">\n",
       "  <thead>\n",
       "    <tr style=\"text-align: right;\">\n",
       "      <th></th>\n",
       "      <th>visitor_id</th>\n",
       "      <th>visits</th>\n",
       "    </tr>\n",
       "  </thead>\n",
       "  <tbody>\n",
       "    <tr>\n",
       "      <th>0</th>\n",
       "      <td>1</td>\n",
       "      <td>30 84 126 135 137 179 242 342 426 456 460 462...</td>\n",
       "    </tr>\n",
       "    <tr>\n",
       "      <th>1</th>\n",
       "      <td>2</td>\n",
       "      <td>24 53 75 134 158 192 194 211 213 238 251 305 ...</td>\n",
       "    </tr>\n",
       "  </tbody>\n",
       "</table>\n",
       "</div>"
      ],
      "text/plain": [
       "   visitor_id                                             visits\n",
       "0           1   30 84 126 135 137 179 242 342 426 456 460 462...\n",
       "1           2   24 53 75 134 158 192 194 211 213 238 251 305 ..."
      ]
     },
     "execution_count": 2,
     "metadata": {},
     "output_type": "execute_result"
    }
   ],
   "source": [
    "df=pd.read_csv('train_set.csv')\n",
    "df.head(2)"
   ]
  },
  {
   "cell_type": "code",
   "execution_count": 3,
   "metadata": {},
   "outputs": [
    {
     "name": "stdout",
     "output_type": "stream",
     "text": [
      "Dataset comprises 300000 unique customers\n"
     ]
    }
   ],
   "source": [
    "df = df.rename(columns={' visits': 'visits'})\n",
    "print(f\"Dataset comprises {df.visitor_id.nunique()} unique customers\")"
   ]
  },
  {
   "cell_type": "markdown",
   "metadata": {},
   "source": [
    "### MODELING DAY PREDICTION AS A CLASSIFICATION PROBLEM\n",
    "\n",
    "The task is to predict the first day of the next visit (week 144), which can be from Monday to Sunday. So we will model this as a Classification Problem. "
   ]
  },
  {
   "cell_type": "markdown",
   "metadata": {},
   "source": [
    "#### FIRST FIVE RECORDS"
   ]
  },
  {
   "cell_type": "code",
   "execution_count": 4,
   "metadata": {},
   "outputs": [
    {
     "data": {
      "text/plain": [
       "0    [30, 84, 126, 135, 137, 179, 242, 342, 426, 45...\n",
       "1    [24, 53, 75, 134, 158, 192, 194, 211, 213, 238...\n",
       "2    [51, 143, 173, 257, 446, 491, 504, 510, 559, 6...\n",
       "3    [1, 20, 22, 92, 124, 149, 211, 335, 387, 390, ...\n",
       "4    [34, 51, 56, 106, 110, 121, 163, 233, 266, 275...\n",
       "Name: visits, dtype: object"
      ]
     },
     "execution_count": 4,
     "metadata": {},
     "output_type": "execute_result"
    }
   ],
   "source": [
    "df1=df.visits.str.split()\n",
    "df1=pd.DataFrame(df1)\n",
    "df1.visits[:5]"
   ]
  },
  {
   "cell_type": "code",
   "execution_count": 5,
   "metadata": {},
   "outputs": [],
   "source": [
    "# Removing the output variable 'y' from the data (last day that is to be predicted)\n",
    "y=[]\n",
    "for i in range(len(df1.visits)):\n",
    "    y.append(df1.visits[i][-1])"
   ]
  },
  {
   "cell_type": "code",
   "execution_count": 6,
   "metadata": {},
   "outputs": [],
   "source": [
    "for i in range(len(df1.visits)):\n",
    "    del df1.visits[i][-1]"
   ]
  },
  {
   "cell_type": "code",
   "execution_count": 7,
   "metadata": {},
   "outputs": [],
   "source": [
    "# Mapping of numbers to days\n",
    "A = list(range(1,1002))\n",
    "B = [\"Monday\",\"Tuesday\",\"Wednesday\",\"Thursday\",\"Friday\",\"Saturday\",\"Sunday\"]\n",
    "Z = []\n",
    "for i, a in enumerate(A):\n",
    "    Z.append((a, B[i % len(B)]))\n",
    "d=dict(Z)"
   ]
  },
  {
   "cell_type": "code",
   "execution_count": 8,
   "metadata": {},
   "outputs": [],
   "source": [
    "Count_Visits=[len(df1.visits[i]) for i in range(len(df1))]\n",
    "df1['Count_Visits']=Count_Visits"
   ]
  },
  {
   "cell_type": "markdown",
   "metadata": {},
   "source": [
    "### STATISTICS OF CUSTOMER MALL VISITS"
   ]
  },
  {
   "cell_type": "code",
   "execution_count": 9,
   "metadata": {},
   "outputs": [
    {
     "data": {
      "text/plain": [
       "count    300000.000\n",
       "mean        110.815\n",
       "std          40.649\n",
       "min          21.000\n",
       "25%          78.000\n",
       "50%         102.000\n",
       "75%         142.000\n",
       "max         261.000\n",
       "Name: Count_Visits, dtype: float64"
      ]
     },
     "execution_count": 9,
     "metadata": {},
     "output_type": "execute_result"
    }
   ],
   "source": [
    "df1.Count_Visits.describe()"
   ]
  },
  {
   "cell_type": "markdown",
   "metadata": {},
   "source": [
    "* The mean number of visits are 110 with a standard deviation of 40.\n",
    "\n",
    "\n",
    "* Minimum visit of Mall=21 and max =261"
   ]
  },
  {
   "cell_type": "code",
   "execution_count": 10,
   "metadata": {},
   "outputs": [],
   "source": [
    "# Days Mapping\n",
    "def days_name():\n",
    "    z=[]\n",
    "    for i in list(range(len(df1.visits))):\n",
    "        int_lst = [int(x) for x in df1.visits[i]]\n",
    "        a=[d[key] for key in int_lst]\n",
    "        z.append(a)\n",
    "    return z\n",
    "aa=days_name()"
   ]
  },
  {
   "cell_type": "code",
   "execution_count": 11,
   "metadata": {},
   "outputs": [],
   "source": [
    "# Number of Visits for each day by customers\n",
    "df1['Days']=aa\n",
    "df1['Monday']=df1.Days.apply(lambda x: x.count('Monday'))\n",
    "df1['Tuesday']=df1.Days.apply(lambda x: x.count('Tuesday'))\n",
    "df1['Wednesday']=df1.Days.apply(lambda x: x.count('Wednesday'))\n",
    "df1['Thursday']=df1.Days.apply(lambda x: x.count('Thursday'))\n",
    "df1['Friday']=df1.Days.apply(lambda x: x.count('Friday'))\n",
    "df1['Saturday']=df1.Days.apply(lambda x: x.count('Saturday'))\n",
    "df1['Sunday']=df1.Days.apply(lambda x: x.count('Sunday'))"
   ]
  },
  {
   "cell_type": "markdown",
   "metadata": {},
   "source": [
    "### AVERAGE VISITS BY DAY"
   ]
  },
  {
   "cell_type": "code",
   "execution_count": 12,
   "metadata": {},
   "outputs": [
    {
     "data": {
      "image/png": "[encoded data removed]",
      "text/plain": [
       "<Figure size 432x288 with 1 Axes>"
      ]
     },
     "metadata": {
      "needs_background": "light"
     },
     "output_type": "display_data"
    }
   ],
   "source": [
    "visit_day=df1.iloc[:,3:].mean()\n",
    "plt.figure(figsize=(6,4))\n",
    "visit_day.plot(kind='bar');\n",
    "sns.despine(left=True)\n",
    "plt.tight_layout() "
   ]
  },
  {
   "cell_type": "markdown",
   "metadata": {},
   "source": [
    "* Saturday and Sunday are the most visited days, followed by Monday"
   ]
  },
  {
   "cell_type": "markdown",
   "metadata": {},
   "source": [
    "### HISTOGRAM & PROBABILITY PLOT OF THE NUMBER OF VISITS FOR THE CUSTOMERS"
   ]
  },
  {
   "cell_type": "code",
   "execution_count": 13,
   "metadata": {},
   "outputs": [
    {
     "data": {
      "image/png": "[encoded data removed]",
      "text/plain": [
       "<Figure size 1008x432 with 2 Axes>"
      ]
     },
     "metadata": {
      "needs_background": "light"
     },
     "output_type": "display_data"
    }
   ],
   "source": [
    "plt.figure(figsize=(14,6))\n",
    "plt.subplot(1,2,1)\n",
    "sns.distplot(df1.Count_Visits)\n",
    "plt.title('Number of Visits')\n",
    "plt.tight_layout() \n",
    "\n",
    "plt.subplot(1,2,2)\n",
    "stats.probplot(df1.Count_Visits, plot=plt);\n",
    "plt.title('Probability Plot')\n",
    "sns.despine(left=True);"
   ]
  },
  {
   "cell_type": "markdown",
   "metadata": {},
   "source": [
    "The distribution of the number of visits is close to normal pprobability distribution"
   ]
  },
  {
   "cell_type": "markdown",
   "metadata": {},
   "source": [
    "## CREATING SIMPLE STATISTICAL FEATURES"
   ]
  },
  {
   "cell_type": "markdown",
   "metadata": {},
   "source": [
    "**Count_Visits** : Count of the total number of Visits so far\n",
    "\n",
    "**Monday, Tuesday....** : Count of the number of visits for each day\n",
    "\n",
    "**std** : Standard deviation of the difference from previous days of the customer visit\n",
    "\n",
    "**Mean** : Mean number of difference in visit days\n",
    "\n",
    "**Median** : Median number of difference in visit days\n",
    "\n",
    "**first_diff** : The difference in number of days between present visit & last visit\n",
    "\n",
    "**sec_diff** : The difference in number of days between n-1 visit & n-2 visit\n",
    "\n",
    "\n",
    "**Third_diff** : The difference in number of days between n-2 visit & n-3 visit"
   ]
  },
  {
   "cell_type": "code",
   "execution_count": 14,
   "metadata": {},
   "outputs": [],
   "source": [
    "def stats():\n",
    "    diff=[]\n",
    "    std=[]\n",
    "    mean=[]\n",
    "    median=[]\n",
    "    first_diff=[]\n",
    "    sec_diff=[]\n",
    "    third_diff=[]\n",
    "    for i in list(range(len(df1.visits))):\n",
    "        int_lst = [int(x) for x in df1.visits[i]]\n",
    "        d=np.diff(int_lst)\n",
    "        diff.append(d)\n",
    "        std.append(np.std(d))\n",
    "        mean.append(np.mean(d))\n",
    "        median.append(np.median(d))\n",
    "        first_diff.append(d[0])\n",
    "        sec_diff.append(d[1])\n",
    "        third_diff.append(d[2])\n",
    "    return diff,std,mean,median,first_diff,sec_diff,third_diff\n",
    "diff,std,mean,median,first_diff,sec_diff,third_diff=stats()"
   ]
  },
  {
   "cell_type": "code",
   "execution_count": 15,
   "metadata": {},
   "outputs": [],
   "source": [
    "df1['Difference']=diff\n",
    "df1['std']=std\n",
    "df1['Mean']=mean\n",
    "df1['Median']=median\n",
    "df1['first_diff']=first_diff\n",
    "df1['sec_diff']=sec_diff\n",
    "df1['third_diff']=third_diff"
   ]
  },
  {
   "cell_type": "markdown",
   "metadata": {},
   "source": [
    "#### CUSTOMERS VISITS ON 03 MOST FREQUENT DAYS (SAT, SUN, MON) GROUPED BY LOW, MEDIUM, AND HIGH DIFFERENCE OF DAYS FROM LAST VISIT"
   ]
  },
  {
   "cell_type": "code",
   "execution_count": 16,
   "metadata": {},
   "outputs": [
    {
     "data": {
      "image/png": "[encoded data removed]",
      "text/plain": [
       "<Figure size 1152x432 with 3 Axes>"
      ]
     },
     "metadata": {
      "needs_background": "light"
     },
     "output_type": "display_data"
    }
   ],
   "source": [
    "s=pd.cut(df1.first_diff,3,labels=[\"low\", \"medium\", \"high\"])\n",
    "df2=df1.copy(deep=True)\n",
    "df2['Visit_Freq']=s\n",
    "\n",
    "plt.figure(figsize=(16,6))\n",
    "plt.subplot(1,3,1)\n",
    "sns.boxplot(x=\"Visit_Freq\", y=\"Saturday\", data=df2, palette='Blues');\n",
    "plt.title('Saturday')\n",
    "\n",
    "plt.subplot(1,3,2)\n",
    "sns.boxplot(x=\"Visit_Freq\", y=\"Sunday\", data=df2, palette='Blues')\n",
    "plt.ylim(0, 80)\n",
    "plt.title('Sunday')\n",
    "\n",
    "plt.subplot(1,3,3)\n",
    "sns.boxplot(x=\"Visit_Freq\", y=\"Monday\", data=df2, palette='Blues')\n",
    "plt.ylim(0, 80)\n",
    "plt.title('Monday')\n",
    "sns.despine(left=True);\n",
    "plt.tight_layout() "
   ]
  },
  {
   "cell_type": "markdown",
   "metadata": {},
   "source": [
    "*Consideable drop in visits on Monday for the medium and high frequency group, however low frequency group visits remains same*"
   ]
  },
  {
   "cell_type": "markdown",
   "metadata": {},
   "source": [
    "### DEFINING FEATURES AND LABELS"
   ]
  },
  {
   "cell_type": "code",
   "execution_count": 17,
   "metadata": {},
   "outputs": [],
   "source": [
    "df1=df1.loc[:,['Count_Visits','Monday','Tuesday','Wednesday','Thursday',\n",
    "                'Friday','Saturday','Sunday','std','Mean','Median',\n",
    "                'first_diff','sec_diff','third_diff']]"
   ]
  },
  {
   "cell_type": "code",
   "execution_count": 18,
   "metadata": {},
   "outputs": [
    {
     "data": {
      "text/html": [
       "<div>\n",
       "<style scoped>\n",
       "    .dataframe tbody tr th:only-of-type {\n",
       "        vertical-align: middle;\n",
       "    }\n",
       "\n",
       "    .dataframe tbody tr th {\n",
       "        vertical-align: top;\n",
       "    }\n",
       "\n",
       "    .dataframe thead th {\n",
       "        text-align: right;\n",
       "    }\n",
       "</style>\n",
       "<table border=\"1\" class=\"dataframe\">\n",
       "  <thead>\n",
       "    <tr style=\"text-align: right;\">\n",
       "      <th></th>\n",
       "      <th>Count_Visits</th>\n",
       "      <th>Monday</th>\n",
       "      <th>Tuesday</th>\n",
       "      <th>Wednesday</th>\n",
       "      <th>Thursday</th>\n",
       "      <th>Friday</th>\n",
       "      <th>Saturday</th>\n",
       "      <th>Sunday</th>\n",
       "      <th>std</th>\n",
       "      <th>Mean</th>\n",
       "      <th>Median</th>\n",
       "      <th>first_diff</th>\n",
       "      <th>sec_diff</th>\n",
       "      <th>third_diff</th>\n",
       "    </tr>\n",
       "  </thead>\n",
       "  <tbody>\n",
       "    <tr>\n",
       "      <th>0</th>\n",
       "      <td>25</td>\n",
       "      <td>2</td>\n",
       "      <td>5</td>\n",
       "      <td>1</td>\n",
       "      <td>6</td>\n",
       "      <td>2</td>\n",
       "      <td>4</td>\n",
       "      <td>5</td>\n",
       "      <td>34.019</td>\n",
       "      <td>38.167</td>\n",
       "      <td>25.5</td>\n",
       "      <td>54</td>\n",
       "      <td>42</td>\n",
       "      <td>9</td>\n",
       "    </tr>\n",
       "    <tr>\n",
       "      <th>1</th>\n",
       "      <td>28</td>\n",
       "      <td>4</td>\n",
       "      <td>0</td>\n",
       "      <td>9</td>\n",
       "      <td>5</td>\n",
       "      <td>6</td>\n",
       "      <td>1</td>\n",
       "      <td>3</td>\n",
       "      <td>29.344</td>\n",
       "      <td>35.444</td>\n",
       "      <td>24.0</td>\n",
       "      <td>29</td>\n",
       "      <td>22</td>\n",
       "      <td>59</td>\n",
       "    </tr>\n",
       "    <tr>\n",
       "      <th>2</th>\n",
       "      <td>25</td>\n",
       "      <td>1</td>\n",
       "      <td>4</td>\n",
       "      <td>1</td>\n",
       "      <td>1</td>\n",
       "      <td>5</td>\n",
       "      <td>8</td>\n",
       "      <td>5</td>\n",
       "      <td>41.964</td>\n",
       "      <td>37.708</td>\n",
       "      <td>25.0</td>\n",
       "      <td>92</td>\n",
       "      <td>30</td>\n",
       "      <td>84</td>\n",
       "    </tr>\n",
       "    <tr>\n",
       "      <th>3</th>\n",
       "      <td>24</td>\n",
       "      <td>5</td>\n",
       "      <td>3</td>\n",
       "      <td>2</td>\n",
       "      <td>2</td>\n",
       "      <td>7</td>\n",
       "      <td>3</td>\n",
       "      <td>2</td>\n",
       "      <td>40.075</td>\n",
       "      <td>41.826</td>\n",
       "      <td>25.0</td>\n",
       "      <td>19</td>\n",
       "      <td>2</td>\n",
       "      <td>70</td>\n",
       "    </tr>\n",
       "    <tr>\n",
       "      <th>4</th>\n",
       "      <td>25</td>\n",
       "      <td>3</td>\n",
       "      <td>11</td>\n",
       "      <td>1</td>\n",
       "      <td>1</td>\n",
       "      <td>4</td>\n",
       "      <td>1</td>\n",
       "      <td>4</td>\n",
       "      <td>30.045</td>\n",
       "      <td>31.667</td>\n",
       "      <td>18.5</td>\n",
       "      <td>17</td>\n",
       "      <td>5</td>\n",
       "      <td>50</td>\n",
       "    </tr>\n",
       "  </tbody>\n",
       "</table>\n",
       "</div>"
      ],
      "text/plain": [
       "   Count_Visits  Monday  Tuesday  Wednesday  Thursday  Friday  Saturday  \\\n",
       "0            25       2        5          1         6       2         4   \n",
       "1            28       4        0          9         5       6         1   \n",
       "2            25       1        4          1         1       5         8   \n",
       "3            24       5        3          2         2       7         3   \n",
       "4            25       3       11          1         1       4         1   \n",
       "\n",
       "   Sunday     std    Mean  Median  first_diff  sec_diff  third_diff  \n",
       "0       5  34.019  38.167    25.5          54        42           9  \n",
       "1       3  29.344  35.444    24.0          29        22          59  \n",
       "2       5  41.964  37.708    25.0          92        30          84  \n",
       "3       2  40.075  41.826    25.0          19         2          70  \n",
       "4       4  30.045  31.667    18.5          17         5          50  "
      ]
     },
     "execution_count": 18,
     "metadata": {},
     "output_type": "execute_result"
    }
   ],
   "source": [
    "df1.head()"
   ]
  },
  {
   "cell_type": "code",
   "execution_count": 19,
   "metadata": {},
   "outputs": [],
   "source": [
    "#Dependent Variable\n",
    "y = [int(i) for i in y] \n",
    "y=[d[k] for k in y]"
   ]
  },
  {
   "cell_type": "code",
   "execution_count": 20,
   "metadata": {},
   "outputs": [],
   "source": [
    "X=df1.iloc[:,:]\n",
    "y1=y.copy()"
   ]
  },
  {
   "cell_type": "markdown",
   "metadata": {},
   "source": [
    "### LABEL ENCODER FOR DEPENDENT VARIABLE"
   ]
  },
  {
   "cell_type": "code",
   "execution_count": 21,
   "metadata": {},
   "outputs": [],
   "source": [
    "from sklearn import preprocessing\n",
    "le = preprocessing.LabelEncoder()\n",
    "le.fit(y1)\n",
    "y1=le.transform(y1)"
   ]
  },
  {
   "cell_type": "markdown",
   "metadata": {},
   "source": [
    "### CLASS DISTRIBUTIONS OF THE VISITED DAY"
   ]
  },
  {
   "cell_type": "code",
   "execution_count": 22,
   "metadata": {},
   "outputs": [
    {
     "name": "stdout",
     "output_type": "stream",
     "text": [
      "[0 1 2 3 4 5 6]\n",
      "[36535 25231 68307 92808 28428 22601 26090]\n"
     ]
    }
   ],
   "source": [
    "unique, counts=np.unique(y1, return_counts=True)\n",
    "print(unique)\n",
    "print(counts)"
   ]
  },
  {
   "cell_type": "markdown",
   "metadata": {},
   "source": [
    "**It is obvious that the classes are imbalance, thus metrics other then simple accuracy should be taken into account**"
   ]
  },
  {
   "cell_type": "markdown",
   "metadata": {},
   "source": [
    "### STRATIFIED TRAIN TEST SPLIT"
   ]
  },
  {
   "cell_type": "code",
   "execution_count": 23,
   "metadata": {},
   "outputs": [
    {
     "name": "stdout",
     "output_type": "stream",
     "text": [
      "No of Observation in the training set:  240000\n",
      "\n",
      "No of Observation in the testing set:  60000\n"
     ]
    }
   ],
   "source": [
    "from sklearn.model_selection import train_test_split\n",
    "X_train, X_test, y_train, y_test = train_test_split(\n",
    "    X, y1, stratify=y1,test_size=0.20, random_state=42)\n",
    "\n",
    "print('No of Observation in the training set: ',len(X_train))\n",
    "print('\\nNo of Observation in the testing set: ', len(X_test))"
   ]
  },
  {
   "cell_type": "markdown",
   "metadata": {},
   "source": [
    "### FEATURE SCALING"
   ]
  },
  {
   "cell_type": "code",
   "execution_count": 24,
   "metadata": {},
   "outputs": [],
   "source": [
    "# Min Max Scaler\n",
    "from sklearn.preprocessing import MinMaxScaler\n",
    "scaler = MinMaxScaler(feature_range=(0,1))\n",
    "X_train= scaler.fit_transform(X_train)\n",
    "X_test = scaler.transform(X_test)"
   ]
  },
  {
   "cell_type": "code",
   "execution_count": 25,
   "metadata": {},
   "outputs": [],
   "source": [
    "# Standard Scaler\n",
    "from sklearn.preprocessing import StandardScaler\n",
    "sc = StandardScaler()\n",
    "X_train = sc.fit_transform(X_train)\n",
    "X_test = sc.transform(X_test)"
   ]
  },
  {
   "cell_type": "markdown",
   "metadata": {},
   "source": [
    "###  MACHINE LEARNING MODELS\n",
    "1. Logistic Regression\n",
    "2. Random Forest Classifier\n",
    "3. Extra Trees Classifier\n",
    "4. XGBoost"
   ]
  },
  {
   "cell_type": "code",
   "execution_count": 26,
   "metadata": {},
   "outputs": [],
   "source": [
    "from sklearn import svm\n",
    "from sklearn.linear_model import LogisticRegression\n",
    "from sklearn.ensemble import RandomForestClassifier\n",
    "from sklearn.ensemble import ExtraTreesClassifier\n",
    "import xgboost"
   ]
  },
  {
   "cell_type": "code",
   "execution_count": 27,
   "metadata": {},
   "outputs": [],
   "source": [
    "#Logistic Regression\n",
    "lr = LogisticRegression(random_state=42, solver='lbfgs',multi_class='multinomial')\n",
    "lr.fit(X_train, y_train)\n",
    "\n",
    "\n",
    "# Random Forest\n",
    "rf=RandomForestClassifier(n_estimators=50,max_depth=None,random_state=42)\n",
    "rf.fit(X_train, y_train)\n",
    "\n",
    "#Xgboost\n",
    "# Let's try XGboost algorithm to see if we can get better results\n",
    "xgb = xgboost.XGBClassifier(n_estimators=50, random_state=42)\n",
    "xgb=xgb.fit(X_train,y_train)\n",
    "\n",
    "\n",
    "#ExtraTrees\n",
    "et = ExtraTreesClassifier(n_estimators=50, max_depth=None,random_state=42)\n",
    "et=et.fit(X_train,y_train)"
   ]
  },
  {
   "cell_type": "markdown",
   "metadata": {},
   "source": [
    "### PERFORMANCE METRICS\n",
    "1. Accuracy\n",
    "2. Precision\n",
    "3. Recall\n",
    "4. F1 Score\n",
    "\n",
    "**Taking Micro-average becasuse there is a class imbalance problem**"
   ]
  },
  {
   "cell_type": "code",
   "execution_count": 30,
   "metadata": {},
   "outputs": [],
   "source": [
    "from sklearn.metrics import f1_score, precision_score, confusion_matrix, recall_score, accuracy_score\n",
    "\n",
    "lr_acc=accuracy_score(y_test, lr.predict(X_test))  \n",
    "rf_acc=accuracy_score(y_test, rf.predict(X_test)) \n",
    "xgb_acc=accuracy_score(y_test, xgb.predict(X_test)) \n",
    "et_acc=accuracy_score(y_test, et.predict(X_test)) \n",
    "\n",
    "lr_pr=precision_score(y_test, lr.predict(X_test),average='micro') \n",
    "rf_pr=precision_score(y_test, rf.predict(X_test),average='micro') \n",
    "xgb_pr=precision_score(y_test, xgb.predict(X_test),average='micro')  \n",
    "et_pr=precision_score(y_test, et.predict(X_test),average='micro') \n",
    "\n",
    "lr_f1=f1_score(y_test, lr.predict(X_test),average='micro') \n",
    "rf_f1=f1_score(y_test, rf.predict(X_test),average='micro') \n",
    "xgb_f1=f1_score(y_test, xgb.predict(X_test),average='micro')  \n",
    "et_f1=f1_score(y_test, et.predict(X_test),average='micro') \n",
    "\n",
    "lr_rc=recall_score(y_test, lr.predict(X_test),average='micro') \n",
    "rf_rc=recall_score(y_test, rf.predict(X_test),average='micro') \n",
    "xgb_rc=recall_score(y_test, xgb.predict(X_test),average='micro') \n",
    "et_rc=recall_score(y_test, et.predict(X_test),average='micro')  "
   ]
  },
  {
   "cell_type": "markdown",
   "metadata": {},
   "source": [
    "### RESULTS TEST DATASET"
   ]
  },
  {
   "cell_type": "code",
   "execution_count": 31,
   "metadata": {},
   "outputs": [
    {
     "data": {
      "text/html": [
       "<div>\n",
       "<style scoped>\n",
       "    .dataframe tbody tr th:only-of-type {\n",
       "        vertical-align: middle;\n",
       "    }\n",
       "\n",
       "    .dataframe tbody tr th {\n",
       "        vertical-align: top;\n",
       "    }\n",
       "\n",
       "    .dataframe thead th {\n",
       "        text-align: right;\n",
       "    }\n",
       "</style>\n",
       "<table border=\"1\" class=\"dataframe\">\n",
       "  <thead>\n",
       "    <tr style=\"text-align: right;\">\n",
       "      <th></th>\n",
       "      <th>Accuracy</th>\n",
       "      <th>Precision</th>\n",
       "      <th>Recall</th>\n",
       "      <th>F1-Score</th>\n",
       "    </tr>\n",
       "    <tr>\n",
       "      <th>Algorithm</th>\n",
       "      <th></th>\n",
       "      <th></th>\n",
       "      <th></th>\n",
       "      <th></th>\n",
       "    </tr>\n",
       "  </thead>\n",
       "  <tbody>\n",
       "    <tr>\n",
       "      <th>Logistic Regression</th>\n",
       "      <td>0.327</td>\n",
       "      <td>0.327</td>\n",
       "      <td>0.327</td>\n",
       "      <td>0.327</td>\n",
       "    </tr>\n",
       "    <tr>\n",
       "      <th>Random Forest</th>\n",
       "      <td>0.306</td>\n",
       "      <td>0.306</td>\n",
       "      <td>0.306</td>\n",
       "      <td>0.306</td>\n",
       "    </tr>\n",
       "    <tr>\n",
       "      <th>XGBoost</th>\n",
       "      <td>0.329</td>\n",
       "      <td>0.329</td>\n",
       "      <td>0.329</td>\n",
       "      <td>0.329</td>\n",
       "    </tr>\n",
       "    <tr>\n",
       "      <th>ExtraTrees</th>\n",
       "      <td>0.304</td>\n",
       "      <td>0.304</td>\n",
       "      <td>0.304</td>\n",
       "      <td>0.304</td>\n",
       "    </tr>\n",
       "  </tbody>\n",
       "</table>\n",
       "</div>"
      ],
      "text/plain": [
       "                     Accuracy  Precision  Recall  F1-Score\n",
       "Algorithm                                                 \n",
       "Logistic Regression     0.327      0.327   0.327     0.327\n",
       "Random Forest           0.306      0.306   0.306     0.306\n",
       "XGBoost                 0.329      0.329   0.329     0.329\n",
       "ExtraTrees              0.304      0.304   0.304     0.304"
      ]
     },
     "execution_count": 31,
     "metadata": {},
     "output_type": "execute_result"
    }
   ],
   "source": [
    "#TEST\n",
    "results=pd.DataFrame({'Algorithm':['Logistic Regression','Random Forest','XGBoost', 'ExtraTrees'],\n",
    "                     'Accuracy':[lr_acc,rf_acc, xgb_acc, et_acc],\n",
    "                     'Precision':[lr_pr,rf_pr, xgb_pr, et_pr],\n",
    "                     'Recall':[lr_rc,rf_rc, xgb_rc, et_rc],\n",
    "                     'F1-Score':[lr_f1,rf_f1, xgb_f1, et_f1]})\n",
    "results.set_index('Algorithm', inplace=True)\n",
    "results"
   ]
  },
  {
   "cell_type": "markdown",
   "metadata": {},
   "source": [
    "### FEATURE IMPORTANCE PLOT USING RANDOM FOREST"
   ]
  },
  {
   "cell_type": "code",
   "execution_count": 49,
   "metadata": {},
   "outputs": [
    {
     "data": {
      "image/png": "[encoded data removed]",
      "text/plain": [
       "<Figure size 720x360 with 1 Axes>"
      ]
     },
     "metadata": {
      "needs_background": "light"
     },
     "output_type": "display_data"
    }
   ],
   "source": [
    "feature_indices = np.argsort(rf.feature_importances_)\n",
    "fi = pd.DataFrame(index=X.columns[feature_indices], data=np.sort(rf.feature_importances_))\n",
    "fi.sort_values(by=0, ascending=False, inplace=True)\n",
    "ax = fi.plot(kind=\"bar\", title=\"Feature Importances\", figsize=(10, 5))\n",
    "ax.legend_.remove()\n",
    "sns.despine(left=True);\n",
    "plt.tight_layout() "
   ]
  },
  {
   "cell_type": "markdown",
   "metadata": {},
   "source": [
    "* It is seen that the most important feature is the standard deviation of the difference from previous days of the customer visit, mean number of visits, visits on Sunday & Saturday"
   ]
  },
  {
   "cell_type": "markdown",
   "metadata": {},
   "source": [
    "### DEEP LEARNING MODEL  : FEED-FORWARD NEURAL NETWORK"
   ]
  },
  {
   "cell_type": "code",
   "execution_count": 27,
   "metadata": {},
   "outputs": [
    {
     "name": "stderr",
     "output_type": "stream",
     "text": [
      "Using TensorFlow backend.\n"
     ]
    },
    {
     "name": "stdout",
     "output_type": "stream",
     "text": [
      "WARNING:tensorflow:From C:\\Users\\Ali\\Anaconda3\\lib\\site-packages\\tensorflow\\python\\framework\\op_def_library.py:263: colocate_with (from tensorflow.python.framework.ops) is deprecated and will be removed in a future version.\n",
      "Instructions for updating:\n",
      "Colocations handled automatically by placer.\n"
     ]
    }
   ],
   "source": [
    "from keras.models import Sequential\n",
    "from keras.layers import Dense\n",
    "from keras.layers import Dropout\n",
    "from keras.callbacks import EarlyStopping\n",
    "from keras.callbacks import ModelCheckpoint\n",
    "\n",
    "classifier = Sequential()\n",
    "\n",
    "classifier.add(Dense(units = 40, kernel_initializer = 'uniform', activation = 'relu',\n",
    "                     input_dim = X_train.shape[1]))\n",
    "\n",
    "classifier.add(Dense(units = 20, kernel_initializer = 'uniform', activation = 'relu'))\n",
    "\n",
    "classifier.add(Dense(units = 8, kernel_initializer = 'uniform', activation = 'relu'))\n",
    "\n",
    "classifier.add(Dense(units = 7, kernel_initializer = 'uniform', activation = 'softmax'))\n",
    "classifier.compile(optimizer = 'Adam', loss = 'sparse_categorical_crossentropy',\n",
    "                   metrics = ['accuracy'])"
   ]
  },
  {
   "cell_type": "code",
   "execution_count": 28,
   "metadata": {
    "scrolled": true
   },
   "outputs": [
    {
     "name": "stdout",
     "output_type": "stream",
     "text": [
      "WARNING:tensorflow:From C:\\Users\\Ali\\Anaconda3\\lib\\site-packages\\tensorflow\\python\\ops\\math_ops.py:3066: to_int32 (from tensorflow.python.ops.math_ops) is deprecated and will be removed in a future version.\n",
      "Instructions for updating:\n",
      "Use tf.cast instead.\n",
      "Train on 240000 samples, validate on 60000 samples\n",
      "Epoch 1/50\n",
      "240000/240000 [==============================] - 39s 164us/step - loss: 1.7519 - acc: 0.3093 - val_loss: 1.7501 - val_acc: 0.3094\n",
      "Epoch 2/50\n",
      "240000/240000 [==============================] - 20s 82us/step - loss: 1.7429 - acc: 0.3156 - val_loss: 1.7422 - val_acc: 0.3237\n",
      "Epoch 3/50\n",
      "240000/240000 [==============================] - 20s 82us/step - loss: 1.7327 - acc: 0.3259 - val_loss: 1.7318 - val_acc: 0.3278\n",
      "Epoch 4/50\n",
      "240000/240000 [==============================] - 20s 82us/step - loss: 1.7280 - acc: 0.3274 - val_loss: 1.7289 - val_acc: 0.3275\n",
      "Epoch 5/50\n",
      "240000/240000 [==============================] - 20s 82us/step - loss: 1.7270 - acc: 0.3279 - val_loss: 1.7314 - val_acc: 0.3266\n",
      "Epoch 6/50\n",
      "240000/240000 [==============================] - 20s 82us/step - loss: 1.7264 - acc: 0.3277 - val_loss: 1.7276 - val_acc: 0.3281\n",
      "Epoch 7/50\n",
      "240000/240000 [==============================] - 20s 82us/step - loss: 1.7259 - acc: 0.3279 - val_loss: 1.7294 - val_acc: 0.3262\n",
      "Epoch 8/50\n",
      "240000/240000 [==============================] - 20s 82us/step - loss: 1.7256 - acc: 0.3277 - val_loss: 1.7269 - val_acc: 0.3276\n",
      "Epoch 9/50\n",
      "240000/240000 [==============================] - 20s 82us/step - loss: 1.7252 - acc: 0.3279 - val_loss: 1.7282 - val_acc: 0.3281\n",
      "Epoch 10/50\n",
      "240000/240000 [==============================] - 20s 83us/step - loss: 1.7250 - acc: 0.3278 - val_loss: 1.7279 - val_acc: 0.3261\n",
      "Epoch 11/50\n",
      "240000/240000 [==============================] - 20s 82us/step - loss: 1.7246 - acc: 0.3286 - val_loss: 1.7275 - val_acc: 0.3283\n",
      "Epoch 12/50\n",
      "240000/240000 [==============================] - 20s 81us/step - loss: 1.7242 - acc: 0.3287 - val_loss: 1.7278 - val_acc: 0.3283\n",
      "Epoch 13/50\n",
      "240000/240000 [==============================] - 20s 83us/step - loss: 1.7239 - acc: 0.3289 - val_loss: 1.7268 - val_acc: 0.3290\n",
      "Epoch 14/50\n",
      "240000/240000 [==============================] - 21s 86us/step - loss: 1.7237 - acc: 0.3287 - val_loss: 1.7280 - val_acc: 0.3271\n",
      "Epoch 15/50\n",
      "240000/240000 [==============================] - 21s 87us/step - loss: 1.7234 - acc: 0.3290 - val_loss: 1.7267 - val_acc: 0.3281\n",
      "Epoch 16/50\n",
      "240000/240000 [==============================] - 21s 86us/step - loss: 1.7231 - acc: 0.3287 - val_loss: 1.7266 - val_acc: 0.3278\n",
      "Epoch 17/50\n",
      "240000/240000 [==============================] - 20s 84us/step - loss: 1.7227 - acc: 0.3289 - val_loss: 1.7287 - val_acc: 0.3270\n",
      "Epoch 18/50\n",
      "240000/240000 [==============================] - 20s 81us/step - loss: 1.7226 - acc: 0.3286 - val_loss: 1.7258 - val_acc: 0.3285\n",
      "Epoch 19/50\n",
      "240000/240000 [==============================] - 20s 82us/step - loss: 1.7221 - acc: 0.3288 - val_loss: 1.7287 - val_acc: 0.3267\n",
      "Epoch 20/50\n",
      "240000/240000 [==============================] - 20s 82us/step - loss: 1.7221 - acc: 0.3285 - val_loss: 1.7283 - val_acc: 0.3267\n",
      "Epoch 21/50\n",
      "240000/240000 [==============================] - 20s 82us/step - loss: 1.7218 - acc: 0.3291 - val_loss: 1.7261 - val_acc: 0.3291\n",
      "Epoch 22/50\n",
      "240000/240000 [==============================] - 20s 82us/step - loss: 1.7214 - acc: 0.3287 - val_loss: 1.7277 - val_acc: 0.3271\n",
      "Epoch 23/50\n",
      "240000/240000 [==============================] - 20s 82us/step - loss: 1.7212 - acc: 0.3287 - val_loss: 1.7269 - val_acc: 0.3296\n",
      "Epoch 24/50\n",
      "240000/240000 [==============================] - 20s 82us/step - loss: 1.7210 - acc: 0.3294 - val_loss: 1.7259 - val_acc: 0.3286\n",
      "Epoch 25/50\n",
      "240000/240000 [==============================] - 20s 82us/step - loss: 1.7208 - acc: 0.3294 - val_loss: 1.7274 - val_acc: 0.3277\n",
      "Epoch 26/50\n",
      "240000/240000 [==============================] - 20s 82us/step - loss: 1.7205 - acc: 0.3288 - val_loss: 1.7273 - val_acc: 0.3281\n",
      "Epoch 27/50\n",
      "240000/240000 [==============================] - 20s 82us/step - loss: 1.7204 - acc: 0.3296 - val_loss: 1.7256 - val_acc: 0.3294\n",
      "Epoch 28/50\n",
      "240000/240000 [==============================] - 20s 82us/step - loss: 1.7203 - acc: 0.3295 - val_loss: 1.7250 - val_acc: 0.3285\n",
      "Epoch 29/50\n",
      "240000/240000 [==============================] - 20s 82us/step - loss: 1.7199 - acc: 0.3291 - val_loss: 1.7259 - val_acc: 0.3279\n",
      "Epoch 30/50\n",
      "240000/240000 [==============================] - 20s 82us/step - loss: 1.7198 - acc: 0.3295 - val_loss: 1.7256 - val_acc: 0.3283\n",
      "Epoch 31/50\n",
      "240000/240000 [==============================] - 20s 82us/step - loss: 1.7196 - acc: 0.3301 - val_loss: 1.7249 - val_acc: 0.3286\n",
      "Epoch 32/50\n",
      "240000/240000 [==============================] - 20s 82us/step - loss: 1.7194 - acc: 0.3305 - val_loss: 1.7249 - val_acc: 0.3288\n",
      "Epoch 33/50\n",
      "240000/240000 [==============================] - 20s 82us/step - loss: 1.7192 - acc: 0.3299 - val_loss: 1.7270 - val_acc: 0.3294\n",
      "Epoch 34/50\n",
      "240000/240000 [==============================] - 20s 82us/step - loss: 1.7193 - acc: 0.3303 - val_loss: 1.7240 - val_acc: 0.3288\n",
      "Epoch 35/50\n",
      "240000/240000 [==============================] - 20s 82us/step - loss: 1.7187 - acc: 0.3299 - val_loss: 1.7242 - val_acc: 0.3292\n",
      "Epoch 36/50\n",
      "240000/240000 [==============================] - 20s 82us/step - loss: 1.7188 - acc: 0.3298 - val_loss: 1.7248 - val_acc: 0.3297\n",
      "Epoch 37/50\n",
      "240000/240000 [==============================] - 20s 82us/step - loss: 1.7186 - acc: 0.3302 - val_loss: 1.7254 - val_acc: 0.3286\n",
      "Epoch 38/50\n",
      "240000/240000 [==============================] - 20s 82us/step - loss: 1.7180 - acc: 0.3297 - val_loss: 1.7257 - val_acc: 0.3285\n",
      "Epoch 39/50\n",
      "240000/240000 [==============================] - 20s 82us/step - loss: 1.7179 - acc: 0.3297 - val_loss: 1.7256 - val_acc: 0.3275\n",
      "Epoch 40/50\n",
      "240000/240000 [==============================] - 19s 81us/step - loss: 1.7177 - acc: 0.3304 - val_loss: 1.7258 - val_acc: 0.3264\n",
      "Epoch 41/50\n",
      "240000/240000 [==============================] - 19s 81us/step - loss: 1.7178 - acc: 0.3301 - val_loss: 1.7252 - val_acc: 0.3283\n",
      "Epoch 42/50\n",
      "240000/240000 [==============================] - 20s 82us/step - loss: 1.7175 - acc: 0.3302 - val_loss: 1.7228 - val_acc: 0.3286\n",
      "Epoch 43/50\n",
      "240000/240000 [==============================] - 20s 81us/step - loss: 1.7174 - acc: 0.3302 - val_loss: 1.7242 - val_acc: 0.3279\n",
      "Epoch 44/50\n",
      "240000/240000 [==============================] - 19s 81us/step - loss: 1.7173 - acc: 0.3301 - val_loss: 1.7230 - val_acc: 0.3295\n",
      "Epoch 45/50\n",
      "240000/240000 [==============================] - 19s 81us/step - loss: 1.7173 - acc: 0.3306 - val_loss: 1.7260 - val_acc: 0.3272\n",
      "Epoch 46/50\n",
      "240000/240000 [==============================] - 19s 81us/step - loss: 1.7170 - acc: 0.3303 - val_loss: 1.7233 - val_acc: 0.3284\n",
      "Epoch 47/50\n",
      "240000/240000 [==============================] - 20s 81us/step - loss: 1.7167 - acc: 0.3303 - val_loss: 1.7244 - val_acc: 0.3299\n",
      "Epoch 48/50\n",
      "240000/240000 [==============================] - 20s 81us/step - loss: 1.7168 - acc: 0.3307 - val_loss: 1.7248 - val_acc: 0.3288\n",
      "Epoch 49/50\n",
      "240000/240000 [==============================] - 20s 81us/step - loss: 1.7166 - acc: 0.3302 - val_loss: 1.7237 - val_acc: 0.3297\n",
      "Epoch 50/50\n",
      "240000/240000 [==============================] - 19s 81us/step - loss: 1.7163 - acc: 0.3301 - val_loss: 1.7253 - val_acc: 0.3274\n"
     ]
    },
    {
     "data": {
      "text/plain": [
       "<keras.callbacks.History at 0x1ac4123f668>"
      ]
     },
     "execution_count": 28,
     "metadata": {},
     "output_type": "execute_result"
    }
   ],
   "source": [
    "classifier.fit(X_train, y_train, epochs =50, batch_size=32, validation_data=(X_test, y_test), \n",
    "               callbacks=[EarlyStopping(monitor='val_loss', patience=10, min_delta=0.0001)], verbose=1)"
   ]
  },
  {
   "cell_type": "code",
   "execution_count": 30,
   "metadata": {},
   "outputs": [
    {
     "name": "stdout",
     "output_type": "stream",
     "text": [
      "Accuracy: 0.3274\n",
      "Precision: 0.3274\n",
      "Recall: 0.3274\n",
      "F1 Score: 0.3274\n"
     ]
    }
   ],
   "source": [
    "y_pred = classifier.predict(X_test)\n",
    "y_pred = np.argmax(y_pred, axis=1)\n",
    "\n",
    "from sklearn.metrics import f1_score, precision_score, confusion_matrix, recall_score, accuracy_score\n",
    "nn_acc=accuracy_score(y_test, y_pred)\n",
    "nn_pr=precision_score(y_test, y_pred,average='micro') \n",
    "nn_f1=f1_score(y_test, y_pred,average='micro') \n",
    "nn_rc=recall_score(y_test, y_pred,average='micro') \n",
    "\n",
    "print('Accuracy:',nn_acc)\n",
    "print('Precision:',nn_pr)\n",
    "print('Recall:',nn_rc)\n",
    "print('F1 Score:',nn_f1)"
   ]
  },
  {
   "cell_type": "markdown",
   "metadata": {},
   "source": [
    "## FURTHER IMPROVEMENTS\n",
    "\n",
    "1. Engineer more informative Features/Auto- feature generation\n",
    "2. Optimize the models hyperparameters\n",
    "3. Perform feature selectiom/Extraction\n",
    "4. Improve Performance With Ensembles/ Stacking\n",
    "5. Segment the customers with similar behavior into groups, thereby creating seperate model for each segment to improve prediction performance"
   ]
  }
 ],
 "metadata": {
  "kernelspec": {
   "display_name": "Python 3",
   "language": "python",
   "name": "python3"
  },
  "language_info": {
   "codemirror_mode": {
    "name": "ipython",
    "version": 3
   },
   "file_extension": ".py",
   "mimetype": "text/x-python",
   "name": "python",
   "nbconvert_exporter": "python",
   "pygments_lexer": "ipython3",
   "version": "3.7.3"
  }
 },
 "nbformat": 4,
 "nbformat_minor": 2
}
