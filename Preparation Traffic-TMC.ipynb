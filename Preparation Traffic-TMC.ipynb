{
 "cells": [
  {
   "cell_type": "markdown",
   "metadata": {},
   "source": [
    "### FILE DETAILS \n",
    "requestId= 34952\n",
    "\n",
    "1. RequestType : AGGREGATED_PROBE_PATH\n",
    "2. Vehicle Type : ALL\n",
    "3. BeginDate : 2019-02-02\n",
    "4. EndDate : 2019-03-04\n",
    "5. OutputType : TMC\n",
    "6. RecordCount : 31997952\n",
    "7. Total TMC Count : 3584"
   ]
  },
  {
   "cell_type": "code",
   "execution_count": 1,
   "metadata": {},
   "outputs": [],
   "source": [
    "import numpy as np\n",
    "import pandas as pd\n",
    "import matplotlib.pyplot as plt\n",
    "import seaborn as sns"
   ]
  },
  {
   "cell_type": "code",
   "execution_count": 19,
   "metadata": {},
   "outputs": [],
   "source": [
    "df=pd.read_csv('Feb02-March04 TMC\\HERE_DA_34952_00000.csv')"
   ]
  },
  {
   "cell_type": "code",
   "execution_count": 20,
   "metadata": {},
   "outputs": [
    {
     "data": {
      "text/html": [
       "<div>\n",
       "<style scoped>\n",
       "    .dataframe tbody tr th:only-of-type {\n",
       "        vertical-align: middle;\n",
       "    }\n",
       "\n",
       "    .dataframe tbody tr th {\n",
       "        vertical-align: top;\n",
       "    }\n",
       "\n",
       "    .dataframe thead th {\n",
       "        text-align: right;\n",
       "    }\n",
       "</style>\n",
       "<table border=\"1\" class=\"dataframe\">\n",
       "  <thead>\n",
       "    <tr style=\"text-align: right;\">\n",
       "      <th></th>\n",
       "      <th>TMC</th>\n",
       "      <th>DATE-TIME</th>\n",
       "      <th>EPOCH-5MIN</th>\n",
       "      <th>LENGTH</th>\n",
       "      <th>FREEFLOW</th>\n",
       "      <th>SPDLIMIT</th>\n",
       "      <th>COUNT</th>\n",
       "      <th>MEAN</th>\n",
       "      <th>STDDEV</th>\n",
       "      <th>MIN</th>\n",
       "      <th>MAX</th>\n",
       "      <th>CONFIDENCE</th>\n",
       "      <th>PCT-50</th>\n",
       "      <th>PCT-90</th>\n",
       "      <th>GAPFILL</th>\n",
       "    </tr>\n",
       "  </thead>\n",
       "  <tbody>\n",
       "    <tr>\n",
       "      <th>0</th>\n",
       "      <td>D19N00069</td>\n",
       "      <td>2019-02-02 00:00</td>\n",
       "      <td>0</td>\n",
       "      <td>6586</td>\n",
       "      <td>118.1</td>\n",
       "      <td>120.0</td>\n",
       "      <td>55</td>\n",
       "      <td>121.4</td>\n",
       "      <td>8.8</td>\n",
       "      <td>104</td>\n",
       "      <td>130</td>\n",
       "      <td>40</td>\n",
       "      <td>126</td>\n",
       "      <td>130</td>\n",
       "      <td>N</td>\n",
       "    </tr>\n",
       "    <tr>\n",
       "      <th>1</th>\n",
       "      <td>D19N00069</td>\n",
       "      <td>2019-02-02 00:05</td>\n",
       "      <td>1</td>\n",
       "      <td>6586</td>\n",
       "      <td>118.1</td>\n",
       "      <td>120.0</td>\n",
       "      <td>26</td>\n",
       "      <td>108.1</td>\n",
       "      <td>7.9</td>\n",
       "      <td>100</td>\n",
       "      <td>125</td>\n",
       "      <td>40</td>\n",
       "      <td>104</td>\n",
       "      <td>125</td>\n",
       "      <td>N</td>\n",
       "    </tr>\n",
       "    <tr>\n",
       "      <th>2</th>\n",
       "      <td>D19N00069</td>\n",
       "      <td>2019-02-02 00:10</td>\n",
       "      <td>2</td>\n",
       "      <td>6586</td>\n",
       "      <td>118.1</td>\n",
       "      <td>120.0</td>\n",
       "      <td>12</td>\n",
       "      <td>130.4</td>\n",
       "      <td>1.4</td>\n",
       "      <td>130</td>\n",
       "      <td>135</td>\n",
       "      <td>40</td>\n",
       "      <td>130</td>\n",
       "      <td>134</td>\n",
       "      <td>N</td>\n",
       "    </tr>\n",
       "  </tbody>\n",
       "</table>\n",
       "</div>"
      ],
      "text/plain": [
       "         TMC         DATE-TIME  EPOCH-5MIN  LENGTH  FREEFLOW  SPDLIMIT  COUNT  \\\n",
       "0  D19N00069  2019-02-02 00:00           0    6586     118.1     120.0     55   \n",
       "1  D19N00069  2019-02-02 00:05           1    6586     118.1     120.0     26   \n",
       "2  D19N00069  2019-02-02 00:10           2    6586     118.1     120.0     12   \n",
       "\n",
       "    MEAN  STDDEV  MIN  MAX  CONFIDENCE  PCT-50  PCT-90 GAPFILL  \n",
       "0  121.4     8.8  104  130          40     126     130       N  \n",
       "1  108.1     7.9  100  125          40     104     125       N  \n",
       "2  130.4     1.4  130  135          40     130     134       N  "
      ]
     },
     "execution_count": 20,
     "metadata": {},
     "output_type": "execute_result"
    }
   ],
   "source": [
    "df.head(3)"
   ]
  },
  {
   "cell_type": "code",
   "execution_count": 5,
   "metadata": {},
   "outputs": [
    {
     "name": "stdout",
     "output_type": "stream",
     "text": [
      "Total number of records are :  31997952\n",
      "Unique TMC Counts in Dubai are :  3584\n"
     ]
    }
   ],
   "source": [
    "print('Total number of records are : ',df.shape[0])\n",
    "print('Unique TMC Counts in Dubai are : ',df.TMC.nunique())"
   ]
  },
  {
   "cell_type": "code",
   "execution_count": 6,
   "metadata": {},
   "outputs": [
    {
     "name": "stdout",
     "output_type": "stream",
     "text": [
      "<class 'pandas.core.frame.DataFrame'>\n",
      "RangeIndex: 31997952 entries, 0 to 31997951\n",
      "Data columns (total 15 columns):\n",
      "TMC           object\n",
      "DATE-TIME     object\n",
      "EPOCH-5MIN    int64\n",
      "LENGTH        int64\n",
      "FREEFLOW      float64\n",
      "SPDLIMIT      float64\n",
      "COUNT         int64\n",
      "MEAN          float64\n",
      "STDDEV        float64\n",
      "MIN           int64\n",
      "MAX           int64\n",
      "CONFIDENCE    int64\n",
      "PCT-50        int64\n",
      "PCT-90        int64\n",
      "GAPFILL       object\n",
      "dtypes: float64(4), int64(8), object(3)\n",
      "memory usage: 3.6+ GB\n"
     ]
    }
   ],
   "source": [
    "df.info()"
   ]
  },
  {
   "cell_type": "markdown",
   "metadata": {},
   "source": [
    "### Selecting Smaller Datatypes.\n",
    "Determine and apply the smallest datatype that can fit the range of values"
   ]
  },
  {
   "cell_type": "code",
   "execution_count": 21,
   "metadata": {},
   "outputs": [],
   "source": [
    "def reduce_mem_usage(props):\n",
    "    start_mem_usg = props.memory_usage().sum() / 1024**2 \n",
    "    print(\"Memory usage of properties dataframe is :\",start_mem_usg,\" MB\")\n",
    "    NAlist = [] # Keeps track of columns that have missing values filled in. \n",
    "    for col in props.columns:\n",
    "        if props[col].dtype != object:  # Exclude strings\n",
    "            \n",
    "            # Print current column type\n",
    "            print(\"******************************\")\n",
    "            print(\"Column: \",col)\n",
    "            print(\"dtype before: \",props[col].dtype)\n",
    "            \n",
    "            # make variables for Int, max and min\n",
    "            IsInt = False\n",
    "            mx = props[col].max()\n",
    "            mn = props[col].min()\n",
    "            \n",
    "            # Integer does not support NA, therefore, NA needs to be filled\n",
    "            if not np.isfinite(props[col]).all(): \n",
    "                NAlist.append(col)\n",
    "                props[col].fillna(mn-1,inplace=True)  \n",
    "                   \n",
    "            # test if column can be converted to an integer\n",
    "            asint = props[col].fillna(0).astype(np.int64)\n",
    "            result = (props[col] - asint)\n",
    "            result = result.sum()\n",
    "            if result > -0.01 and result < 0.01:\n",
    "                IsInt = True\n",
    "\n",
    "            \n",
    "            # Make Integer/unsigned Integer datatypes\n",
    "            if IsInt:\n",
    "                if mn >= 0:\n",
    "                    if mx < 255:\n",
    "                        props[col] = props[col].astype(np.uint8)\n",
    "                    elif mx < 65535:\n",
    "                        props[col] = props[col].astype(np.uint16)\n",
    "                    elif mx < 4294967295:\n",
    "                        props[col] = props[col].astype(np.uint32)\n",
    "                    else:\n",
    "                        props[col] = props[col].astype(np.uint64)\n",
    "                else:\n",
    "                    if mn > np.iinfo(np.int8).min and mx < np.iinfo(np.int8).max:\n",
    "                        props[col] = props[col].astype(np.int8)\n",
    "                    elif mn > np.iinfo(np.int16).min and mx < np.iinfo(np.int16).max:\n",
    "                        props[col] = props[col].astype(np.int16)\n",
    "                    elif mn > np.iinfo(np.int32).min and mx < np.iinfo(np.int32).max:\n",
    "                        props[col] = props[col].astype(np.int32)\n",
    "                    elif mn > np.iinfo(np.int64).min and mx < np.iinfo(np.int64).max:\n",
    "                        props[col] = props[col].astype(np.int64)    \n",
    "            \n",
    "            # Make float datatypes 32 bit\n",
    "            else:\n",
    "                props[col] = props[col].astype(np.float32)\n",
    "            \n",
    "            # Print new column type\n",
    "            print(\"dtype after: \",props[col].dtype)\n",
    "            print(\"******************************\")\n",
    "    \n",
    "    # Print final result\n",
    "    print(\"___MEMORY USAGE AFTER COMPLETION:___\")\n",
    "    mem_usg = props.memory_usage().sum() / 1024**2 \n",
    "    print(\"Memory usage is: \",mem_usg,\" MB\")\n",
    "    print(\"This is \",100*mem_usg/start_mem_usg,\"% of the initial size\")\n",
    "    return props, NAlist"
   ]
  },
  {
   "cell_type": "code",
   "execution_count": 22,
   "metadata": {},
   "outputs": [
    {
     "name": "stdout",
     "output_type": "stream",
     "text": [
      "Memory usage of properties dataframe is : 3661.8750762939453  MB\n",
      "******************************\n",
      "Column:  EPOCH-5MIN\n",
      "dtype before:  int64\n",
      "dtype after:  uint16\n",
      "******************************\n",
      "******************************\n",
      "Column:  LENGTH\n",
      "dtype before:  int64\n",
      "dtype after:  uint16\n",
      "******************************\n",
      "******************************\n",
      "Column:  FREEFLOW\n",
      "dtype before:  float64\n",
      "dtype after:  float32\n",
      "******************************\n",
      "******************************\n",
      "Column:  SPDLIMIT\n",
      "dtype before:  float64\n",
      "dtype after:  float32\n",
      "******************************\n",
      "******************************\n",
      "Column:  COUNT\n",
      "dtype before:  int64\n",
      "dtype after:  uint16\n",
      "******************************\n",
      "******************************\n",
      "Column:  MEAN\n",
      "dtype before:  float64\n",
      "dtype after:  float32\n",
      "******************************\n",
      "******************************\n",
      "Column:  STDDEV\n",
      "dtype before:  float64\n",
      "dtype after:  float32\n",
      "******************************\n",
      "******************************\n",
      "Column:  MIN\n",
      "dtype before:  int64\n",
      "dtype after:  uint16\n",
      "******************************\n",
      "******************************\n",
      "Column:  MAX\n",
      "dtype before:  int64\n",
      "dtype after:  uint16\n",
      "******************************\n",
      "******************************\n",
      "Column:  CONFIDENCE\n",
      "dtype before:  int64\n",
      "dtype after:  uint8\n",
      "******************************\n",
      "******************************\n",
      "Column:  PCT-50\n",
      "dtype before:  int64\n",
      "dtype after:  uint16\n",
      "******************************\n",
      "******************************\n",
      "Column:  PCT-90\n",
      "dtype before:  int64\n",
      "dtype after:  uint16\n",
      "******************************\n",
      "___MEMORY USAGE AFTER COMPLETION:___\n",
      "Memory usage is:  1678.3594512939453  MB\n",
      "This is  45.83333446187776 % of the initial size\n",
      "_________________\n",
      "\n",
      "Warning: the following columns have missing values filled with 'df['column_name'].min() -1': \n",
      "_________________\n",
      "\n",
      "[]\n"
     ]
    }
   ],
   "source": [
    "props, NAlist = reduce_mem_usage(df)\n",
    "print(\"_________________\")\n",
    "print(\"\")\n",
    "print(\"Warning: the following columns have missing values filled with 'df['column_name'].min() -1': \")\n",
    "print(\"_________________\")\n",
    "print(\"\")\n",
    "print(NAlist)"
   ]
  },
  {
   "cell_type": "code",
   "execution_count": 10,
   "metadata": {},
   "outputs": [
    {
     "name": "stdout",
     "output_type": "stream",
     "text": [
      "<class 'pandas.core.frame.DataFrame'>\n",
      "RangeIndex: 31997952 entries, 0 to 31997951\n",
      "Data columns (total 15 columns):\n",
      "TMC           object\n",
      "DATE-TIME     object\n",
      "EPOCH-5MIN    uint16\n",
      "LENGTH        uint16\n",
      "FREEFLOW      float32\n",
      "SPDLIMIT      float32\n",
      "COUNT         uint16\n",
      "MEAN          float32\n",
      "STDDEV        float32\n",
      "MIN           uint16\n",
      "MAX           uint16\n",
      "CONFIDENCE    uint8\n",
      "PCT-50        uint16\n",
      "PCT-90        uint16\n",
      "GAPFILL       object\n",
      "dtypes: float32(4), object(3), uint16(7), uint8(1)\n",
      "memory usage: 1.6+ GB\n"
     ]
    }
   ],
   "source": [
    "df.info()"
   ]
  },
  {
   "cell_type": "code",
   "execution_count": 23,
   "metadata": {},
   "outputs": [
    {
     "data": {
      "text/html": [
       "<div>\n",
       "<style scoped>\n",
       "    .dataframe tbody tr th:only-of-type {\n",
       "        vertical-align: middle;\n",
       "    }\n",
       "\n",
       "    .dataframe tbody tr th {\n",
       "        vertical-align: top;\n",
       "    }\n",
       "\n",
       "    .dataframe thead th {\n",
       "        text-align: right;\n",
       "    }\n",
       "</style>\n",
       "<table border=\"1\" class=\"dataframe\">\n",
       "  <thead>\n",
       "    <tr style=\"text-align: right;\">\n",
       "      <th></th>\n",
       "      <th>TMC</th>\n",
       "      <th>DATE-TIME</th>\n",
       "      <th>EPOCH-5MIN</th>\n",
       "      <th>LENGTH</th>\n",
       "      <th>FREEFLOW</th>\n",
       "      <th>SPDLIMIT</th>\n",
       "      <th>COUNT</th>\n",
       "      <th>MEAN</th>\n",
       "      <th>STDDEV</th>\n",
       "      <th>MIN</th>\n",
       "      <th>MAX</th>\n",
       "      <th>CONFIDENCE</th>\n",
       "      <th>PCT-50</th>\n",
       "      <th>PCT-90</th>\n",
       "      <th>GAPFILL</th>\n",
       "    </tr>\n",
       "  </thead>\n",
       "  <tbody>\n",
       "    <tr>\n",
       "      <th>0</th>\n",
       "      <td>D19N00069</td>\n",
       "      <td>2019-02-02 00:00</td>\n",
       "      <td>0</td>\n",
       "      <td>6586</td>\n",
       "      <td>118.099998</td>\n",
       "      <td>120.0</td>\n",
       "      <td>55</td>\n",
       "      <td>121.400002</td>\n",
       "      <td>8.8</td>\n",
       "      <td>104</td>\n",
       "      <td>130</td>\n",
       "      <td>40</td>\n",
       "      <td>126</td>\n",
       "      <td>130</td>\n",
       "      <td>N</td>\n",
       "    </tr>\n",
       "    <tr>\n",
       "      <th>1</th>\n",
       "      <td>D19N00069</td>\n",
       "      <td>2019-02-02 00:05</td>\n",
       "      <td>1</td>\n",
       "      <td>6586</td>\n",
       "      <td>118.099998</td>\n",
       "      <td>120.0</td>\n",
       "      <td>26</td>\n",
       "      <td>108.099998</td>\n",
       "      <td>7.9</td>\n",
       "      <td>100</td>\n",
       "      <td>125</td>\n",
       "      <td>40</td>\n",
       "      <td>104</td>\n",
       "      <td>125</td>\n",
       "      <td>N</td>\n",
       "    </tr>\n",
       "  </tbody>\n",
       "</table>\n",
       "</div>"
      ],
      "text/plain": [
       "         TMC         DATE-TIME  EPOCH-5MIN  LENGTH    FREEFLOW  SPDLIMIT  \\\n",
       "0  D19N00069  2019-02-02 00:00           0    6586  118.099998     120.0   \n",
       "1  D19N00069  2019-02-02 00:05           1    6586  118.099998     120.0   \n",
       "\n",
       "   COUNT        MEAN  STDDEV  MIN  MAX  CONFIDENCE  PCT-50  PCT-90 GAPFILL  \n",
       "0     55  121.400002     8.8  104  130          40     126     130       N  \n",
       "1     26  108.099998     7.9  100  125          40     104     125       N  "
      ]
     },
     "execution_count": 23,
     "metadata": {},
     "output_type": "execute_result"
    }
   ],
   "source": [
    "df.head(2)"
   ]
  },
  {
   "cell_type": "code",
   "execution_count": 24,
   "metadata": {},
   "outputs": [],
   "source": [
    "df1=df.copy(deep=True)"
   ]
  },
  {
   "cell_type": "code",
   "execution_count": 25,
   "metadata": {},
   "outputs": [],
   "source": [
    "df1['DateTime']=pd.to_datetime(df1['DATE-TIME'])"
   ]
  },
  {
   "cell_type": "code",
   "execution_count": 26,
   "metadata": {},
   "outputs": [
    {
     "data": {
      "text/plain": [
       "Index(['TMC', 'DATE-TIME', 'EPOCH-5MIN', 'LENGTH', 'FREEFLOW', 'SPDLIMIT',\n",
       "       'COUNT', 'MEAN', 'STDDEV', 'MIN', 'MAX', 'CONFIDENCE', 'PCT-50',\n",
       "       'PCT-90', 'GAPFILL', 'DateTime'],\n",
       "      dtype='object')"
      ]
     },
     "execution_count": 26,
     "metadata": {},
     "output_type": "execute_result"
    }
   ],
   "source": [
    "df1.columns"
   ]
  },
  {
   "cell_type": "code",
   "execution_count": 27,
   "metadata": {},
   "outputs": [],
   "source": [
    "del df1['DATE-TIME']"
   ]
  },
  {
   "cell_type": "code",
   "execution_count": 28,
   "metadata": {},
   "outputs": [
    {
     "data": {
      "text/plain": [
       "Index(['TMC', 'EPOCH-5MIN', 'LENGTH', 'FREEFLOW', 'SPDLIMIT', 'COUNT', 'MEAN',\n",
       "       'STDDEV', 'MIN', 'MAX', 'CONFIDENCE', 'PCT-50', 'PCT-90', 'GAPFILL',\n",
       "       'DateTime'],\n",
       "      dtype='object')"
      ]
     },
     "execution_count": 28,
     "metadata": {},
     "output_type": "execute_result"
    }
   ],
   "source": [
    "df1.columns"
   ]
  },
  {
   "cell_type": "code",
   "execution_count": 31,
   "metadata": {},
   "outputs": [
    {
     "data": {
      "text/plain": [
       "TMC                   object\n",
       "EPOCH-5MIN            uint16\n",
       "LENGTH                uint16\n",
       "FREEFLOW             float32\n",
       "SPDLIMIT             float32\n",
       "COUNT                 uint16\n",
       "MEAN                 float32\n",
       "STDDEV               float32\n",
       "MIN                   uint16\n",
       "MAX                   uint16\n",
       "CONFIDENCE             uint8\n",
       "PCT-50                uint16\n",
       "PCT-90                uint16\n",
       "GAPFILL               object\n",
       "DateTime      datetime64[ns]\n",
       "dtype: object"
      ]
     },
     "execution_count": 31,
     "metadata": {},
     "output_type": "execute_result"
    }
   ],
   "source": [
    "df1.dtypes"
   ]
  },
  {
   "cell_type": "code",
   "execution_count": 38,
   "metadata": {},
   "outputs": [
    {
     "data": {
      "text/html": [
       "<div>\n",
       "<style scoped>\n",
       "    .dataframe tbody tr th:only-of-type {\n",
       "        vertical-align: middle;\n",
       "    }\n",
       "\n",
       "    .dataframe tbody tr th {\n",
       "        vertical-align: top;\n",
       "    }\n",
       "\n",
       "    .dataframe thead th {\n",
       "        text-align: right;\n",
       "    }\n",
       "</style>\n",
       "<table border=\"1\" class=\"dataframe\">\n",
       "  <thead>\n",
       "    <tr style=\"text-align: right;\">\n",
       "      <th></th>\n",
       "      <th>TMC</th>\n",
       "      <th>EPOCH-5MIN</th>\n",
       "      <th>LENGTH</th>\n",
       "      <th>FREEFLOW</th>\n",
       "      <th>SPDLIMIT</th>\n",
       "      <th>COUNT</th>\n",
       "      <th>MEAN</th>\n",
       "      <th>STDDEV</th>\n",
       "      <th>MIN</th>\n",
       "      <th>MAX</th>\n",
       "      <th>CONFIDENCE</th>\n",
       "      <th>PCT-50</th>\n",
       "      <th>PCT-90</th>\n",
       "      <th>GAPFILL</th>\n",
       "      <th>DateTime</th>\n",
       "    </tr>\n",
       "  </thead>\n",
       "  <tbody>\n",
       "    <tr>\n",
       "      <th>31997947</th>\n",
       "      <td>D19P09666</td>\n",
       "      <td>283</td>\n",
       "      <td>742</td>\n",
       "      <td>59.0</td>\n",
       "      <td>60.0</td>\n",
       "      <td>0</td>\n",
       "      <td>60.0</td>\n",
       "      <td>0.0</td>\n",
       "      <td>60</td>\n",
       "      <td>60</td>\n",
       "      <td>5</td>\n",
       "      <td>60</td>\n",
       "      <td>60</td>\n",
       "      <td>Y</td>\n",
       "      <td>2019-03-04 23:35:00</td>\n",
       "    </tr>\n",
       "    <tr>\n",
       "      <th>31997948</th>\n",
       "      <td>D19P09666</td>\n",
       "      <td>284</td>\n",
       "      <td>742</td>\n",
       "      <td>59.0</td>\n",
       "      <td>60.0</td>\n",
       "      <td>0</td>\n",
       "      <td>60.0</td>\n",
       "      <td>0.0</td>\n",
       "      <td>60</td>\n",
       "      <td>60</td>\n",
       "      <td>5</td>\n",
       "      <td>60</td>\n",
       "      <td>60</td>\n",
       "      <td>Y</td>\n",
       "      <td>2019-03-04 23:40:00</td>\n",
       "    </tr>\n",
       "    <tr>\n",
       "      <th>31997949</th>\n",
       "      <td>D19P09666</td>\n",
       "      <td>285</td>\n",
       "      <td>742</td>\n",
       "      <td>59.0</td>\n",
       "      <td>60.0</td>\n",
       "      <td>0</td>\n",
       "      <td>60.0</td>\n",
       "      <td>0.0</td>\n",
       "      <td>60</td>\n",
       "      <td>60</td>\n",
       "      <td>5</td>\n",
       "      <td>60</td>\n",
       "      <td>60</td>\n",
       "      <td>Y</td>\n",
       "      <td>2019-03-04 23:45:00</td>\n",
       "    </tr>\n",
       "    <tr>\n",
       "      <th>31997950</th>\n",
       "      <td>D19P09666</td>\n",
       "      <td>286</td>\n",
       "      <td>742</td>\n",
       "      <td>59.0</td>\n",
       "      <td>60.0</td>\n",
       "      <td>2</td>\n",
       "      <td>53.5</td>\n",
       "      <td>0.7</td>\n",
       "      <td>53</td>\n",
       "      <td>54</td>\n",
       "      <td>30</td>\n",
       "      <td>54</td>\n",
       "      <td>54</td>\n",
       "      <td>N</td>\n",
       "      <td>2019-03-04 23:50:00</td>\n",
       "    </tr>\n",
       "    <tr>\n",
       "      <th>31997951</th>\n",
       "      <td>D19P09666</td>\n",
       "      <td>287</td>\n",
       "      <td>742</td>\n",
       "      <td>59.0</td>\n",
       "      <td>60.0</td>\n",
       "      <td>0</td>\n",
       "      <td>54.0</td>\n",
       "      <td>0.0</td>\n",
       "      <td>54</td>\n",
       "      <td>54</td>\n",
       "      <td>25</td>\n",
       "      <td>54</td>\n",
       "      <td>54</td>\n",
       "      <td>Y</td>\n",
       "      <td>2019-03-04 23:55:00</td>\n",
       "    </tr>\n",
       "  </tbody>\n",
       "</table>\n",
       "</div>"
      ],
      "text/plain": [
       "                TMC  EPOCH-5MIN  LENGTH  FREEFLOW  SPDLIMIT  COUNT  MEAN  \\\n",
       "31997947  D19P09666         283     742      59.0      60.0      0  60.0   \n",
       "31997948  D19P09666         284     742      59.0      60.0      0  60.0   \n",
       "31997949  D19P09666         285     742      59.0      60.0      0  60.0   \n",
       "31997950  D19P09666         286     742      59.0      60.0      2  53.5   \n",
       "31997951  D19P09666         287     742      59.0      60.0      0  54.0   \n",
       "\n",
       "          STDDEV  MIN  MAX  CONFIDENCE  PCT-50  PCT-90 GAPFILL  \\\n",
       "31997947     0.0   60   60           5      60      60       Y   \n",
       "31997948     0.0   60   60           5      60      60       Y   \n",
       "31997949     0.0   60   60           5      60      60       Y   \n",
       "31997950     0.7   53   54          30      54      54       N   \n",
       "31997951     0.0   54   54          25      54      54       Y   \n",
       "\n",
       "                    DateTime  \n",
       "31997947 2019-03-04 23:35:00  \n",
       "31997948 2019-03-04 23:40:00  \n",
       "31997949 2019-03-04 23:45:00  \n",
       "31997950 2019-03-04 23:50:00  \n",
       "31997951 2019-03-04 23:55:00  "
      ]
     },
     "execution_count": 38,
     "metadata": {},
     "output_type": "execute_result"
    }
   ],
   "source": [
    "df1.tail()"
   ]
  },
  {
   "cell_type": "markdown",
   "metadata": {},
   "source": [
    "### Feather\n",
    "Feather efficiently stores pandas DataFrame objects on disk. It depends on the Apache Arrow for Python. Feather provides binary columnar serialization for data frames. It is designed to make reading and writing data frames efficient, and to make sharing data across data analysis languages easy."
   ]
  },
  {
   "cell_type": "code",
   "execution_count": 33,
   "metadata": {},
   "outputs": [],
   "source": [
    "import feather"
   ]
  },
  {
   "cell_type": "code",
   "execution_count": 35,
   "metadata": {},
   "outputs": [],
   "source": [
    "df1.to_feather('dubai_TMC.feather')"
   ]
  }
 ],
 "metadata": {
  "kernelspec": {
   "display_name": "Python 3",
   "language": "python",
   "name": "python3"
  },
  "language_info": {
   "codemirror_mode": {
    "name": "ipython",
    "version": 3
   },
   "file_extension": ".py",
   "mimetype": "text/x-python",
   "name": "python",
   "nbconvert_exporter": "python",
   "pygments_lexer": "ipython3",
   "version": "3.7.3"
  }
 },
 "nbformat": 4,
 "nbformat_minor": 2
}
