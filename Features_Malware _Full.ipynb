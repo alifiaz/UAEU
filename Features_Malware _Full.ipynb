{
 "cells": [
  {
   "cell_type": "code",
   "execution_count": 2,
   "metadata": {},
   "outputs": [],
   "source": [
    "# Import dependencies\n",
    "import os #using operating system dependent functionality\n",
    "import csv\n",
    "import zipfile #  read and write files in the ZIP archive format.\n",
    "from io import BytesIO\n",
    "from collections import defaultdict #Provides default values to immutable keys\n",
    "import re #Extract particular data from string\n",
    "import numpy as np\n",
    "import pandas as pd\n",
    "import matplotlib.pyplot as plt\n",
    "%matplotlib inline"
   ]
  },
  {
   "cell_type": "code",
   "execution_count": 3,
   "metadata": {},
   "outputs": [],
   "source": [
    "# list IDs and labels\n",
    "\n",
    "trainids=[]\n",
    "labels=[]\n",
    "with open('trainLabels.csv','r') as f:\n",
    "    r=csv.reader(f)\n",
    "    next(r) # Skip header\n",
    "    for row in r:\n",
    "        trainids.append(row[0])\n",
    "        labels.append(int(row[1]))\n",
    "\n",
    "testids=[]\n",
    "with open('sampleSubmission.csv','r') as f:\n",
    "    r=csv.reader(f)\n",
    "    next(r)\n",
    "    for row in r:\n",
    "        testids.append(row[0])"
   ]
  },
  {
   "cell_type": "code",
   "execution_count": 13,
   "metadata": {},
   "outputs": [
    {
     "data": {
      "text/plain": [
       "(10873, 10868, 10868)"
      ]
     },
     "execution_count": 13,
     "metadata": {},
     "output_type": "execute_result"
    }
   ],
   "source": [
    "len(testids), len(trainids), len(labels)"
   ]
  },
  {
   "cell_type": "code",
   "execution_count": 96,
   "metadata": {},
   "outputs": [
    {
     "name": "stdout",
     "output_type": "stream",
     "text": [
      "500 500\n"
     ]
    }
   ],
   "source": [
    "# For less files\n",
    "files = os.listdir('train/')\n",
    "filenames=[]\n",
    "for file in files:\n",
    "    filenames.append(file.split('.')[0])\n",
    "\n",
    "files1=os.listdir('test/')\n",
    "filenames1=[]\n",
    "for file in files1:\n",
    "    filenames1.append(file.split('.')[0])\n",
    "\n",
    "\n",
    "#trainids=testids\n",
    "trainids=set(filenames) & set(trainids)\n",
    "\n",
    "#testids=trainids\n",
    "testids=set(filenames1) & set(testids)\n",
    "print(len(trainids),len(testids))"
   ]
  },
  {
   "cell_type": "code",
   "execution_count": 4,
   "metadata": {},
   "outputs": [
    {
     "name": "stdout",
     "output_type": "stream",
     "text": [
      "Train\n",
      "\n",
      "Test\n"
     ]
    }
   ],
   "source": [
    "print('Train')\n",
    "a=list(trainids)\n",
    "df_tr = pd.DataFrame({'Id':a})\n",
    "\n",
    "print('\\nTest')\n",
    "b=list(testids)\n",
    "df_te = pd.DataFrame({'Id':b})"
   ]
  },
  {
   "cell_type": "code",
   "execution_count": 5,
   "metadata": {},
   "outputs": [
    {
     "data": {
      "text/plain": [
       "((10868, 1), (10873, 1))"
      ]
     },
     "execution_count": 5,
     "metadata": {},
     "output_type": "execute_result"
    }
   ],
   "source": [
    "df_tr.shape,df_te.shape"
   ]
  },
  {
   "cell_type": "code",
   "execution_count": 6,
   "metadata": {},
   "outputs": [
    {
     "data": {
      "text/html": [
       "<div>\n",
       "<style scoped>\n",
       "    .dataframe tbody tr th:only-of-type {\n",
       "        vertical-align: middle;\n",
       "    }\n",
       "\n",
       "    .dataframe tbody tr th {\n",
       "        vertical-align: top;\n",
       "    }\n",
       "\n",
       "    .dataframe thead th {\n",
       "        text-align: right;\n",
       "    }\n",
       "</style>\n",
       "<table border=\"1\" class=\"dataframe\">\n",
       "  <thead>\n",
       "    <tr style=\"text-align: right;\">\n",
       "      <th></th>\n",
       "      <th>Id</th>\n",
       "    </tr>\n",
       "  </thead>\n",
       "  <tbody>\n",
       "    <tr>\n",
       "      <th>0</th>\n",
       "      <td>01kcPWA9K2BOxQeS5Rju</td>\n",
       "    </tr>\n",
       "    <tr>\n",
       "      <th>1</th>\n",
       "      <td>04EjIdbPV5e1XroFOpiN</td>\n",
       "    </tr>\n",
       "    <tr>\n",
       "      <th>2</th>\n",
       "      <td>05EeG39MTRrI6VY21DPd</td>\n",
       "    </tr>\n",
       "  </tbody>\n",
       "</table>\n",
       "</div>"
      ],
      "text/plain": [
       "                     Id\n",
       "0  01kcPWA9K2BOxQeS5Rju\n",
       "1  04EjIdbPV5e1XroFOpiN\n",
       "2  05EeG39MTRrI6VY21DPd"
      ]
     },
     "execution_count": 6,
     "metadata": {},
     "output_type": "execute_result"
    }
   ],
   "source": [
    "df_tr.head(3)"
   ]
  },
  {
   "cell_type": "code",
   "execution_count": 7,
   "metadata": {},
   "outputs": [],
   "source": [
    "df=pd.read_csv('trainLabels.csv')\n",
    "df_tr=pd.merge(df_tr,df, how='inner', on='Id')\n",
    "\n",
    "#df1=pd.read_csv('sampleSubmission.csv')\n",
    "#df_te=pd.merge(df_te,df1, how='inner', on='Id')"
   ]
  },
  {
   "cell_type": "code",
   "execution_count": 38,
   "metadata": {},
   "outputs": [
    {
     "data": {
      "image/png": "[encoded data removed]",
      "text/plain": [
       "<Figure size 432x288 with 1 Axes>"
      ]
     },
     "metadata": {
      "needs_background": "light"
     },
     "output_type": "display_data"
    }
   ],
   "source": [
    "df_tr.Class.value_counts().plot(kind='bar')\n",
    "plt.title('Malware Distribution')\n",
    "plt.box(on=False)"
   ]
  },
  {
   "cell_type": "markdown",
   "metadata": {},
   "source": [
    "### 1. General Functions"
   ]
  },
  {
   "cell_type": "code",
   "execution_count": 101,
   "metadata": {},
   "outputs": [],
   "source": [
    "def readdata(fname,header=True,selectedcols=None):\n",
    "    with open(fname,'r') as f:\n",
    "        r=csv.reader(f)\n",
    "        names = next(r) if header else None\n",
    "        if selectedcols:\n",
    "            assert header==True\n",
    "            data = [[float(e) for i,e in enumerate(row) if names[i] in selectedcols] for row in r]\n",
    "            names = [name for name in names if name in selectedcols]\n",
    "        else:\n",
    "            data = [[float(e) for e in row] for row in r]\n",
    "    return data,names\n",
    "\n",
    "def writedata(data,fname,header=None):\n",
    "    with open(fname,'w') as f:\n",
    "        w=csv.writer(f)\n",
    "        if header:\n",
    "            w.writerow(header)\n",
    "        for row in data:\n",
    "            w.writerow(row)"
   ]
  },
  {
   "cell_type": "markdown",
   "metadata": {},
   "source": [
    "###  2. Extract File Properties"
   ]
  },
  {
   "cell_type": "code",
   "execution_count": 102,
   "metadata": {},
   "outputs": [],
   "source": [
    "\"\"\"\n",
    "function getcompressedsize\n",
    "input: path to file\n",
    "output: compressed size of file\n",
    "* read file and compress it in memory\n",
    "\"\"\"\n",
    "def getcompressedsize(fpath):\n",
    "    inMemoryOutputFile = BytesIO()\n",
    "    zf = zipfile.ZipFile(inMemoryOutputFile, 'w') \n",
    "    zf.write(fpath, compress_type=zipfile.ZIP_DEFLATED) #Compression\n",
    "    s = float(zf.infolist()[0].compress_size)\n",
    "    zf.close()\n",
    "    return s"
   ]
  },
  {
   "cell_type": "code",
   "execution_count": 103,
   "metadata": {},
   "outputs": [],
   "source": [
    "\"\"\"\n",
    "function writefileprops\n",
    "input: ids of trainset or testset, string \"train\" or \"test\"\n",
    "output: writes train_fileprops or test_fileprops\n",
    "* extract file properties (size, compressed size, ratios) from all files in train or test set\n",
    "\"\"\"\n",
    "def writefileprops(ids,trainortest):\n",
    "    with open('%s_fileprops.csv'%trainortest,'w',newline='') as f:\n",
    "        w=csv.writer(f)\n",
    "        w.writerow(['asmSize','bytesSize',\n",
    "                    'asmCompressionRate','bytesCompressionRate',\n",
    "                    'ab_ratio','abc_ratio','ab2abc_ratio'])\n",
    "        for i in ids:\n",
    "            asmsiz=float(os.path.getsize('%s/'%trainortest+i+'.asm'))\n",
    "            bytsiz=float(os.path.getsize('%s/'%trainortest+i+'.bytes'))\n",
    "            asmcr=getcompressedsize('%s/'%trainortest+i+'.asm')/asmsiz\n",
    "            bytcr=getcompressedsize('%s/'%trainortest+i+'.bytes')/bytsiz\n",
    "            ab=asmsiz/bytsiz\n",
    "            abc=asmcr/bytcr\n",
    "            w.writerow([asmsiz,bytsiz,asmcr,bytcr,ab,abc,ab/abc])\n",
    "            f.flush()\n",
    "        f.close()"
   ]
  },
  {
   "cell_type": "markdown",
   "metadata": {},
   "source": [
    "### 3. Extract asm Contents"
   ]
  },
  {
   "cell_type": "code",
   "execution_count": 39,
   "metadata": {},
   "outputs": [],
   "source": [
    "\"\"\"\n",
    "the following three selections (on sections, dlls and opcodes) can be verified by looking\n",
    "at the metadata files that are written during feature extraction. They are added here to\n",
    "illustrate what the features mean, and to make the code more readible\n",
    "\"\"\"\n",
    "\n",
    "# sections that occur in at least 5 files from the trainset:\n",
    "selsections=['.2', '.3', '.CRT', '.Lax503', '.Much', '.Pav', '.RDATA', '.Racy',\n",
    "             '.Re82', '.Reel', '.Sty', '.Tls', '.adata', '.bas', '.bas0', '.brick',\n",
    "             '.bss', '.code', '.cud', '.data', '.data1', '.edata', '.gnu_deb', '.hdata',\n",
    "             '.icode', '.idata', '.laor', '.ndata', '.orpc', '.pdata', '.rata', '.rdat',\n",
    "             '.rdata', '.reloc', '.rsrc', '.sdbid', '.sforce3', '.text', '.text1', '.tls',\n",
    "             '.xdata', '.zenc', 'BSS', 'CODE', 'DATA', 'GAP', 'HEADER', 'Hc%37c',\n",
    "             'JFsX_', 'UPX0', 'UPX1', 'Xd_?_mf', '_0', '_1', '_2', '_3',\n",
    "             '_4', '_5', 'bss', 'code', 'seg000', 'seg001', 'seg002', 'seg003',\n",
    "             'seg004']\n",
    "\n",
    "# dlls that occur in at least 30 files from the trainset:\n",
    "seldlls=['', '*', '2', '32', 'advapi32', 'advpack', 'api', 'apphelp',\n",
    "         'avicap32', 'clbcatq', 'comctl32', 'comdlg32', 'crypt32', 'dbghelp', 'dpnet', 'dsound',\n",
    "         'e', 'gdi32', 'gdiplus', 'imm32', 'iphlpapi', 'kernel32', 'libgcj_s', 'libvlccore',\n",
    "         'mapi32', 'mfc42', 'mlang', 'mpr', 'msasn1', 'mscms', 'mscoree', 'msdart',\n",
    "         'msi', 'msimg32', 'msvcp60', 'msvcp71', 'msvcp80', 'msvcr71', 'msvcr80', 'msvcr90',\n",
    "         'msvcrt', 'msvfw32', 'netapi32', 'ntdll', 'ntdsapi', 'ntmarta', 'ntshrui', 'ole32',\n",
    "         'oleacc', 'oleaut32', 'oledlg', 'opengl32', 'psapi', 'rasapi32', 'riched20', 'riched32',\n",
    "         'rnel32', 'rpcrt4', 'rsaenh', 'secur32', 'security', 'sensapi', 'setupapi', 'shell32',\n",
    "         'shfolder', 'shlwapi', 'tapi32', 'unicows', 'urlmon', 'user32', 'usp10', 'uxtheme',\n",
    "         'version', 'wab32', 'wininet', 'winmm', 'wintrust', 'wldap32', 'ws2_32', 'wsock32',\n",
    "         'xprt5']\n",
    "\n",
    "# opcodes that occur in at least 30 files from the trainset:\n",
    "selopcs=['aad', 'aam', 'adc', 'add', 'addpd', 'addps', 'addsd', 'align',\n",
    "        'and', 'andnps', 'andpd', 'andps', 'arpl', 'assume', 'bound', 'bsf',\n",
    "        'bsr', 'bswap', 'bt', 'btc', 'btr', 'bts', 'call', 'cmova',\n",
    "        'cmovb', 'cmovbe', 'cmovg', 'cmovge', 'cmovl', 'cmovle', 'cmovnb', 'cmovns',\n",
    "        'cmovnz', 'cmovs', 'cmovz', 'cmp', 'cmpeqsd', 'cmpltpd', 'cmps', 'cmpxchg',\n",
    "        'db', 'dd', 'dec', 'div', 'divsd', 'dq', 'dt', 'dw',\n",
    "        'end', 'endp', 'enter', 'fadd', 'faddp', 'fbld', 'fbstp', 'fcmovb',\n",
    "        'fcmovbe', 'fcmove', 'fcmovnb', 'fcmovnbe', 'fcmovne', 'fcmovnu', 'fcmovu', 'fcom',\n",
    "        'fcomi', 'fcomip', 'fcomp', 'fdiv', 'fdivp', 'fdivr', 'fdivrp', 'ffree',\n",
    "        'ffreep', 'fiadd', 'ficom', 'ficomp', 'fidiv', 'fidivr', 'fild', 'fimul',\n",
    "        'fist', 'fistp', 'fisttp', 'fisub', 'fisubr', 'fld', 'fldcw', 'fldenv',\n",
    "        'fmul', 'fmulp', 'fnsave', 'fnstcw', 'fnstenv', 'fnstsw', 'frstor', 'fsave',\n",
    "        'fst', 'fstcw', 'fstp', 'fstsw', 'fsub', 'fsubp', 'fsubr', 'fsubrp',\n",
    "        'fucom', 'fucomi', 'fucomip', 'fucomp', 'fxch', 'hnt', 'hostshort',\n",
    "        'ht', 'idiv', 'imul', 'in', 'inc', 'include', 'int', 'ja', 'jb', 'jbe',\n",
    "        'jecxz', 'jg', 'jge', 'jl', 'jle', 'jmp', 'jnb', 'jno', 'jnp', 'jns',\n",
    "        'jnz', 'jo', 'jp', 'js', 'jz', 'ldmxcsr', 'lds', 'lea', 'les', 'lock',\n",
    "        'lods', 'loop', 'loope', 'loopne', 'mov', 'movapd', 'movaps', 'movd',\n",
    "        'movdqa', 'movhps', 'movlpd', 'movlps', 'movq', 'movs', 'movsd', 'movss',\n",
    "        'movsx', 'movups', 'movzx', 'mul', 'mulpd', 'mulps', 'mulsd', 'neg',\n",
    "        'nop', 'not', 'offset', 'or', 'orpd', 'orps', 'out', 'outs', 'paddb',\n",
    "        'paddd', 'paddq', 'paddsb', 'paddsw', 'paddusb', 'paddusw', 'paddw',\n",
    "        'pand', 'pandn', 'pavgb', 'pcmpeqb', 'pcmpeqd', 'pcmpeqw', 'pcmpgtb',\n",
    "        'pcmpgtd', 'pcmpgtw', 'pextrw', 'piconinfo', 'pinsrw', 'pmaddwd',\n",
    "        'pmaxsw', 'pmulhw', 'pmullw', 'pop', 'por', 'pperrinfo', 'proc',\n",
    "        'pshufd', 'pshufw', 'pslld', 'psllq', 'psllw', 'psrad', 'psraw',\n",
    "        'psrld', 'psrlq', 'psrlw', 'psubb', 'psubd', 'psubq', 'psubsb',\n",
    "        'psubsw', 'psubusb', 'psubusw', 'psubw', 'public', 'punpckhbw',\n",
    "        'punpckhdq', 'punpckhwd', 'punpcklbw', 'punpckldq', 'punpcklwd',\n",
    "        'push', 'pxor', 'rcl', 'rcpps', 'rcr', 'rep', 'repe', 'repne',\n",
    "        'retf', 'retfw', 'retn', 'retnw', 'rgsabound', 'rol', 'ror', 'sal',\n",
    "        'sar', 'sbb', 'scas', 'segment', 'setb', 'setbe', 'setl', 'setle',\n",
    "        'setnb', 'setnbe', 'setnl', 'setnle', 'setns', 'setnz', 'seto',\n",
    "        'sets', 'setz', 'shl', 'shld', 'shr', 'shrd', 'shufps', 'sldt',\n",
    "        'stmxcsr', 'stos', 'sub', 'subpd', 'subps', 'subsd', 'test',\n",
    "        'ucomisd', 'unicode', 'xadd', 'xchg', 'xlat', 'xor', 'xorpd', 'xorps']"
   ]
  },
  {
   "cell_type": "code",
   "execution_count": 49,
   "metadata": {},
   "outputs": [
    {
     "name": "stdout",
     "output_type": "stream",
     "text": [
      "Length selections, .dll extension and opcodes\n",
      " 65 81 280\n"
     ]
    }
   ],
   "source": [
    "print('Length selections, .dll extension and opcodes\\n',len(selsections), len(seldlls), len(selopcs))"
   ]
  },
  {
   "cell_type": "code",
   "execution_count": 50,
   "metadata": {},
   "outputs": [],
   "source": [
    "\"\"\"\n",
    "function getsectioncounts\n",
    "input: list of lines in an asm file\n",
    "output: dictionary with number of lines in each section\n",
    "* count number of lines in each section\n",
    "\"\"\"\n",
    "def getsectioncounts(asmlines):\n",
    "    sectioncounts=defaultdict(int)\n",
    "    for l in asmlines:\n",
    "        sectioncounts[l.split(':')[0]]+=1\n",
    "    return sectioncounts"
   ]
  },
  {
   "cell_type": "code",
   "execution_count": 51,
   "metadata": {},
   "outputs": [],
   "source": [
    "\"\"\"\n",
    "function getcalls\n",
    "input: list of lines in an asm file\n",
    "output: dictionary with number of times each function is found\n",
    "* count number of times each function occurs\n",
    "\"\"\"\n",
    "def getcalls(asmlines):\n",
    "    calls=defaultdict(int)\n",
    "    for l in asmlines:\n",
    "        ls=l.split('__stdcall ')\n",
    "        if len(ls)>1:\n",
    "            calls[ls[1].split('(')[0]]+=1\n",
    "    return calls"
   ]
  },
  {
   "cell_type": "code",
   "execution_count": 52,
   "metadata": {},
   "outputs": [],
   "source": [
    "\"\"\"\n",
    "function getdlls\n",
    "input: list of lines in an asm file\n",
    "output: dictionary with number of times each dll is found\n",
    "* count number of times each dll occurs\n",
    "\"\"\"\n",
    "def getdlls(asmlines):\n",
    "    dlls=defaultdict(int)\n",
    "    for l in asmlines:\n",
    "        ls=l.lower().split('.dll')\n",
    "        if len(ls)>1:\n",
    "            dlls[ls[0].replace('\\'',' ').split(' ')[-1].split('\"')[-1].split('<')[-1].split('\\\\')[-1].split('\\t')[-1]]+=1\n",
    "    return dlls"
   ]
  },
  {
   "cell_type": "code",
   "execution_count": 53,
   "metadata": {},
   "outputs": [],
   "source": [
    "\"\"\"\n",
    "function getopcodeseries\n",
    "input: list of lines in an asm file\n",
    "output: series of opcodes in the order in which they occur\n",
    "* extract all opcodes using regular expressions\n",
    "* first used to create opcode ngrams, but later translated to counts using series2freqs\n",
    "\"\"\"\n",
    "def getopcodeseries(asmlines):\n",
    "    ops=[]\n",
    "    opex=re.compile('(   )([a-z]+)( )')\n",
    "    for l in asmlines:\n",
    "        e=opex.search(l)\n",
    "        if e:\n",
    "            ops.append(e.group(2))\n",
    "    return ops\n",
    "\n",
    "def series2freqs(series):\n",
    "    freqs=defaultdict(int)\n",
    "    for e in series:\n",
    "        freqs[e]+=1\n",
    "    return freqs"
   ]
  },
  {
   "cell_type": "code",
   "execution_count": 54,
   "metadata": {},
   "outputs": [],
   "source": [
    "\"\"\"\n",
    "function getqperc\n",
    "input: list of lines in an asm file\n",
    "output: percent of characters that is a questionmark\n",
    "* count number of questionmarks and divide it by number of characters\n",
    "\"\"\"\n",
    "def getqperc(asmlines):\n",
    "    n=0\n",
    "    nq=0\n",
    "    for l in asmlines:\n",
    "        for c in l:\n",
    "            n+=1\n",
    "            if c=='?':\n",
    "                nq+=1\n",
    "    return float(nq)/n"
   ]
  },
  {
   "cell_type": "code",
   "execution_count": 55,
   "metadata": {},
   "outputs": [],
   "source": [
    "\"\"\"\n",
    "function countbysection\n",
    "input: list of lines in an asm file, list of sections to include, \n",
    "list of characters to include\n",
    "output: number of occurences of each specified character by section, \n",
    "list of feature names, list of characters included\n",
    "* count number of occurences of each specified character by section\n",
    "\"\"\"\n",
    "def countbysection(asmlines,segms,chars=[' ','?','.',',',':',';','+','-','=','[','(','_','*','!','\\\\','/','\\''],namesonly=False):\n",
    "    names=['%s_tot'%ss for ss in selsections]\n",
    "    for c in chars:\n",
    "        names.extend(['%s_c%s'%(ss,c) for ss in selsections])\n",
    "    if namesonly:\n",
    "        return names+['restsegm']+['%s_restchar'%ss for ss in selsections]\n",
    "    ns=len(segms)\n",
    "    nc=len(chars)\n",
    "    segmdict={e:i for i,e in enumerate(segms)}\n",
    "    chardict={e:i for i,e in enumerate(chars)}\n",
    "    counts=[0 for i in range((nc+1)*ns)]\n",
    "    for l in asmlines:\n",
    "        segm=l.split(':')[0]\n",
    "        if segm in segmdict:\n",
    "            s=segmdict[segm]\n",
    "            for ch in l:\n",
    "                counts[s]+=1\n",
    "                if ch in chardict:\n",
    "                    c=chardict[ch]\n",
    "                    counts[ns+c*ns+s]+=1\n",
    "    return counts,names,chars"
   ]
  },
  {
   "cell_type": "code",
   "execution_count": 56,
   "metadata": {},
   "outputs": [],
   "source": [
    "\"\"\"\n",
    "function normalizecountbysection\n",
    "input: output of function countbysection\n",
    "output: normalized number of occurences of each specified character by section\n",
    "* divide number of occurences of each specified character by section by total number\n",
    "* and calculate rest percent of other characters and other sections\n",
    "\"\"\"\n",
    "def normalizecountbysection(counts,names,chars):\n",
    "    d={names[i]:counts[i] for i in range(len(names))}\n",
    "    tot=sum([d['%s_tot'%s] for s in selsections])\n",
    "    d['restsegm']=1.0\n",
    "    for s in selsections:\n",
    "        d['%s_restchar'%s]=0.0\n",
    "        if d['%s_tot'%s] > 0:\n",
    "            d['%s_restchar'%s]=1.0\n",
    "            for c in chars:\n",
    "                d['%s_c%s'%(s,c)]=float(d['%s_c%s'%(s,c)])/d['%s_tot'%s]\n",
    "                d['%s_restchar'%s]-=d['%s_c%s'%(s,c)]\n",
    "            d['%s_tot'%s]=float(d['%s_tot'%s])/tot\n",
    "            d['restsegm']-=d['%s_tot'%s]\n",
    "    return [d[name] for name in names+['restsegm']+['%s_restchar'%ss for ss in selsections]]"
   ]
  },
  {
   "cell_type": "code",
   "execution_count": 57,
   "metadata": {},
   "outputs": [],
   "source": [
    "\"\"\"\n",
    "function writeasmcontents\n",
    "input: ids of trainset or testset, string \"train\" or \"test\"\n",
    "output: writes train_asmcontents or test_asmcontents + metadata on sections, \n",
    "calls, dlls and opcodes\n",
    "* extract features from contents of asm from all files in train or test set\n",
    "* by reading list of asm lines from each file and calling the previous functions\n",
    "\"\"\"\n",
    "def writeasmcontents(ids,trainortest):\n",
    "    with open('%s_asmcontents.csv'%trainortest,'w',newline='') as f:\n",
    "    #with open('%s_asmcontents.csv'%trainortest,'w') as f:\n",
    "        w=csv.writer(f)\n",
    "        w.writerow(\n",
    "            ['sp_%s'%key for key in selsections]\n",
    "            +['dl_%s'%key for key in seldlls]\n",
    "            +['op_%s'%key for key in selopcs]\n",
    "            +['qperc']\n",
    "            +countbysection(None,selsections,namesonly=True)\n",
    "            )\n",
    "        fsec=open('secmetadata%s.txt'%trainortest,'w')\n",
    "        wsec=csv.writer(fsec)\n",
    "        fcal=open('calmetadata%s.txt'%trainortest,'w')\n",
    "        wcal=csv.writer(fcal)\n",
    "        fdll=open('dllmetadata%s.txt'%trainortest,'w')\n",
    "        wdll=csv.writer(fdll)\n",
    "        fopc=open('opcmetadata%s.txt'%trainortest,'w')\n",
    "        wopc=csv.writer(fopc)\n",
    "        for i in ids:\n",
    "            with open('%s/'%trainortest+i+'.asm','r') as fasm:\n",
    "                asmlines=[line for line in fasm.readlines()]\n",
    "            # section counts/ proportions\n",
    "            sc=getsectioncounts(asmlines)\n",
    "            wsec.writerow([i]+['%s:%s'%(key,sc[key]) for key in sc if sc[key]>0])\n",
    "            scsum=sum([sc[key] for key in sc])\n",
    "            secfeat=[float(sc[key])/scsum for key in selsections]\n",
    "            # calls\n",
    "            cal=getcalls(asmlines)\n",
    "            wcal.writerow([i]+['%s:%s'%(key,cal[key]) for key in cal if cal[key]>0])\n",
    "            # dlls\n",
    "            dll=getdlls(asmlines)\n",
    "            wdll.writerow([i]+['%s:%s'%(key,dll[key]) for key in dll if dll[key]>0])\n",
    "            dllfeat=[float(dll[key]) for key in seldlls]\n",
    "            # opcodes\n",
    "            opc=series2freqs(getopcodeseries(asmlines))\n",
    "            wopc.writerow([i]+['%s:%s'%(key,opc[key]) for key in opc if opc[key]>0])\n",
    "            opcfeat=[float(opc[key]) for key in selopcs]\n",
    "            # overall questionmark proportion\n",
    "            qperc=getqperc(asmlines)\n",
    "            # normalized interpunction characters by section\n",
    "            ipbysecfeat=normalizecountbysection(*countbysection(asmlines,selsections))\n",
    "            #\n",
    "            w.writerow(secfeat+dllfeat+opcfeat+[qperc]+ipbysecfeat)\n",
    "            f.flush()\n",
    "        fsec.close()\n",
    "        fcal.close()\n",
    "        fdll.close()\n",
    "        fopc.close()"
   ]
  },
  {
   "cell_type": "markdown",
   "metadata": {},
   "source": [
    "Reduce asm contents features, using a criterion on the number of files with nonzero value"
   ]
  },
  {
   "cell_type": "code",
   "execution_count": 58,
   "metadata": {},
   "outputs": [],
   "source": [
    "\"\"\"\n",
    "function writeasmcontents\n",
    "input: traindata matrix, testdata matrix, feature names, criterion on required number of nonzeros in each column\n",
    "output: reduced traindata matrix, testdata matrix and feature names\n",
    "* calculate number of nonzeros by column and keep only features that meet the criterion\n",
    "\"\"\"\n",
    "def reducefeatures(xtrain,xtest,names,ncrit=100):\n",
    "    ntrain=np.sum(np.array([np.array([ei!=0 for ei in e]) for e in xtrain]),axis=0)\n",
    "    xtrain=np.array([np.array([e[j] for j,n in enumerate(ntrain) if n>ncrit]) for e in xtrain])\n",
    "    xtest=np.array([np.array([e[j] for j,n in enumerate(ntrain) if n>ncrit]) for e in xtest])\n",
    "    names=[names[j] for j,n in enumerate(ntrain) if n>ncrit]\n",
    "    return xtrain,xtest,names"
   ]
  },
  {
   "cell_type": "code",
   "execution_count": 59,
   "metadata": {},
   "outputs": [],
   "source": [
    "\"\"\"\n",
    "function reduceasmcontents\n",
    "input: none\n",
    "output: write reduced asm contents\n",
    "* read features on asm contents, reduce them by calling reducefeatures and write the results\n",
    "\"\"\"\n",
    "def reduceasmcontents():\n",
    "    train_asmcontents,asmcontentshead=readdata('train_asmcontents.csv')\n",
    "    test_asmcontents,_=readdata('test_asmcontents.csv')\n",
    "    train_asmcontents_red,test_asmcontents_red,asmcontentshead_red=reducefeatures(\n",
    "                                        train_asmcontents,test_asmcontents,asmcontentshead)\n",
    "    writedata(train_asmcontents_red,'train_asmcontents_red.csv',asmcontentshead_red)\n",
    "    writedata(test_asmcontents_red,'test_asmcontents_red.csv',asmcontentshead_red)"
   ]
  },
  {
   "cell_type": "markdown",
   "metadata": {},
   "source": [
    "Calculate Statistics on asm Metadata"
   ]
  },
  {
   "cell_type": "code",
   "execution_count": 115,
   "metadata": {},
   "outputs": [],
   "source": [
    "\"\"\"\n",
    "function loadmetadata\n",
    "input: path of metadatafile (written by writeasmcontents)\n",
    "output: dictionary with metadata\n",
    "* load metadata into dictionary\n",
    "\"\"\"\n",
    "def loadmetadata(inpath):\n",
    "    md={}\n",
    "    #print (md)\n",
    "    with open(inpath,'r') as f:\n",
    "        r=csv.reader(f)\n",
    "        for row in r:\n",
    "            print(row)\n",
    "            md[tuple(row)]=defaultdict(int)\n",
    "            for e in row[1:]:\n",
    "                key,value=e.split(':')[-2:]\n",
    "                md[tuple(row)][key]=int(value)\n",
    "    return md"
   ]
  },
  {
   "cell_type": "code",
   "execution_count": 116,
   "metadata": {},
   "outputs": [],
   "source": [
    "\"\"\"\n",
    "function loadmetadata\n",
    "input: path of metadatafile (written by writeasmcontents)\n",
    "output: dictionary with metadata\n",
    "* load metadata into dictionary\n",
    "\"\"\"\n",
    "def loadmetadata(inpath):\n",
    "    md={}\n",
    "    print (md)\n",
    "    with open(inpath,'r') as f:\n",
    "        r=csv.reader(f)\n",
    "        for row in r:\n",
    "            print(row)\n",
    "            md[row[0]]=defaultdict(int)\n",
    "            for e in row[1:]:\n",
    "                key,value=e.split(':')[-2:]\n",
    "                md[row[0]][key]=int(value)\n",
    "    return md"
   ]
  },
  {
   "cell_type": "code",
   "execution_count": 117,
   "metadata": {},
   "outputs": [],
   "source": [
    "\"\"\"\n",
    "function getstats\n",
    "input: metadata dictionary, dictionary keys sorted by number of occurrences \n",
    "over train and test set, type of metadata (sec[tions], dll[s], cal[ls] or \n",
    "opc[odes])\n",
    "output: statistics on the specified type of metadata\n",
    "* calculate statistics on the specified type of metadata\n",
    "\"\"\"\n",
    "def getstats(dct,sortedkeys,datatype):\n",
    "    stats={}\n",
    "    for i in dct:\n",
    "        stats[i]={}\n",
    "        d=dct[i]\n",
    "        n=len(d)\n",
    "        sm=sum([d[key] for key in d]) if n>0 else 0\n",
    "        pmx=100*max([d[key] for key in d])/sm if n>0 else 0\n",
    "        stats[i]['%s_nkey'%datatype]=n\n",
    "        stats[i]['%s_sum'%datatype]=sm\n",
    "        stats[i]['%s_pmax'%datatype]=pmx\n",
    "        top5={key for key in sortedkeys[:5]}\n",
    "        top20={key for key in sortedkeys[:20]}\n",
    "        top50={key for key in sortedkeys[:50]}\n",
    "        stats[i]['%s_n5key'%datatype]=len([e for e in d if e in top5])\n",
    "        stats[i]['%s_n20key'%datatype]=len([e for e in d if e in top20])\n",
    "        stats[i]['%s_n50key'%datatype]=len([e for e in d if e in top50])\n",
    "    return stats"
   ]
  },
  {
   "cell_type": "code",
   "execution_count": 118,
   "metadata": {},
   "outputs": [],
   "source": [
    "\"\"\"\n",
    "function getstatsfromdata\n",
    "input: type of metadata (sec[tions], dll[s], cal[ls] or opc[odes])\n",
    "output: statistics on the specified type of metadata for both trainset and \n",
    "testset\n",
    "* for each value, count the number of occurrences over train and test set\n",
    "* call getstats to calculate statistics for each file\n",
    "\"\"\"\n",
    "def getstatsfromdata(datatype):\n",
    "    traindict=loadmetadata('%smetadatatrain.txt'%datatype)\n",
    "    testdict=loadmetadata('%smetadatatest.txt'%datatype)\n",
    "    allkeys=defaultdict(int)\n",
    "    for i in traindict:\n",
    "        for key in traindict[i]:\n",
    "            allkeys[key]+=1\n",
    "    for i in testdict:\n",
    "        for key in testdict[i]:\n",
    "            allkeys[key]+=1       \n",
    "    sortedkeys=sorted([key for key in allkeys],reverse=True,key=lambda x: allkeys[x])\n",
    "    trainstats=getstats(traindict,sortedkeys,datatype)\n",
    "    teststats=getstats(testdict,sortedkeys,datatype)\n",
    "    return trainstats,teststats"
   ]
  },
  {
   "cell_type": "code",
   "execution_count": 119,
   "metadata": {},
   "outputs": [],
   "source": [
    "\"\"\"\n",
    "function writeasmstats\n",
    "input: feature types (use only default; why is this a parameter??? I don't remember)\n",
    "output: writes asm statistics to files for both train and test set\n",
    "* call getstatsfromdata to calculate statistics on sec[tions], dll[s], cal[ls] and opc[odes]\n",
    "* write the results to train_asmstats and test_asmstats\n",
    "\"\"\"\n",
    "def writeasmstats(stats=['nkey', 'sum', 'pmax', 'n5key', 'n20key', 'n50key']):\n",
    "    traindata=[[] for i in range(len(trainids))]\n",
    "    testdata=[[] for i in range(len(testids))]\n",
    "    names=[]\n",
    "    for datatype in ['sec','dll','cal','opc']:\n",
    "        keys=['%s_%s'%(datatype,stat) for stat in stats]\n",
    "        print('KEYS ARE', keys)\n",
    "        trainstats,teststats=getstatsfromdata(datatype)\n",
    "        print('Train Stats',trainstats)\n",
    "        print('Test Stats',teststats)\n",
    "        for inum,i in enumerate(trainids):\n",
    "            traindata[inum].extend([trainstats[i][key] for key in keys])\n",
    "        for inum,i in enumerate(testids):\n",
    "            testdata[inum].extend([teststats[i][key] for key in keys])\n",
    "        names.extend(keys)\n",
    "    writedata(traindata,'train_asmstats.csv',names)\n",
    "    writedata(testdata,'test_asmstats.csv',names)"
   ]
  },
  {
   "cell_type": "markdown",
   "metadata": {},
   "source": [
    "### 4. Extract Bytes Contents"
   ]
  },
  {
   "cell_type": "code",
   "execution_count": 120,
   "metadata": {},
   "outputs": [],
   "source": [
    "\"\"\"\n",
    "function getcompressedsize_str\n",
    "input: string\n",
    "output: compressed size of string\n",
    "* compress string and return the compressed size\n",
    "\"\"\"\n",
    "def getcompressedsize_str(strinput):\n",
    "    inMemoryOutputFile = BytesIO()\n",
    "    zf = zipfile.ZipFile(inMemoryOutputFile, 'w')\n",
    "    zf.writestr('',strinput, compress_type=zipfile.ZIP_DEFLATED)\n",
    "    return zf.infolist()[0].compress_size"
   ]
  },
  {
   "cell_type": "code",
   "execution_count": 121,
   "metadata": {},
   "outputs": [],
   "source": [
    "\"\"\"\n",
    "function writeblocksizes\n",
    "input: ids of trainset or testset, string \"train\" or \"test\"\n",
    "output: writes train_blocksizes or test_blocksizes\n",
    "* calculate and write compressed size of each 4 kB block for all files in train or test set\n",
    "\"\"\"\n",
    "def writeblocksizes(ids,trainortest,blocksize=256): # 256 times 16 bytes = 4096 bytes\n",
    "    with open('%s_blocksizes.csv'%trainortest,'w') as fout:\n",
    "        for i in ids:\n",
    "            with open('%s/%s.bytes'%(trainortest,i),'r') as fin:\n",
    "                contents=fin.readlines()\n",
    "            fout.write('%s,'%i)\n",
    "            n=len(contents)\n",
    "            blocksize=256 \n",
    "            nblock=n/256\n",
    "            for b in range(int(nblock)):\n",
    "                strinput=''\n",
    "                for lidx in range(b*blocksize,(b+1)*blocksize):\n",
    "                    l=contents[lidx]\n",
    "                    strinput += l[l.find(' ')+1:-1]\n",
    "                s=getcompressedsize_str(strinput)\n",
    "                fout.write('%d,'%s)\n",
    "            fout.write('\\n')"
   ]
  },
  {
   "cell_type": "code",
   "execution_count": 122,
   "metadata": {},
   "outputs": [],
   "source": [
    "\"\"\"\n",
    "function writeblocksizedistributions\n",
    "input: string \"train\" or \"test\"\n",
    "output: writes train_blocksizedistributions or test_blocksizedistributions\n",
    "* calculate statistics on files with blocksizes to get the same number of features for each file\n",
    "\"\"\"\n",
    "def writeblocksizedistributions(trainortest):\n",
    "    with open('%s_blocksizes.csv'%trainortest,'r') as f:\n",
    "        with open('%s_blocksizedistributions.csv'%trainortest,'w') as fout:\n",
    "            fout.write('cs4k_min,cs4k_p10,cs4k_p20,cs4k_p30,cs4k_p50,cs4k_p70,cs4k_p80,cs4k_p90,cs4k_max,cs4k_mean,cs4k_q1mean,cs4k_q2mean,cs4k_q3mean,cs4k_q4mean\\n')\n",
    "            for i,l in enumerate(f):\n",
    "                ls=l.split(',')\n",
    "                sizes=[float(e) for e in ls[1:-1]]\n",
    "                slen=len(sizes)\n",
    "                qlen=1 if slen/4<1 else slen/4\n",
    "                q1m=np.mean(sizes[:qlen])\n",
    "                q2m=np.mean(sizes[qlen:2*qlen])\n",
    "                q3m=np.mean(sizes[-2*qlen:-qlen])\n",
    "                q4m=np.mean(sizes[-qlen:])\n",
    "                sizes=sorted(sizes)\n",
    "                maxidx=slen-1\n",
    "                fout.write('%.0f,%.0f,%.0f,%.0f,%.0f,%.0f,%.0f,%.0f,%.0f,%.0f,%.0f,%.0f,%.0f,%.0f\\n'%(\n",
    "                    sizes[0],\n",
    "                    sizes[10*maxidx//100],\n",
    "                    sizes[20*maxidx//100],\n",
    "                    sizes[30*maxidx//100],\n",
    "                    sizes[50*maxidx//100],\n",
    "                    sizes[70*maxidx//100],\n",
    "                    sizes[80*maxidx//100],\n",
    "                    sizes[90*maxidx//100],\n",
    "                    sizes[-1],\n",
    "                    round(np.mean(sizes)),\n",
    "                    q1m,q2m,q3m,q4m))"
   ]
  },
  {
   "cell_type": "code",
   "execution_count": 123,
   "metadata": {},
   "outputs": [],
   "source": [
    "\"\"\"\n",
    "function writecombifile\n",
    "input: list of lists with 2 entries: file name and optional feature names (None for all), filename to write results to\n",
    "output: writes file with combined feature sets\n",
    "* combine features from different sets into a single file\n",
    "* ids, labels and header are optional\n",
    "\"\"\"\n",
    "def writecombifile(sourcefilesandselections,filename,includeid=True,includelabel=True,header=True):\n",
    "    nsource=len(sourcefilesandselections)\n",
    "    for trainortest in ['train','test']:\n",
    "        alldata=[]\n",
    "        allnames=[]\n",
    "        for source,selection in sourcefilesandselections:\n",
    "            data,names=readdata('%s_%s'%(trainortest,source),selectedcols=selection)\n",
    "            alldata.append(data)\n",
    "            allnames.extend(names)\n",
    "        with open('%s_%s'%(trainortest,filename),'w') as f:\n",
    "            w=csv.writer(f)\n",
    "            if header:\n",
    "                w.writerow((['Id'] if includeid else [])+\n",
    "                            allnames+\n",
    "                            (['Class'] if includelabel else []))\n",
    "            ids = trainids if trainortest=='train' else testids\n",
    "            for inum,i in enumerate(ids):\n",
    "                datarow=[]\n",
    "                for src in range(nsource):\n",
    "                    datarow.extend(alldata[src][inum])\n",
    "                w.writerow(\n",
    "                    ([i] if includeid else [])+\n",
    "                    datarow+\n",
    "                    ([labels[inum] if trainortest=='train' else -1] if includelabel else []))"
   ]
  },
  {
   "cell_type": "markdown",
   "metadata": {},
   "source": [
    "### 1. File Properties Features"
   ]
  },
  {
   "cell_type": "code",
   "execution_count": 126,
   "metadata": {},
   "outputs": [
    {
     "name": "stdout",
     "output_type": "stream",
     "text": [
      "Extraction for 1000 files took 240.54306650161743 seconds\n"
     ]
    }
   ],
   "source": [
    "import time\n",
    "\n",
    "start = time.time()\n",
    "writefileprops(trainids,'train')\n",
    "#writefileprops(testids,'test')\n",
    "\n",
    "end = time.time()\n",
    "print('Extraction for {} files took {} seconds'.format(len(trainids)*2,(end - start)))"
   ]
  },
  {
   "cell_type": "markdown",
   "metadata": {},
   "source": [
    "### 2. ASM Contents Features"
   ]
  },
  {
   "cell_type": "code",
   "execution_count": 127,
   "metadata": {},
   "outputs": [],
   "source": [
    "writeasmcontents(trainids,'train')\n",
    "#writeasmcontents(testids,'test')"
   ]
  },
  {
   "cell_type": "markdown",
   "metadata": {},
   "source": [
    "#### Reduced Features"
   ]
  },
  {
   "cell_type": "code",
   "execution_count": 131,
   "metadata": {},
   "outputs": [],
   "source": [
    "reduceasmcontents()"
   ]
  },
  {
   "cell_type": "code",
   "execution_count": 135,
   "metadata": {},
   "outputs": [
    {
     "name": "stdout",
     "output_type": "stream",
     "text": [
      "(500, 185)\n"
     ]
    },
    {
     "data": {
      "text/plain": [
       "(500, 186)"
      ]
     },
     "execution_count": 135,
     "metadata": {},
     "output_type": "execute_result"
    }
   ],
   "source": [
    "data=pd.read_csv('train_asmcontents_red.csv')\n",
    "print(data.shape)\n",
    "data['Class']=df_tr.Class\n",
    "data.shape"
   ]
  },
  {
   "cell_type": "markdown",
   "metadata": {},
   "source": [
    "### Modeling"
   ]
  },
  {
   "cell_type": "code",
   "execution_count": 139,
   "metadata": {},
   "outputs": [
    {
     "data": {
      "text/plain": [
       "<matplotlib.axes._subplots.AxesSubplot at 0x1b7026225f8>"
      ]
     },
     "execution_count": 139,
     "metadata": {},
     "output_type": "execute_result"
    },
    {
     "data": {
      "image/png": "[encoded data removed]",
      "text/plain": [
       "<matplotlib.figure.Figure at 0x1b702658f60>"
      ]
     },
     "metadata": {},
     "output_type": "display_data"
    }
   ],
   "source": [
    "import seaborn as sns\n",
    "sns.countplot(df_tr.Class,color='#0000FF')"
   ]
  },
  {
   "cell_type": "code",
   "execution_count": 363,
   "metadata": {},
   "outputs": [],
   "source": [
    "X=data.iloc[:,:-1] # Train\n",
    "y=data.Class # Test"
   ]
  },
  {
   "cell_type": "code",
   "execution_count": 364,
   "metadata": {},
   "outputs": [],
   "source": [
    "X.columns = np.arange(len(X.columns))"
   ]
  },
  {
   "cell_type": "code",
   "execution_count": 365,
   "metadata": {},
   "outputs": [],
   "source": [
    "from sklearn.model_selection import train_test_split\n",
    "X_train, X_test, y_train, y_test = train_test_split(X, y,\n",
    "                                                    stratify=y, \n",
    "                                                    test_size=0.25)"
   ]
  },
  {
   "cell_type": "code",
   "execution_count": 252,
   "metadata": {},
   "outputs": [],
   "source": [
    "from sklearn.ensemble import RandomForestClassifier, ExtraTreesClassifier\n",
    "from xgboost import XGBClassifier\n",
    "from sklearn.metrics import f1_score, precision_score,confusion_matrix, recall_score, accuracy_score, log_loss"
   ]
  },
  {
   "cell_type": "markdown",
   "metadata": {},
   "source": [
    "### 1. Extra Trees Classifier"
   ]
  },
  {
   "cell_type": "code",
   "execution_count": 263,
   "metadata": {},
   "outputs": [],
   "source": [
    "et=ExtraTreesClassifier(n_estimators=100)\n",
    "et.fit(X_train, y_train)\n",
    "\n",
    "et_acc=accuracy_score(y_test, et.predict(X_test))\n",
    "et_pr=precision_score(y_test, et.predict(X_test),average='micro') \n",
    "et_f1=f1_score(y_test, et.predict(X_test),average='micro') \n",
    "et_rc=recall_score(y_test, et.predict(X_test),average='micro') \n",
    "et_log=log_loss(y_test,et.predict_proba(X_test))"
   ]
  },
  {
   "cell_type": "markdown",
   "metadata": {},
   "source": [
    "### 2. Random Forest"
   ]
  },
  {
   "cell_type": "code",
   "execution_count": 264,
   "metadata": {},
   "outputs": [],
   "source": [
    "rf=RandomForestClassifier(n_estimators=100)\n",
    "rf.fit(X_train, y_train)\n",
    "\n",
    "rf_acc=accuracy_score(y_test, rf.predict(X_test))\n",
    "rf_pr=precision_score(y_test, rf.predict(X_test),average='micro') \n",
    "rf_f1=f1_score(y_test, rf.predict(X_test),average='micro') \n",
    "rf_rc=recall_score(y_test, rf.predict(X_test),average='micro') \n",
    "rf_log=log_loss(y_test,rf.predict_proba(X_test))"
   ]
  },
  {
   "cell_type": "markdown",
   "metadata": {},
   "source": [
    "### 3. XGBoost"
   ]
  },
  {
   "cell_type": "code",
   "execution_count": 265,
   "metadata": {},
   "outputs": [
    {
     "name": "stderr",
     "output_type": "stream",
     "text": [
      "C:\\Users\\Ali\\Anaconda3\\lib\\site-packages\\sklearn\\preprocessing\\label.py:151: DeprecationWarning: The truth value of an empty array is ambiguous. Returning False, but in future this will result in an error. Use `array.size > 0` to check that an array is not empty.\n",
      "  if diff:\n",
      "C:\\Users\\Ali\\Anaconda3\\lib\\site-packages\\sklearn\\preprocessing\\label.py:151: DeprecationWarning: The truth value of an empty array is ambiguous. Returning False, but in future this will result in an error. Use `array.size > 0` to check that an array is not empty.\n",
      "  if diff:\n",
      "C:\\Users\\Ali\\Anaconda3\\lib\\site-packages\\sklearn\\preprocessing\\label.py:151: DeprecationWarning: The truth value of an empty array is ambiguous. Returning False, but in future this will result in an error. Use `array.size > 0` to check that an array is not empty.\n",
      "  if diff:\n",
      "C:\\Users\\Ali\\Anaconda3\\lib\\site-packages\\sklearn\\preprocessing\\label.py:151: DeprecationWarning: The truth value of an empty array is ambiguous. Returning False, but in future this will result in an error. Use `array.size > 0` to check that an array is not empty.\n",
      "  if diff:\n"
     ]
    }
   ],
   "source": [
    "xgb = XGBClassifier(n_estimators=150)\n",
    "xgb.fit(X_train, y_train)\n",
    "xgb_acc=accuracy_score(y_test, xgb.predict(X_test))\n",
    "xgb_pr=precision_score(y_test, xgb.predict(X_test),average='micro') \n",
    "xgb_f1=f1_score(y_test, xgb.predict(X_test),average='micro') \n",
    "xgb_rc=recall_score(y_test, xgb.predict(X_test),average='micro') \n",
    "xgb_log=log_loss(y_test,xgb.predict_proba(X_test))"
   ]
  },
  {
   "cell_type": "code",
   "execution_count": 266,
   "metadata": {},
   "outputs": [
    {
     "data": {
      "text/html": [
       "<div>\n",
       "<style scoped>\n",
       "    .dataframe tbody tr th:only-of-type {\n",
       "        vertical-align: middle;\n",
       "    }\n",
       "\n",
       "    .dataframe tbody tr th {\n",
       "        vertical-align: top;\n",
       "    }\n",
       "\n",
       "    .dataframe thead th {\n",
       "        text-align: right;\n",
       "    }\n",
       "</style>\n",
       "<table border=\"1\" class=\"dataframe\">\n",
       "  <thead>\n",
       "    <tr style=\"text-align: right;\">\n",
       "      <th></th>\n",
       "      <th>Accuracy</th>\n",
       "      <th>Precision</th>\n",
       "      <th>Recall</th>\n",
       "      <th>F1-Score</th>\n",
       "      <th>Log Loss</th>\n",
       "    </tr>\n",
       "    <tr>\n",
       "      <th>Algorithm</th>\n",
       "      <th></th>\n",
       "      <th></th>\n",
       "      <th></th>\n",
       "      <th></th>\n",
       "      <th></th>\n",
       "    </tr>\n",
       "  </thead>\n",
       "  <tbody>\n",
       "    <tr>\n",
       "      <th>Extra Trees</th>\n",
       "      <td>0.976</td>\n",
       "      <td>0.976</td>\n",
       "      <td>0.976</td>\n",
       "      <td>0.976</td>\n",
       "      <td>0.632562</td>\n",
       "    </tr>\n",
       "    <tr>\n",
       "      <th>Random Forest</th>\n",
       "      <td>0.960</td>\n",
       "      <td>0.960</td>\n",
       "      <td>0.960</td>\n",
       "      <td>0.960</td>\n",
       "      <td>0.168815</td>\n",
       "    </tr>\n",
       "    <tr>\n",
       "      <th>XGBoost</th>\n",
       "      <td>0.968</td>\n",
       "      <td>0.968</td>\n",
       "      <td>0.968</td>\n",
       "      <td>0.968</td>\n",
       "      <td>0.126196</td>\n",
       "    </tr>\n",
       "  </tbody>\n",
       "</table>\n",
       "</div>"
      ],
      "text/plain": [
       "               Accuracy  Precision  Recall  F1-Score  Log Loss\n",
       "Algorithm                                                     \n",
       "Extra Trees       0.976      0.976   0.976     0.976  0.632562\n",
       "Random Forest     0.960      0.960   0.960     0.960  0.168815\n",
       "XGBoost           0.968      0.968   0.968     0.968  0.126196"
      ]
     },
     "execution_count": 266,
     "metadata": {},
     "output_type": "execute_result"
    }
   ],
   "source": [
    "results=pd.DataFrame({'Algorithm':['Extra Trees','Random Forest', 'XGBoost'],\n",
    "                     'Accuracy':[et_acc, rf_acc, xgb_acc],\n",
    "                     'Precision':[et_pr, rf_pr, xgb_pr],\n",
    "                     'Recall':[et_rc, rf_rc, xgb_rc],\n",
    "                     'F1-Score':[et_f1, rf_f1, xgb_f1],\n",
    "                     'Log Loss':[et_log,rf_log,xgb_log]})\n",
    "results.set_index('Algorithm', inplace=True)\n",
    "results"
   ]
  },
  {
   "cell_type": "code",
   "execution_count": 271,
   "metadata": {},
   "outputs": [
    {
     "data": {
      "image/png": "[encoded data removed]",
      "text/plain": [
       "<matplotlib.figure.Figure at 0x1b700979898>"
      ]
     },
     "metadata": {},
     "output_type": "display_data"
    }
   ],
   "source": [
    "feature_importances = pd.DataFrame(xgb.feature_importances_,\n",
    "                                   index = X_train.columns,\n",
    "                                    columns=['importance']).sort_values('importance',ascending=False)\n",
    "feature_importances[:30].plot(kind='bar', title='Top 30 Features')\n",
    "sns.despine(left=True)"
   ]
  },
  {
   "cell_type": "code",
   "execution_count": 282,
   "metadata": {},
   "outputs": [],
   "source": [
    "def selectKImportance(model, X, k=5):\n",
    "     return X.iloc[:,model.feature_importances_.argsort()[::-1][:k]]"
   ]
  },
  {
   "cell_type": "code",
   "execution_count": 283,
   "metadata": {},
   "outputs": [],
   "source": [
    "newX = selectKImportance(rf,X,50)\n",
    "X_train, X_test, y_train, y_test = train_test_split(newX, y,\n",
    "                                                    stratify=y, \n",
    "                                                    test_size=0.25)"
   ]
  },
  {
   "cell_type": "code",
   "execution_count": 285,
   "metadata": {},
   "outputs": [
    {
     "name": "stderr",
     "output_type": "stream",
     "text": [
      "C:\\Users\\Ali\\Anaconda3\\lib\\site-packages\\sklearn\\preprocessing\\label.py:151: DeprecationWarning: The truth value of an empty array is ambiguous. Returning False, but in future this will result in an error. Use `array.size > 0` to check that an array is not empty.\n",
      "  if diff:\n",
      "C:\\Users\\Ali\\Anaconda3\\lib\\site-packages\\sklearn\\preprocessing\\label.py:151: DeprecationWarning: The truth value of an empty array is ambiguous. Returning False, but in future this will result in an error. Use `array.size > 0` to check that an array is not empty.\n",
      "  if diff:\n",
      "C:\\Users\\Ali\\Anaconda3\\lib\\site-packages\\sklearn\\preprocessing\\label.py:151: DeprecationWarning: The truth value of an empty array is ambiguous. Returning False, but in future this will result in an error. Use `array.size > 0` to check that an array is not empty.\n",
      "  if diff:\n",
      "C:\\Users\\Ali\\Anaconda3\\lib\\site-packages\\sklearn\\preprocessing\\label.py:151: DeprecationWarning: The truth value of an empty array is ambiguous. Returning False, but in future this will result in an error. Use `array.size > 0` to check that an array is not empty.\n",
      "  if diff:\n"
     ]
    },
    {
     "data": {
      "text/html": [
       "<div>\n",
       "<style scoped>\n",
       "    .dataframe tbody tr th:only-of-type {\n",
       "        vertical-align: middle;\n",
       "    }\n",
       "\n",
       "    .dataframe tbody tr th {\n",
       "        vertical-align: top;\n",
       "    }\n",
       "\n",
       "    .dataframe thead th {\n",
       "        text-align: right;\n",
       "    }\n",
       "</style>\n",
       "<table border=\"1\" class=\"dataframe\">\n",
       "  <thead>\n",
       "    <tr style=\"text-align: right;\">\n",
       "      <th></th>\n",
       "      <th>Accuracy</th>\n",
       "      <th>Precision</th>\n",
       "      <th>Recall</th>\n",
       "      <th>F1-Score</th>\n",
       "      <th>Log Loss</th>\n",
       "    </tr>\n",
       "    <tr>\n",
       "      <th>Algorithm</th>\n",
       "      <th></th>\n",
       "      <th></th>\n",
       "      <th></th>\n",
       "      <th></th>\n",
       "      <th></th>\n",
       "    </tr>\n",
       "  </thead>\n",
       "  <tbody>\n",
       "    <tr>\n",
       "      <th>XGBoost</th>\n",
       "      <td>0.976</td>\n",
       "      <td>0.976</td>\n",
       "      <td>0.976</td>\n",
       "      <td>0.976</td>\n",
       "      <td>0.097678</td>\n",
       "    </tr>\n",
       "  </tbody>\n",
       "</table>\n",
       "</div>"
      ],
      "text/plain": [
       "           Accuracy  Precision  Recall  F1-Score  Log Loss\n",
       "Algorithm                                                 \n",
       "XGBoost       0.976      0.976   0.976     0.976  0.097678"
      ]
     },
     "execution_count": 285,
     "metadata": {},
     "output_type": "execute_result"
    }
   ],
   "source": [
    "xgb = XGBClassifier(n_estimators=150)\n",
    "xgb.fit(X_train, y_train)\n",
    "xgb_acc=accuracy_score(y_test, xgb.predict(X_test))\n",
    "xgb_pr=precision_score(y_test, xgb.predict(X_test),average='micro') \n",
    "xgb_f1=f1_score(y_test, xgb.predict(X_test),average='micro') \n",
    "xgb_rc=recall_score(y_test, xgb.predict(X_test),average='micro') \n",
    "xgb_log=log_loss(y_test,xgb.predict_proba(X_test))\n",
    "results1=pd.DataFrame({'Algorithm':['XGBoost'],\n",
    "                     'Accuracy':[xgb_acc],\n",
    "                     'Precision':[xgb_pr],\n",
    "                     'Recall':[xgb_rc],\n",
    "                     'F1-Score':[xgb_f1],\n",
    "                     'Log Loss':[xgb_log]})\n",
    "results1.set_index('Algorithm', inplace=True)\n",
    "results1"
   ]
  },
  {
   "cell_type": "code",
   "execution_count": 350,
   "metadata": {},
   "outputs": [],
   "source": [
    "def plot_confusion_matrix(test_y, predict_y):\n",
    "    C = confusion_matrix(test_y, predict_y)\n",
    "    print(\"Number of misclassified points \",(len(test_y)-np.trace(C))/len(test_y)*100)\n",
    "       \n",
    "    A =(((C.T)/(C.sum(axis=1))).T)\n",
    "    \n",
    "    B =(C/C.sum(axis=0))\n",
    "\n",
    "    \n",
    "    labels = ['Ramnit','Lollipop','Kelihos_ver3','Vundo','Simda',\n",
    "                        'Tracur','Kelihos_ver1','Obfuscator.ACY','Gatak']\n",
    "    cmap=sns.light_palette(\"green\")\n",
    "    # representing A in heatmap format\n",
    "    print(\"Confusion matrix\")\n",
    "    plt.figure(figsize=(7,4))\n",
    "    sns.heatmap(C, annot=True, cmap=cmap, xticklabels=labels, yticklabels=labels)\n",
    "    plt.xlabel('Predicted Class')\n",
    "    plt.ylabel('Original Class')\n",
    "    plt.show()"
   ]
  },
  {
   "cell_type": "code",
   "execution_count": 351,
   "metadata": {},
   "outputs": [
    {
     "name": "stderr",
     "output_type": "stream",
     "text": [
      "C:\\Users\\Ali\\Anaconda3\\lib\\site-packages\\sklearn\\preprocessing\\label.py:151: DeprecationWarning: The truth value of an empty array is ambiguous. Returning False, but in future this will result in an error. Use `array.size > 0` to check that an array is not empty.\n",
      "  if diff:\n",
      "C:\\Users\\Ali\\Anaconda3\\lib\\site-packages\\ipykernel_launcher.py:7: RuntimeWarning: invalid value encountered in true_divide\n",
      "  import sys\n"
     ]
    },
    {
     "name": "stdout",
     "output_type": "stream",
     "text": [
      "Number of misclassified points  2.4\n",
      "Confusion matrix\n"
     ]
    },
    {
     "data": {
      "image/png": "[encoded data removed]",
      "text/plain": [
       "<matplotlib.figure.Figure at 0x1b706fe0cc0>"
      ]
     },
     "metadata": {},
     "output_type": "display_data"
    }
   ],
   "source": [
    "from sklearn.metrics import confusion_matrix\n",
    "pred1=xgb.predict(X_test)\n",
    "\n",
    "cf1=confusion_matrix(y_test, pred1)\n",
    "plot_confusion_matrix(y_test, pred1)"
   ]
  },
  {
   "cell_type": "markdown",
   "metadata": {},
   "source": [
    "### Principal Component Analysis"
   ]
  },
  {
   "cell_type": "code",
   "execution_count": 392,
   "metadata": {},
   "outputs": [],
   "source": [
    "from sklearn.decomposition import PCA,KernelPCA\n",
    "# Scaling\n",
    "from sklearn.preprocessing import MinMaxScaler\n",
    "scaler = MinMaxScaler(feature_range=(0,1))\n",
    "X_pca = scaler.fit_transform(X)"
   ]
  },
  {
   "cell_type": "code",
   "execution_count": 358,
   "metadata": {},
   "outputs": [
    {
     "data": {
      "text/html": [
       "<div>\n",
       "<style scoped>\n",
       "    .dataframe tbody tr th:only-of-type {\n",
       "        vertical-align: middle;\n",
       "    }\n",
       "\n",
       "    .dataframe tbody tr th {\n",
       "        vertical-align: top;\n",
       "    }\n",
       "\n",
       "    .dataframe thead th {\n",
       "        text-align: right;\n",
       "    }\n",
       "</style>\n",
       "<table border=\"1\" class=\"dataframe\">\n",
       "  <thead>\n",
       "    <tr style=\"text-align: right;\">\n",
       "      <th></th>\n",
       "      <th>PC_1</th>\n",
       "      <th>PC_2</th>\n",
       "      <th>PC_3</th>\n",
       "      <th>PC_4</th>\n",
       "      <th>PC_5</th>\n",
       "      <th>PC_6</th>\n",
       "      <th>PC_7</th>\n",
       "      <th>PC_8</th>\n",
       "      <th>PC_9</th>\n",
       "      <th>PC_10</th>\n",
       "      <th>PC_11</th>\n",
       "      <th>PC_12</th>\n",
       "      <th>PC_13</th>\n",
       "      <th>PC_14</th>\n",
       "      <th>PC_15</th>\n",
       "      <th>PC_16</th>\n",
       "      <th>PC_17</th>\n",
       "      <th>PC_18</th>\n",
       "      <th>PC_19</th>\n",
       "      <th>PC_20</th>\n",
       "      <th>PC_21</th>\n",
       "      <th>PC_22</th>\n",
       "      <th>PC_23</th>\n",
       "      <th>PC_24</th>\n",
       "      <th>PC_25</th>\n",
       "      <th>PC_26</th>\n",
       "      <th>PC_27</th>\n",
       "      <th>PC_28</th>\n",
       "      <th>PC_29</th>\n",
       "      <th>PC_30</th>\n",
       "      <th>PC_31</th>\n",
       "      <th>PC_32</th>\n",
       "      <th>PC_33</th>\n",
       "      <th>PC_34</th>\n",
       "      <th>PC_35</th>\n",
       "      <th>PC_36</th>\n",
       "      <th>PC_37</th>\n",
       "      <th>PC_38</th>\n",
       "      <th>PC_39</th>\n",
       "      <th>PC_40</th>\n",
       "      <th>PC_41</th>\n",
       "      <th>PC_42</th>\n",
       "      <th>PC_43</th>\n",
       "      <th>PC_44</th>\n",
       "      <th>PC_45</th>\n",
       "      <th>PC_46</th>\n",
       "      <th>PC_47</th>\n",
       "      <th>PC_48</th>\n",
       "      <th>PC_49</th>\n",
       "      <th>PC_50</th>\n",
       "      <th>...</th>\n",
       "      <th>PC_136</th>\n",
       "      <th>PC_137</th>\n",
       "      <th>PC_138</th>\n",
       "      <th>PC_139</th>\n",
       "      <th>PC_140</th>\n",
       "      <th>PC_141</th>\n",
       "      <th>PC_142</th>\n",
       "      <th>PC_143</th>\n",
       "      <th>PC_144</th>\n",
       "      <th>PC_145</th>\n",
       "      <th>PC_146</th>\n",
       "      <th>PC_147</th>\n",
       "      <th>PC_148</th>\n",
       "      <th>PC_149</th>\n",
       "      <th>PC_150</th>\n",
       "      <th>PC_151</th>\n",
       "      <th>PC_152</th>\n",
       "      <th>PC_153</th>\n",
       "      <th>PC_154</th>\n",
       "      <th>PC_155</th>\n",
       "      <th>PC_156</th>\n",
       "      <th>PC_157</th>\n",
       "      <th>PC_158</th>\n",
       "      <th>PC_159</th>\n",
       "      <th>PC_160</th>\n",
       "      <th>PC_161</th>\n",
       "      <th>PC_162</th>\n",
       "      <th>PC_163</th>\n",
       "      <th>PC_164</th>\n",
       "      <th>PC_165</th>\n",
       "      <th>PC_166</th>\n",
       "      <th>PC_167</th>\n",
       "      <th>PC_168</th>\n",
       "      <th>PC_169</th>\n",
       "      <th>PC_170</th>\n",
       "      <th>PC_171</th>\n",
       "      <th>PC_172</th>\n",
       "      <th>PC_173</th>\n",
       "      <th>PC_174</th>\n",
       "      <th>PC_175</th>\n",
       "      <th>PC_176</th>\n",
       "      <th>PC_177</th>\n",
       "      <th>PC_178</th>\n",
       "      <th>PC_179</th>\n",
       "      <th>PC_180</th>\n",
       "      <th>PC_181</th>\n",
       "      <th>PC_182</th>\n",
       "      <th>PC_183</th>\n",
       "      <th>PC_184</th>\n",
       "      <th>PC_185</th>\n",
       "    </tr>\n",
       "  </thead>\n",
       "  <tbody>\n",
       "    <tr>\n",
       "      <th>Proportion of variance</th>\n",
       "      <td>0.431398</td>\n",
       "      <td>0.165596</td>\n",
       "      <td>0.080682</td>\n",
       "      <td>0.070548</td>\n",
       "      <td>0.047143</td>\n",
       "      <td>0.030941</td>\n",
       "      <td>0.027323</td>\n",
       "      <td>0.020050</td>\n",
       "      <td>0.014869</td>\n",
       "      <td>0.01437</td>\n",
       "      <td>0.009547</td>\n",
       "      <td>0.007227</td>\n",
       "      <td>0.006733</td>\n",
       "      <td>0.005180</td>\n",
       "      <td>0.004606</td>\n",
       "      <td>0.004065</td>\n",
       "      <td>0.003805</td>\n",
       "      <td>0.003199</td>\n",
       "      <td>0.002950</td>\n",
       "      <td>0.002804</td>\n",
       "      <td>0.002449</td>\n",
       "      <td>0.002191</td>\n",
       "      <td>0.002108</td>\n",
       "      <td>0.002079</td>\n",
       "      <td>0.001981</td>\n",
       "      <td>0.001853</td>\n",
       "      <td>0.001776</td>\n",
       "      <td>0.001634</td>\n",
       "      <td>0.001511</td>\n",
       "      <td>0.001429</td>\n",
       "      <td>0.001279</td>\n",
       "      <td>0.001241</td>\n",
       "      <td>0.001165</td>\n",
       "      <td>0.001129</td>\n",
       "      <td>0.001071</td>\n",
       "      <td>0.001023</td>\n",
       "      <td>0.001004</td>\n",
       "      <td>0.000924</td>\n",
       "      <td>0.000891</td>\n",
       "      <td>0.000865</td>\n",
       "      <td>0.000817</td>\n",
       "      <td>0.000808</td>\n",
       "      <td>0.000746</td>\n",
       "      <td>0.000739</td>\n",
       "      <td>0.000679</td>\n",
       "      <td>0.000640</td>\n",
       "      <td>0.000626</td>\n",
       "      <td>0.000618</td>\n",
       "      <td>0.000587</td>\n",
       "      <td>0.000570</td>\n",
       "      <td>...</td>\n",
       "      <td>0.000003</td>\n",
       "      <td>0.000003</td>\n",
       "      <td>0.000002</td>\n",
       "      <td>0.000002</td>\n",
       "      <td>0.000002</td>\n",
       "      <td>0.000002</td>\n",
       "      <td>0.000002</td>\n",
       "      <td>0.000002</td>\n",
       "      <td>0.000001</td>\n",
       "      <td>0.000001</td>\n",
       "      <td>0.000001</td>\n",
       "      <td>0.000001</td>\n",
       "      <td>9.318237e-07</td>\n",
       "      <td>8.003664e-07</td>\n",
       "      <td>6.849853e-07</td>\n",
       "      <td>6.283845e-07</td>\n",
       "      <td>4.960839e-07</td>\n",
       "      <td>4.328687e-07</td>\n",
       "      <td>3.194721e-07</td>\n",
       "      <td>2.966943e-07</td>\n",
       "      <td>2.062899e-07</td>\n",
       "      <td>1.486432e-07</td>\n",
       "      <td>2.127316e-08</td>\n",
       "      <td>4.556661e-10</td>\n",
       "      <td>5.297286e-11</td>\n",
       "      <td>1.492153e-16</td>\n",
       "      <td>2.821855e-33</td>\n",
       "      <td>1.839259e-33</td>\n",
       "      <td>1.839259e-33</td>\n",
       "      <td>1.839259e-33</td>\n",
       "      <td>1.839259e-33</td>\n",
       "      <td>1.839259e-33</td>\n",
       "      <td>1.839259e-33</td>\n",
       "      <td>1.839259e-33</td>\n",
       "      <td>1.839259e-33</td>\n",
       "      <td>1.839259e-33</td>\n",
       "      <td>1.839259e-33</td>\n",
       "      <td>1.839259e-33</td>\n",
       "      <td>1.839259e-33</td>\n",
       "      <td>1.839259e-33</td>\n",
       "      <td>1.839259e-33</td>\n",
       "      <td>1.839259e-33</td>\n",
       "      <td>1.839259e-33</td>\n",
       "      <td>1.839259e-33</td>\n",
       "      <td>1.839259e-33</td>\n",
       "      <td>1.839259e-33</td>\n",
       "      <td>1.839259e-33</td>\n",
       "      <td>1.839259e-33</td>\n",
       "      <td>1.839259e-33</td>\n",
       "      <td>1.839259e-33</td>\n",
       "    </tr>\n",
       "    <tr>\n",
       "      <th>Cumulative proportion</th>\n",
       "      <td>0.431398</td>\n",
       "      <td>0.596994</td>\n",
       "      <td>0.677676</td>\n",
       "      <td>0.748224</td>\n",
       "      <td>0.795366</td>\n",
       "      <td>0.826307</td>\n",
       "      <td>0.853631</td>\n",
       "      <td>0.873681</td>\n",
       "      <td>0.888550</td>\n",
       "      <td>0.90292</td>\n",
       "      <td>0.912467</td>\n",
       "      <td>0.919694</td>\n",
       "      <td>0.926427</td>\n",
       "      <td>0.931607</td>\n",
       "      <td>0.936213</td>\n",
       "      <td>0.940278</td>\n",
       "      <td>0.944083</td>\n",
       "      <td>0.947282</td>\n",
       "      <td>0.950232</td>\n",
       "      <td>0.953036</td>\n",
       "      <td>0.955485</td>\n",
       "      <td>0.957675</td>\n",
       "      <td>0.959783</td>\n",
       "      <td>0.961862</td>\n",
       "      <td>0.963843</td>\n",
       "      <td>0.965696</td>\n",
       "      <td>0.967472</td>\n",
       "      <td>0.969106</td>\n",
       "      <td>0.970616</td>\n",
       "      <td>0.972045</td>\n",
       "      <td>0.973324</td>\n",
       "      <td>0.974565</td>\n",
       "      <td>0.975730</td>\n",
       "      <td>0.976859</td>\n",
       "      <td>0.977930</td>\n",
       "      <td>0.978953</td>\n",
       "      <td>0.979957</td>\n",
       "      <td>0.980881</td>\n",
       "      <td>0.981772</td>\n",
       "      <td>0.982637</td>\n",
       "      <td>0.983454</td>\n",
       "      <td>0.984262</td>\n",
       "      <td>0.985008</td>\n",
       "      <td>0.985747</td>\n",
       "      <td>0.986426</td>\n",
       "      <td>0.987066</td>\n",
       "      <td>0.987692</td>\n",
       "      <td>0.988310</td>\n",
       "      <td>0.988898</td>\n",
       "      <td>0.989468</td>\n",
       "      <td>...</td>\n",
       "      <td>0.999976</td>\n",
       "      <td>0.999979</td>\n",
       "      <td>0.999981</td>\n",
       "      <td>0.999983</td>\n",
       "      <td>0.999985</td>\n",
       "      <td>0.999987</td>\n",
       "      <td>0.999989</td>\n",
       "      <td>0.999990</td>\n",
       "      <td>0.999992</td>\n",
       "      <td>0.999993</td>\n",
       "      <td>0.999994</td>\n",
       "      <td>0.999995</td>\n",
       "      <td>9.999960e-01</td>\n",
       "      <td>9.999968e-01</td>\n",
       "      <td>9.999974e-01</td>\n",
       "      <td>9.999981e-01</td>\n",
       "      <td>9.999986e-01</td>\n",
       "      <td>9.999990e-01</td>\n",
       "      <td>9.999993e-01</td>\n",
       "      <td>9.999996e-01</td>\n",
       "      <td>9.999998e-01</td>\n",
       "      <td>1.000000e+00</td>\n",
       "      <td>1.000000e+00</td>\n",
       "      <td>1.000000e+00</td>\n",
       "      <td>1.000000e+00</td>\n",
       "      <td>1.000000e+00</td>\n",
       "      <td>1.000000e+00</td>\n",
       "      <td>1.000000e+00</td>\n",
       "      <td>1.000000e+00</td>\n",
       "      <td>1.000000e+00</td>\n",
       "      <td>1.000000e+00</td>\n",
       "      <td>1.000000e+00</td>\n",
       "      <td>1.000000e+00</td>\n",
       "      <td>1.000000e+00</td>\n",
       "      <td>1.000000e+00</td>\n",
       "      <td>1.000000e+00</td>\n",
       "      <td>1.000000e+00</td>\n",
       "      <td>1.000000e+00</td>\n",
       "      <td>1.000000e+00</td>\n",
       "      <td>1.000000e+00</td>\n",
       "      <td>1.000000e+00</td>\n",
       "      <td>1.000000e+00</td>\n",
       "      <td>1.000000e+00</td>\n",
       "      <td>1.000000e+00</td>\n",
       "      <td>1.000000e+00</td>\n",
       "      <td>1.000000e+00</td>\n",
       "      <td>1.000000e+00</td>\n",
       "      <td>1.000000e+00</td>\n",
       "      <td>1.000000e+00</td>\n",
       "      <td>1.000000e+00</td>\n",
       "    </tr>\n",
       "  </tbody>\n",
       "</table>\n",
       "<p>2 rows × 185 columns</p>\n",
       "</div>"
      ],
      "text/plain": [
       "                            PC_1      PC_2      PC_3      PC_4      PC_5  \\\n",
       "Proportion of variance  0.431398  0.165596  0.080682  0.070548  0.047143   \n",
       "Cumulative proportion   0.431398  0.596994  0.677676  0.748224  0.795366   \n",
       "\n",
       "                            PC_6      PC_7      PC_8      PC_9    PC_10  \\\n",
       "Proportion of variance  0.030941  0.027323  0.020050  0.014869  0.01437   \n",
       "Cumulative proportion   0.826307  0.853631  0.873681  0.888550  0.90292   \n",
       "\n",
       "                           PC_11     PC_12     PC_13     PC_14     PC_15  \\\n",
       "Proportion of variance  0.009547  0.007227  0.006733  0.005180  0.004606   \n",
       "Cumulative proportion   0.912467  0.919694  0.926427  0.931607  0.936213   \n",
       "\n",
       "                           PC_16     PC_17     PC_18     PC_19     PC_20  \\\n",
       "Proportion of variance  0.004065  0.003805  0.003199  0.002950  0.002804   \n",
       "Cumulative proportion   0.940278  0.944083  0.947282  0.950232  0.953036   \n",
       "\n",
       "                           PC_21     PC_22     PC_23     PC_24     PC_25  \\\n",
       "Proportion of variance  0.002449  0.002191  0.002108  0.002079  0.001981   \n",
       "Cumulative proportion   0.955485  0.957675  0.959783  0.961862  0.963843   \n",
       "\n",
       "                           PC_26     PC_27     PC_28     PC_29     PC_30  \\\n",
       "Proportion of variance  0.001853  0.001776  0.001634  0.001511  0.001429   \n",
       "Cumulative proportion   0.965696  0.967472  0.969106  0.970616  0.972045   \n",
       "\n",
       "                           PC_31     PC_32     PC_33     PC_34     PC_35  \\\n",
       "Proportion of variance  0.001279  0.001241  0.001165  0.001129  0.001071   \n",
       "Cumulative proportion   0.973324  0.974565  0.975730  0.976859  0.977930   \n",
       "\n",
       "                           PC_36     PC_37     PC_38     PC_39     PC_40  \\\n",
       "Proportion of variance  0.001023  0.001004  0.000924  0.000891  0.000865   \n",
       "Cumulative proportion   0.978953  0.979957  0.980881  0.981772  0.982637   \n",
       "\n",
       "                           PC_41     PC_42     PC_43     PC_44     PC_45  \\\n",
       "Proportion of variance  0.000817  0.000808  0.000746  0.000739  0.000679   \n",
       "Cumulative proportion   0.983454  0.984262  0.985008  0.985747  0.986426   \n",
       "\n",
       "                           PC_46     PC_47     PC_48     PC_49     PC_50  \\\n",
       "Proportion of variance  0.000640  0.000626  0.000618  0.000587  0.000570   \n",
       "Cumulative proportion   0.987066  0.987692  0.988310  0.988898  0.989468   \n",
       "\n",
       "                            ...         PC_136    PC_137    PC_138    PC_139  \\\n",
       "Proportion of variance      ...       0.000003  0.000003  0.000002  0.000002   \n",
       "Cumulative proportion       ...       0.999976  0.999979  0.999981  0.999983   \n",
       "\n",
       "                          PC_140    PC_141    PC_142    PC_143    PC_144  \\\n",
       "Proportion of variance  0.000002  0.000002  0.000002  0.000002  0.000001   \n",
       "Cumulative proportion   0.999985  0.999987  0.999989  0.999990  0.999992   \n",
       "\n",
       "                          PC_145    PC_146    PC_147        PC_148  \\\n",
       "Proportion of variance  0.000001  0.000001  0.000001  9.318237e-07   \n",
       "Cumulative proportion   0.999993  0.999994  0.999995  9.999960e-01   \n",
       "\n",
       "                              PC_149        PC_150        PC_151  \\\n",
       "Proportion of variance  8.003664e-07  6.849853e-07  6.283845e-07   \n",
       "Cumulative proportion   9.999968e-01  9.999974e-01  9.999981e-01   \n",
       "\n",
       "                              PC_152        PC_153        PC_154  \\\n",
       "Proportion of variance  4.960839e-07  4.328687e-07  3.194721e-07   \n",
       "Cumulative proportion   9.999986e-01  9.999990e-01  9.999993e-01   \n",
       "\n",
       "                              PC_155        PC_156        PC_157  \\\n",
       "Proportion of variance  2.966943e-07  2.062899e-07  1.486432e-07   \n",
       "Cumulative proportion   9.999996e-01  9.999998e-01  1.000000e+00   \n",
       "\n",
       "                              PC_158        PC_159        PC_160  \\\n",
       "Proportion of variance  2.127316e-08  4.556661e-10  5.297286e-11   \n",
       "Cumulative proportion   1.000000e+00  1.000000e+00  1.000000e+00   \n",
       "\n",
       "                              PC_161        PC_162        PC_163  \\\n",
       "Proportion of variance  1.492153e-16  2.821855e-33  1.839259e-33   \n",
       "Cumulative proportion   1.000000e+00  1.000000e+00  1.000000e+00   \n",
       "\n",
       "                              PC_164        PC_165        PC_166  \\\n",
       "Proportion of variance  1.839259e-33  1.839259e-33  1.839259e-33   \n",
       "Cumulative proportion   1.000000e+00  1.000000e+00  1.000000e+00   \n",
       "\n",
       "                              PC_167        PC_168        PC_169  \\\n",
       "Proportion of variance  1.839259e-33  1.839259e-33  1.839259e-33   \n",
       "Cumulative proportion   1.000000e+00  1.000000e+00  1.000000e+00   \n",
       "\n",
       "                              PC_170        PC_171        PC_172  \\\n",
       "Proportion of variance  1.839259e-33  1.839259e-33  1.839259e-33   \n",
       "Cumulative proportion   1.000000e+00  1.000000e+00  1.000000e+00   \n",
       "\n",
       "                              PC_173        PC_174        PC_175  \\\n",
       "Proportion of variance  1.839259e-33  1.839259e-33  1.839259e-33   \n",
       "Cumulative proportion   1.000000e+00  1.000000e+00  1.000000e+00   \n",
       "\n",
       "                              PC_176        PC_177        PC_178  \\\n",
       "Proportion of variance  1.839259e-33  1.839259e-33  1.839259e-33   \n",
       "Cumulative proportion   1.000000e+00  1.000000e+00  1.000000e+00   \n",
       "\n",
       "                              PC_179        PC_180        PC_181  \\\n",
       "Proportion of variance  1.839259e-33  1.839259e-33  1.839259e-33   \n",
       "Cumulative proportion   1.000000e+00  1.000000e+00  1.000000e+00   \n",
       "\n",
       "                              PC_182        PC_183        PC_184        PC_185  \n",
       "Proportion of variance  1.839259e-33  1.839259e-33  1.839259e-33  1.839259e-33  \n",
       "Cumulative proportion   1.000000e+00  1.000000e+00  1.000000e+00  1.000000e+00  \n",
       "\n",
       "[2 rows x 185 columns]"
      ]
     },
     "metadata": {},
     "output_type": "display_data"
    }
   ],
   "source": [
    "pca = PCA()\n",
    "pca.fit(X_pca)\n",
    "exp_var_ratio = pca.explained_variance_ratio_\n",
    "cumulative_var_ratio = np.zeros(exp_var_ratio.shape)\n",
    "for i in range(len(cumulative_var_ratio)):\n",
    "    cumulative_var_ratio[i] = np.sum(exp_var_ratio[0:i+1])\n",
    "exp_var_ratio = np.concatenate((exp_var_ratio.reshape(1,len(exp_var_ratio)), cumulative_var_ratio.reshape(1,len(cumulative_var_ratio))), axis=0)\n",
    "pd.set_option('display.max_columns', 100)\n",
    "display(pd.DataFrame(exp_var_ratio, columns = ['PC_'+str(i+1) for i in range(X_pca.shape[1])], index = ['Proportion of variance', 'Cumulative proportion']))"
   ]
  },
  {
   "cell_type": "code",
   "execution_count": 360,
   "metadata": {},
   "outputs": [
    {
     "data": {
      "image/png": "[encoded data removed]",
      "text/plain": [
       "<matplotlib.figure.Figure at 0x1b706b534e0>"
      ]
     },
     "metadata": {},
     "output_type": "display_data"
    }
   ],
   "source": [
    "pca = PCA().fit(X_pca)\n",
    "#fig, ax = plt.subplots()\n",
    "\n",
    "sns.set_style(\"whitegrid\", {'axes.grid' : False})\n",
    "sns.set_context(\"paper\", font_scale=1.3)  \n",
    "plt.plot(np.cumsum(pca.explained_variance_ratio_))\n",
    "plt.grid(True)\n",
    "#ax.grid(linestyle='-', linewidth='0.2', color='black')\n",
    "plt.xlabel('Number of Components')\n",
    "plt.ylabel('Cumulative Explained Variance');\n",
    "axes = plt.gca()\n",
    "axes.set_xlim([0,50])\n",
    "axes.set_ylim([0.2,1.03])\n",
    "plt.tight_layout()\n",
    "sns.despine(top=True)\n",
    "plt.savefig('Fig1.png', dpi=300)"
   ]
  },
  {
   "cell_type": "code",
   "execution_count": 402,
   "metadata": {},
   "outputs": [],
   "source": [
    "X=data.iloc[:,:-1] # Train\n",
    "y=data.Class # Test\n",
    "X.columns = np.arange(len(X.columns))\n",
    "\n",
    "#from sklearn.preprocessing import MinMaxScaler\n",
    "#sc = MinMaxScaler(feature_range=(0,1))\n",
    "\n",
    "from sklearn.preprocessing import StandardScaler\n",
    "sc = StandardScaler()  \n",
    "X_train = sc.fit_transform(X_train)  \n",
    "X_test = sc.transform(X_test) \n",
    "\n",
    "X_train, X_test, y_train, y_test = train_test_split(X, y,\n",
    "                                                    stratify=y, \n",
    "                                                    test_size=0.25)\n",
    "\n",
    "X_train = sc.fit_transform(X_train)  \n",
    "X_test = sc.transform(X_test)  "
   ]
  },
  {
   "cell_type": "code",
   "execution_count": 403,
   "metadata": {},
   "outputs": [],
   "source": [
    "from sklearn.decomposition import PCA\n",
    "\n",
    "pca = PCA(n_components=20)  \n",
    "X_train = pca.fit_transform(X_train)  \n",
    "X_test = pca.transform(X_test)  "
   ]
  },
  {
   "cell_type": "code",
   "execution_count": 404,
   "metadata": {},
   "outputs": [
    {
     "name": "stderr",
     "output_type": "stream",
     "text": [
      "C:\\Users\\Ali\\Anaconda3\\lib\\site-packages\\sklearn\\preprocessing\\label.py:151: DeprecationWarning: The truth value of an empty array is ambiguous. Returning False, but in future this will result in an error. Use `array.size > 0` to check that an array is not empty.\n",
      "  if diff:\n",
      "C:\\Users\\Ali\\Anaconda3\\lib\\site-packages\\sklearn\\preprocessing\\label.py:151: DeprecationWarning: The truth value of an empty array is ambiguous. Returning False, but in future this will result in an error. Use `array.size > 0` to check that an array is not empty.\n",
      "  if diff:\n",
      "C:\\Users\\Ali\\Anaconda3\\lib\\site-packages\\sklearn\\preprocessing\\label.py:151: DeprecationWarning: The truth value of an empty array is ambiguous. Returning False, but in future this will result in an error. Use `array.size > 0` to check that an array is not empty.\n",
      "  if diff:\n",
      "C:\\Users\\Ali\\Anaconda3\\lib\\site-packages\\sklearn\\preprocessing\\label.py:151: DeprecationWarning: The truth value of an empty array is ambiguous. Returning False, but in future this will result in an error. Use `array.size > 0` to check that an array is not empty.\n",
      "  if diff:\n"
     ]
    },
    {
     "data": {
      "text/html": [
       "<div>\n",
       "<style scoped>\n",
       "    .dataframe tbody tr th:only-of-type {\n",
       "        vertical-align: middle;\n",
       "    }\n",
       "\n",
       "    .dataframe tbody tr th {\n",
       "        vertical-align: top;\n",
       "    }\n",
       "\n",
       "    .dataframe thead th {\n",
       "        text-align: right;\n",
       "    }\n",
       "</style>\n",
       "<table border=\"1\" class=\"dataframe\">\n",
       "  <thead>\n",
       "    <tr style=\"text-align: right;\">\n",
       "      <th></th>\n",
       "      <th>Accuracy</th>\n",
       "      <th>Precision</th>\n",
       "      <th>Recall</th>\n",
       "      <th>F1-Score</th>\n",
       "      <th>Log Loss</th>\n",
       "    </tr>\n",
       "    <tr>\n",
       "      <th>Algorithm</th>\n",
       "      <th></th>\n",
       "      <th></th>\n",
       "      <th></th>\n",
       "      <th></th>\n",
       "      <th></th>\n",
       "    </tr>\n",
       "  </thead>\n",
       "  <tbody>\n",
       "    <tr>\n",
       "      <th>XGBoost</th>\n",
       "      <td>0.952</td>\n",
       "      <td>0.952</td>\n",
       "      <td>0.952</td>\n",
       "      <td>0.952</td>\n",
       "      <td>0.228416</td>\n",
       "    </tr>\n",
       "  </tbody>\n",
       "</table>\n",
       "</div>"
      ],
      "text/plain": [
       "           Accuracy  Precision  Recall  F1-Score  Log Loss\n",
       "Algorithm                                                 \n",
       "XGBoost       0.952      0.952   0.952     0.952  0.228416"
      ]
     },
     "execution_count": 404,
     "metadata": {},
     "output_type": "execute_result"
    }
   ],
   "source": [
    "xgb = XGBClassifier(n_estimators=150)\n",
    "xgb.fit(X_train, y_train)\n",
    "xgb_acc=accuracy_score(y_test, xgb.predict(X_test))\n",
    "xgb_pr=precision_score(y_test, xgb.predict(X_test),average='micro') \n",
    "xgb_f1=f1_score(y_test, xgb.predict(X_test),average='micro') \n",
    "xgb_rc=recall_score(y_test, xgb.predict(X_test),average='micro') \n",
    "xgb_log=log_loss(y_test,xgb.predict_proba(X_test))\n",
    "results1=pd.DataFrame({'Algorithm':['XGBoost'],\n",
    "                     'Accuracy':[xgb_acc],\n",
    "                     'Precision':[xgb_pr],\n",
    "                     'Recall':[xgb_rc],\n",
    "                     'F1-Score':[xgb_f1],\n",
    "                     'Log Loss':[xgb_log]})\n",
    "results1.set_index('Algorithm', inplace=True)\n",
    "results1"
   ]
  },
  {
   "cell_type": "code",
   "execution_count": 405,
   "metadata": {},
   "outputs": [
    {
     "name": "stderr",
     "output_type": "stream",
     "text": [
      "C:\\Users\\Ali\\Anaconda3\\lib\\site-packages\\sklearn\\preprocessing\\label.py:151: DeprecationWarning: The truth value of an empty array is ambiguous. Returning False, but in future this will result in an error. Use `array.size > 0` to check that an array is not empty.\n",
      "  if diff:\n",
      "C:\\Users\\Ali\\Anaconda3\\lib\\site-packages\\ipykernel_launcher.py:7: RuntimeWarning: invalid value encountered in true_divide\n",
      "  import sys\n"
     ]
    },
    {
     "name": "stdout",
     "output_type": "stream",
     "text": [
      "Number of misclassified points  4.8\n",
      "Confusion matrix\n"
     ]
    },
    {
     "data": {
      "image/png": "[encoded data removed]",
      "text/plain": [
       "<matplotlib.figure.Figure at 0x1b700d3e390>"
      ]
     },
     "metadata": {},
     "output_type": "display_data"
    }
   ],
   "source": [
    "from sklearn.metrics import confusion_matrix\n",
    "pred1=xgb.predict(X_test)\n",
    "\n",
    "cf1=confusion_matrix(y_test, pred1)\n",
    "plot_confusion_matrix(y_test, pred1)"
   ]
  },
  {
   "cell_type": "code",
   "execution_count": null,
   "metadata": {},
   "outputs": [],
   "source": []
  }
 ],
 "metadata": {
  "kernelspec": {
   "display_name": "Python 3",
   "language": "python",
   "name": "python3"
  },
  "language_info": {
   "codemirror_mode": {
    "name": "ipython",
    "version": 3
   },
   "file_extension": ".py",
   "mimetype": "text/x-python",
   "name": "python",
   "nbconvert_exporter": "python",
   "pygments_lexer": "ipython3",
   "version": "3.6.7"
  }
 },
 "nbformat": 4,
 "nbformat_minor": 2
}
