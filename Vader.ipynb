{
 "cells": [
  {
   "cell_type": "code",
   "execution_count": 1,
   "metadata": {},
   "outputs": [],
   "source": [
    "import numpy as np\n",
    "import pandas as pd\n",
    "import string, re\n",
    "import nltk\n",
    "from textblob import TextBlob\n",
    "import matplotlib.pyplot as plt\n",
    "import seaborn as sns\n",
    "\n",
    "import datetime\n",
    "#import datetime as dt\n",
    "import talib\n",
    "%matplotlib inline\n",
    "pd.core.common.is_list_like = pd.api.types.is_list_like\n",
    "import pandas_datareader.data as web\n",
    "import warnings\n",
    "warnings.filterwarnings('ignore')"
   ]
  },
  {
   "cell_type": "code",
   "execution_count": 32,
   "metadata": {},
   "outputs": [
    {
     "name": "stdout",
     "output_type": "stream",
     "text": [
      "Columns are:\n",
      " Index(['Text', 'DateTime', 'Language'], dtype='object')\n",
      "\n",
      " Original data with all Tweets (174310, 3)\n"
     ]
    },
    {
     "data": {
      "text/html": [
       "<div>\n",
       "<style scoped>\n",
       "    .dataframe tbody tr th:only-of-type {\n",
       "        vertical-align: middle;\n",
       "    }\n",
       "\n",
       "    .dataframe tbody tr th {\n",
       "        vertical-align: top;\n",
       "    }\n",
       "\n",
       "    .dataframe thead th {\n",
       "        text-align: right;\n",
       "    }\n",
       "</style>\n",
       "<table border=\"1\" class=\"dataframe\">\n",
       "  <thead>\n",
       "    <tr style=\"text-align: right;\">\n",
       "      <th></th>\n",
       "      <th>Text</th>\n",
       "      <th>DateTime</th>\n",
       "      <th>Language</th>\n",
       "    </tr>\n",
       "  </thead>\n",
       "  <tbody>\n",
       "    <tr>\n",
       "      <th>0</th>\n",
       "      <td>@QOTD: Buy Microsoft stock immediately. Sell a...</td>\n",
       "      <td>2007-01-30 18:48:52</td>\n",
       "      <td>en</td>\n",
       "    </tr>\n",
       "    <tr>\n",
       "      <th>1</th>\n",
       "      <td>OK, I went and did it - I invested in Yahoo. A...</td>\n",
       "      <td>2007-04-20 16:46:24</td>\n",
       "      <td>en</td>\n",
       "    </tr>\n",
       "  </tbody>\n",
       "</table>\n",
       "</div>"
      ],
      "text/plain": [
       "                                                Text             DateTime  \\\n",
       "0  @QOTD: Buy Microsoft stock immediately. Sell a...  2007-01-30 18:48:52   \n",
       "1  OK, I went and did it - I invested in Yahoo. A...  2007-04-20 16:46:24   \n",
       "\n",
       "  Language  \n",
       "0       en  \n",
       "1       en  "
      ]
     },
     "execution_count": 32,
     "metadata": {},
     "output_type": "execute_result"
    }
   ],
   "source": [
    "#dfo=pd.read_excel('apple_all_dec7.xlsx')\n",
    "#dfo=pd.read_excel('Amazonall1.xlsx')\n",
    "dfo=pd.read_excel('microsoft_all_dec10.xlsx')\n",
    "print('Columns are:\\n',dfo.columns)\n",
    "print('\\n Original data with all Tweets',dfo.shape)\n",
    "dfo.head(2)"
   ]
  },
  {
   "cell_type": "code",
   "execution_count": 33,
   "metadata": {},
   "outputs": [],
   "source": [
    "from vaderSentiment.vaderSentiment import SentimentIntensityAnalyzer \n",
    "sa = SentimentIntensityAnalyzer()"
   ]
  },
  {
   "cell_type": "code",
   "execution_count": 34,
   "metadata": {},
   "outputs": [],
   "source": [
    "stop_list = nltk.corpus.stopwords.words('english')\n",
    "lemmatizer = nltk.stem.WordNetLemmatizer()\n",
    "\n",
    "def preprocess(tweet):\n",
    "    if type(tweet)!=type(2.0):\n",
    "        #tweet = tweet.lower()\n",
    "        tweet = \" \".join(tweet.split('#'))\n",
    "        tweet = re.sub(r'#([^\\s]+)', r'\\1', tweet)\n",
    "        tweet = re.sub('((www\\.[^\\s]+)|(https://[^\\s]+))','URL',tweet)\n",
    "        tweet = re.sub(\"http\\S+\", \"URL\", tweet)\n",
    "        tweet = re.sub(\"https\\S+\", \"URL\", tweet)\n",
    "        tweet = re.sub('@[^\\s]+','AT_USER',tweet)\n",
    "        #tweet = tweet.replace(\"AT_USER\",\"\")\n",
    "        tweet = tweet.replace(\"URL\",\"\")\n",
    "        tweet = tweet.replace(\".\",\"\")\n",
    "        tweet = tweet.replace('\\\"',\"\")\n",
    "        #tweet = tweet.replace('&amp',\"\")\n",
    "        tweet  = \" \".join([word for word in tweet.split(\" \") if word not in stop_list])\n",
    "        tweet  = \" \".join([word for word in tweet.split(\" \") if re.search('^[a-z]+$', word)])\n",
    "        tweet = \" \".join([lemmatizer.lemmatize(word) for word in tweet.split(\" \")])\n",
    "        tweet = re.sub('[\\s]+', ' ', tweet)\n",
    "        tweet = tweet.strip('\\'\"')\n",
    "    else:\n",
    "        tweet=''\n",
    "    return tweet"
   ]
  },
  {
   "cell_type": "code",
   "execution_count": 48,
   "metadata": {},
   "outputs": [],
   "source": [
    "dfo['Text'] = dfo['Text'].astype(object)\n",
    "dfo['Text'] =dfo.Text.str.lower()\n",
    "dfo['Processed_text']=dfo.Text.apply(preprocess)\n",
    "dfo=dfo[dfo['Processed_text'].apply(lambda x: len(x.split(' ')) > 3)]"
   ]
  },
  {
   "cell_type": "code",
   "execution_count": 49,
   "metadata": {},
   "outputs": [],
   "source": [
    "pos=dfo['Processed_text'].apply(lambda text: sa.polarity_scores(text)['pos'])\n",
    "neu=dfo['Processed_text'].apply(lambda text: sa.polarity_scores(text)['neu'])\n",
    "neg=dfo['Processed_text'].apply(lambda text: sa.polarity_scores(text)['neg'])\n",
    "com=dfo['Processed_text'].apply(lambda text: sa.polarity_scores(text)['compound'])"
   ]
  },
  {
   "cell_type": "code",
   "execution_count": 50,
   "metadata": {},
   "outputs": [
    {
     "name": "stdout",
     "output_type": "stream",
     "text": [
      "original 87212\n",
      "Positive 87212\n",
      "Negative 87212\n",
      "Neutral 87212\n",
      "Compound 87212\n"
     ]
    }
   ],
   "source": [
    "print('original',len(dfo))\n",
    "print('Positive',len(pos))\n",
    "print('Negative',len(neg))\n",
    "print('Neutral',len(neu))\n",
    "print('Compound',len(com))"
   ]
  },
  {
   "cell_type": "code",
   "execution_count": 51,
   "metadata": {},
   "outputs": [],
   "source": [
    "dfo['Positive']=pos\n",
    "dfo['Negative']=neg\n",
    "dfo['Neutral']=neu\n",
    "dfo['Compound']=com"
   ]
  },
  {
   "cell_type": "code",
   "execution_count": 39,
   "metadata": {},
   "outputs": [
    {
     "data": {
      "text/plain": [
       "(20688, 64013)"
      ]
     },
     "execution_count": 39,
     "metadata": {},
     "output_type": "execute_result"
    }
   ],
   "source": [
    "com1=com[com<0]\n",
    "com2=com[com>0.2]\n",
    "len(com1), len(com2)"
   ]
  },
  {
   "cell_type": "code",
   "execution_count": 52,
   "metadata": {},
   "outputs": [
    {
     "data": {
      "image/png": "[encoded data removed]",
      "text/plain": [
       "<Figure size 504x288 with 1 Axes>"
      ]
     },
     "metadata": {},
     "output_type": "display_data"
    }
   ],
   "source": [
    "sns.set_style('white')\n",
    "sns.set_context(\"paper\", font_scale=1.2)  \n",
    "plt.figure(figsize=(7,4))\n",
    "ax = plt.subplot(111)\n",
    "ax.get_yaxis().set_major_formatter(plt.FuncFormatter(lambda x, loc: \"{:,}\".format(int(x))))\n",
    "labels=['Negative','Positive']\n",
    "kwargs = dict(histtype='stepfilled', alpha=0.7, density=0, bins=40)\n",
    "ax=plt.hist(com1, **kwargs,color='#1a8cff');\n",
    "\n",
    "ax=plt.hist(com2, **kwargs, color='#cc3300');\n",
    "plt.xlabel('Amazon Sentiment Scores')\n",
    "plt.ylabel('Frequency')\n",
    "\n",
    "plt.legend(labels, frameon=False)\n",
    "sns.despine(left=True)\n",
    "plt.tight_layout()\n",
    "plt.savefig('Tesla.png', bbox_inches='tight', dpi=400)"
   ]
  },
  {
   "cell_type": "code",
   "execution_count": 53,
   "metadata": {},
   "outputs": [
    {
     "data": {
      "text/html": [
       "<div>\n",
       "<style scoped>\n",
       "    .dataframe tbody tr th:only-of-type {\n",
       "        vertical-align: middle;\n",
       "    }\n",
       "\n",
       "    .dataframe tbody tr th {\n",
       "        vertical-align: top;\n",
       "    }\n",
       "\n",
       "    .dataframe thead th {\n",
       "        text-align: right;\n",
       "    }\n",
       "</style>\n",
       "<table border=\"1\" class=\"dataframe\">\n",
       "  <thead>\n",
       "    <tr style=\"text-align: right;\">\n",
       "      <th></th>\n",
       "      <th>Text</th>\n",
       "      <th>DateTime</th>\n",
       "      <th>Processed_text</th>\n",
       "      <th>Positive</th>\n",
       "      <th>Negative</th>\n",
       "      <th>Neutral</th>\n",
       "      <th>Compound</th>\n",
       "    </tr>\n",
       "  </thead>\n",
       "  <tbody>\n",
       "    <tr>\n",
       "      <th>0</th>\n",
       "      <td>also thinking pocket tesla must be a tad uncom...</td>\n",
       "      <td>2007-01-15 11:50:07</td>\n",
       "      <td>also thinking pocket tesla must tad uncomforta...</td>\n",
       "      <td>0.0</td>\n",
       "      <td>0.271</td>\n",
       "      <td>0.729</td>\n",
       "      <td>-0.3818</td>\n",
       "    </tr>\n",
       "    <tr>\n",
       "      <th>1</th>\n",
       "      <td>nah, i just warp spacetime with a pocket tesla...</td>\n",
       "      <td>2007-01-15 11:45:41</td>\n",
       "      <td>warp spacetime pocket tesla device got firebox...</td>\n",
       "      <td>0.0</td>\n",
       "      <td>0.000</td>\n",
       "      <td>1.000</td>\n",
       "      <td>0.0000</td>\n",
       "    </tr>\n",
       "  </tbody>\n",
       "</table>\n",
       "</div>"
      ],
      "text/plain": [
       "                                                Text             DateTime  \\\n",
       "0  also thinking pocket tesla must be a tad uncom...  2007-01-15 11:50:07   \n",
       "1  nah, i just warp spacetime with a pocket tesla...  2007-01-15 11:45:41   \n",
       "\n",
       "                                      Processed_text  Positive  Negative  \\\n",
       "0  also thinking pocket tesla must tad uncomforta...       0.0     0.271   \n",
       "1  warp spacetime pocket tesla device got firebox...       0.0     0.000   \n",
       "\n",
       "   Neutral  Compound  \n",
       "0    0.729   -0.3818  \n",
       "1    1.000    0.0000  "
      ]
     },
     "execution_count": 53,
     "metadata": {},
     "output_type": "execute_result"
    }
   ],
   "source": [
    "dfo.head(2)"
   ]
  },
  {
   "cell_type": "code",
   "execution_count": 54,
   "metadata": {},
   "outputs": [],
   "source": [
    "dfo=dfo.loc[:,['DateTime','Positive','Negative','Neutral','Compound']]"
   ]
  },
  {
   "cell_type": "code",
   "execution_count": 55,
   "metadata": {},
   "outputs": [
    {
     "data": {
      "text/html": [
       "<div>\n",
       "<style scoped>\n",
       "    .dataframe tbody tr th:only-of-type {\n",
       "        vertical-align: middle;\n",
       "    }\n",
       "\n",
       "    .dataframe tbody tr th {\n",
       "        vertical-align: top;\n",
       "    }\n",
       "\n",
       "    .dataframe thead th {\n",
       "        text-align: right;\n",
       "    }\n",
       "</style>\n",
       "<table border=\"1\" class=\"dataframe\">\n",
       "  <thead>\n",
       "    <tr style=\"text-align: right;\">\n",
       "      <th></th>\n",
       "      <th>DateTime</th>\n",
       "      <th>Positive</th>\n",
       "      <th>Negative</th>\n",
       "      <th>Neutral</th>\n",
       "      <th>Compound</th>\n",
       "    </tr>\n",
       "  </thead>\n",
       "  <tbody>\n",
       "    <tr>\n",
       "      <th>0</th>\n",
       "      <td>2007-01-15 11:50:07</td>\n",
       "      <td>0.000</td>\n",
       "      <td>0.271</td>\n",
       "      <td>0.729</td>\n",
       "      <td>-0.3818</td>\n",
       "    </tr>\n",
       "    <tr>\n",
       "      <th>1</th>\n",
       "      <td>2007-01-15 11:45:41</td>\n",
       "      <td>0.000</td>\n",
       "      <td>0.000</td>\n",
       "      <td>1.000</td>\n",
       "      <td>0.0000</td>\n",
       "    </tr>\n",
       "    <tr>\n",
       "      <th>2</th>\n",
       "      <td>2007-01-31 05:59:14</td>\n",
       "      <td>0.000</td>\n",
       "      <td>0.000</td>\n",
       "      <td>1.000</td>\n",
       "      <td>0.0000</td>\n",
       "    </tr>\n",
       "    <tr>\n",
       "      <th>3</th>\n",
       "      <td>2007-01-31 05:58:06</td>\n",
       "      <td>0.213</td>\n",
       "      <td>0.000</td>\n",
       "      <td>0.787</td>\n",
       "      <td>0.2263</td>\n",
       "    </tr>\n",
       "    <tr>\n",
       "      <th>4</th>\n",
       "      <td>2007-02-08 21:59:32</td>\n",
       "      <td>0.302</td>\n",
       "      <td>0.000</td>\n",
       "      <td>0.698</td>\n",
       "      <td>0.0772</td>\n",
       "    </tr>\n",
       "  </tbody>\n",
       "</table>\n",
       "</div>"
      ],
      "text/plain": [
       "              DateTime  Positive  Negative  Neutral  Compound\n",
       "0  2007-01-15 11:50:07     0.000     0.271    0.729   -0.3818\n",
       "1  2007-01-15 11:45:41     0.000     0.000    1.000    0.0000\n",
       "2  2007-01-31 05:59:14     0.000     0.000    1.000    0.0000\n",
       "3  2007-01-31 05:58:06     0.213     0.000    0.787    0.2263\n",
       "4  2007-02-08 21:59:32     0.302     0.000    0.698    0.0772"
      ]
     },
     "execution_count": 55,
     "metadata": {},
     "output_type": "execute_result"
    }
   ],
   "source": [
    "dfo.head()"
   ]
  },
  {
   "cell_type": "code",
   "execution_count": 56,
   "metadata": {},
   "outputs": [],
   "source": [
    "#dfo.to_csv('AMZN_Vade.csv')\n",
    "#dfo.to_csv('AAPL_Vade.csv')\n",
    "#dfo.to_csv('MSFT_Vade.csv')\n",
    "dfo.to_csv('TESLA_Vade.csv')"
   ]
  },
  {
   "cell_type": "markdown",
   "metadata": {},
   "source": [
    "## For Tesla Only"
   ]
  },
  {
   "cell_type": "code",
   "execution_count": 45,
   "metadata": {},
   "outputs": [
    {
     "name": "stdout",
     "output_type": "stream",
     "text": [
      "(117086, 3)\n"
     ]
    },
    {
     "data": {
      "text/html": [
       "<div>\n",
       "<style scoped>\n",
       "    .dataframe tbody tr th:only-of-type {\n",
       "        vertical-align: middle;\n",
       "    }\n",
       "\n",
       "    .dataframe tbody tr th {\n",
       "        vertical-align: top;\n",
       "    }\n",
       "\n",
       "    .dataframe thead th {\n",
       "        text-align: right;\n",
       "    }\n",
       "</style>\n",
       "<table border=\"1\" class=\"dataframe\">\n",
       "  <thead>\n",
       "    <tr style=\"text-align: right;\">\n",
       "      <th></th>\n",
       "      <th>Text</th>\n",
       "      <th>DateTime</th>\n",
       "      <th>Text1</th>\n",
       "    </tr>\n",
       "  </thead>\n",
       "  <tbody>\n",
       "    <tr>\n",
       "      <th>0</th>\n",
       "      <td>also thinking pocket tesla must be a tad uncom...</td>\n",
       "      <td>2007-01-15 11:50:07</td>\n",
       "      <td>also thinking pocket tesla must be a tad uncom...</td>\n",
       "    </tr>\n",
       "    <tr>\n",
       "      <th>1</th>\n",
       "      <td>nah, i just warp spacetime with a pocket tesla...</td>\n",
       "      <td>2007-01-15 11:45:41</td>\n",
       "      <td>nah, i just warp spacetime with a pocket tesla...</td>\n",
       "    </tr>\n",
       "    <tr>\n",
       "      <th>2</th>\n",
       "      <td>Noting that Arlo can get Tesla off the iTunes ...</td>\n",
       "      <td>2007-01-31 05:59:14</td>\n",
       "      <td>noting that arlo can get tesla off the itunes ...</td>\n",
       "    </tr>\n",
       "    <tr>\n",
       "      <th>3</th>\n",
       "      <td>Wishing I could get a Tesla without waiting a ...</td>\n",
       "      <td>2007-01-31 05:58:06</td>\n",
       "      <td>wishing i could get a tesla without waiting a ...</td>\n",
       "    </tr>\n",
       "    <tr>\n",
       "      <th>4</th>\n",
       "      <td>I want the Tesla Motors car</td>\n",
       "      <td>2007-02-08 21:59:32</td>\n",
       "      <td>i want the tesla motors car</td>\n",
       "    </tr>\n",
       "  </tbody>\n",
       "</table>\n",
       "</div>"
      ],
      "text/plain": [
       "                                                Text             DateTime  \\\n",
       "0  also thinking pocket tesla must be a tad uncom...  2007-01-15 11:50:07   \n",
       "1  nah, i just warp spacetime with a pocket tesla...  2007-01-15 11:45:41   \n",
       "2  Noting that Arlo can get Tesla off the iTunes ...  2007-01-31 05:59:14   \n",
       "3  Wishing I could get a Tesla without waiting a ...  2007-01-31 05:58:06   \n",
       "4                        I want the Tesla Motors car  2007-02-08 21:59:32   \n",
       "\n",
       "                                               Text1  \n",
       "0  also thinking pocket tesla must be a tad uncom...  \n",
       "1  nah, i just warp spacetime with a pocket tesla...  \n",
       "2  noting that arlo can get tesla off the itunes ...  \n",
       "3  wishing i could get a tesla without waiting a ...  \n",
       "4                        i want the tesla motors car  "
      ]
     },
     "execution_count": 45,
     "metadata": {},
     "output_type": "execute_result"
    }
   ],
   "source": [
    "dfo=pd.read_excel('tesla_all_mar10.xlsx')\n",
    "dfo['Text1']=dfo.Text\n",
    "dfo['Text1'] = dfo['Text1'].astype(object)\n",
    "dfo['Text1'] =dfo.Text.str.lower()\n",
    "print(dfo.shape)\n",
    "dfo.head()"
   ]
  },
  {
   "cell_type": "code",
   "execution_count": 46,
   "metadata": {},
   "outputs": [
    {
     "data": {
      "text/plain": [
       "(100300, 2)"
      ]
     },
     "execution_count": 46,
     "metadata": {},
     "output_type": "execute_result"
    }
   ],
   "source": [
    "#df1 = dfo[~dfo['Text1'].isin(['nikola','girls','coil','song'])]\n",
    "dfo=dfo[~dfo.Text1.str.contains(\"nikola\", na=False)]\n",
    "dfo=dfo[~dfo.Text1.str.contains(\"girls\", na=False)]\n",
    "dfo=dfo[~dfo.Text1.str.contains(\"song\", na=False)]\n",
    "dfo=dfo[~dfo.Text1.str.contains(\"sing\", na=False)]\n",
    "dfo=dfo[~dfo.Text1.str.contains(\"coil\", na=False)]\n",
    "dfo=dfo[~dfo.Text1.str.contains(\"nicola\", na=False)]\n",
    "dfo=dfo.loc[:,['Text','DateTime']]\n",
    "dfo.shape"
   ]
  },
  {
   "cell_type": "code",
   "execution_count": 47,
   "metadata": {},
   "outputs": [
    {
     "data": {
      "text/html": [
       "<div>\n",
       "<style scoped>\n",
       "    .dataframe tbody tr th:only-of-type {\n",
       "        vertical-align: middle;\n",
       "    }\n",
       "\n",
       "    .dataframe tbody tr th {\n",
       "        vertical-align: top;\n",
       "    }\n",
       "\n",
       "    .dataframe thead th {\n",
       "        text-align: right;\n",
       "    }\n",
       "</style>\n",
       "<table border=\"1\" class=\"dataframe\">\n",
       "  <thead>\n",
       "    <tr style=\"text-align: right;\">\n",
       "      <th></th>\n",
       "      <th>Text</th>\n",
       "      <th>DateTime</th>\n",
       "    </tr>\n",
       "  </thead>\n",
       "  <tbody>\n",
       "    <tr>\n",
       "      <th>0</th>\n",
       "      <td>also thinking pocket tesla must be a tad uncom...</td>\n",
       "      <td>2007-01-15 11:50:07</td>\n",
       "    </tr>\n",
       "    <tr>\n",
       "      <th>1</th>\n",
       "      <td>nah, i just warp spacetime with a pocket tesla...</td>\n",
       "      <td>2007-01-15 11:45:41</td>\n",
       "    </tr>\n",
       "    <tr>\n",
       "      <th>2</th>\n",
       "      <td>Noting that Arlo can get Tesla off the iTunes ...</td>\n",
       "      <td>2007-01-31 05:59:14</td>\n",
       "    </tr>\n",
       "  </tbody>\n",
       "</table>\n",
       "</div>"
      ],
      "text/plain": [
       "                                                Text             DateTime\n",
       "0  also thinking pocket tesla must be a tad uncom...  2007-01-15 11:50:07\n",
       "1  nah, i just warp spacetime with a pocket tesla...  2007-01-15 11:45:41\n",
       "2  Noting that Arlo can get Tesla off the iTunes ...  2007-01-31 05:59:14"
      ]
     },
     "execution_count": 47,
     "metadata": {},
     "output_type": "execute_result"
    }
   ],
   "source": [
    "dfo.head(3)"
   ]
  },
  {
   "cell_type": "code",
   "execution_count": null,
   "metadata": {},
   "outputs": [],
   "source": []
  },
  {
   "cell_type": "code",
   "execution_count": null,
   "metadata": {},
   "outputs": [],
   "source": []
  }
 ],
 "metadata": {
  "kernelspec": {
   "display_name": "Python 3",
   "language": "python",
   "name": "python3"
  },
  "language_info": {
   "codemirror_mode": {
    "name": "ipython",
    "version": 3
   },
   "file_extension": ".py",
   "mimetype": "text/x-python",
   "name": "python",
   "nbconvert_exporter": "python",
   "pygments_lexer": "ipython3",
   "version": "3.6.7"
  },
  "toc": {
   "base_numbering": 1,
   "nav_menu": {},
   "number_sections": true,
   "sideBar": true,
   "skip_h1_title": false,
   "title_cell": "Table of Contents",
   "title_sidebar": "Contents",
   "toc_cell": false,
   "toc_position": {},
   "toc_section_display": true,
   "toc_window_display": false
  }
 },
 "nbformat": 4,
 "nbformat_minor": 2
}
