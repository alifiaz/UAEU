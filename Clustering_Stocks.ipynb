{
 "cells": [
  {
   "cell_type": "code",
   "execution_count": 1,
   "metadata": {},
   "outputs": [],
   "source": [
    "import datetime as dt\n",
    "import matplotlib.pyplot as plt\n",
    "import seaborn as sns\n",
    "from matplotlib import style\n",
    "import talib\n",
    "%matplotlib inline\n",
    "import numpy as np\n",
    "import pandas as pd\n",
    "pd.core.common.is_list_like = pd.api.types.is_list_like\n",
    "import pandas_datareader.data as web\n",
    "from sklearn.cluster import DBSCAN\n",
    "from sklearn.preprocessing import StandardScaler\n",
    "\n",
    "from pylab import plot,show\n",
    "from numpy import vstack,array\n",
    "from numpy.random import rand\n",
    "import numpy as np\n",
    "from scipy.cluster.vq import kmeans,vq\n",
    "import pandas_datareader as dr\n",
    "from math import sqrt\n",
    "from sklearn.cluster import KMeans\n",
    "from matplotlib import pyplot as plt\n",
    "\n",
    "\n",
    "import warnings\n",
    "warnings.filterwarnings('ignore')"
   ]
  },
  {
   "cell_type": "code",
   "execution_count": 84,
   "metadata": {},
   "outputs": [],
   "source": [
    "ticker=['AAL','AAPL','ADBE','ADI','ADP','ADSK','ALGN','ALXN','AMAT','AMGN','AMZN','ASML','ATVI',\n",
    "        'AVGO','BIDU','BIIB','BKNG','BMRN','CA','CDNS','CELG','CERN','CHKP','CHTR','CMCSA','COST',\n",
    "        'CSCO','CSX','CTAS','CTRP','CTSH','CTXS','DLTR','EA','EBAY','ESRX','EXPE','FAST','FB','FISV',\n",
    "        'FOX','FOXA','GILD','GOOG','GOOGL','HAS','HOLX','HSIC','IDXX','ILMN','INCY','INTC','INTU',\n",
    "        'ISRG','JBHT','JD','KHC','KLAC','LBTYA','LBTYK','LRCX','MAR','MCHP','MDLZ','MELI','MNST',\n",
    "        'MSFT','MU','MXIM','MYL','NFLX','NTES','NVDA','ORLY','PAYX','PCAR','PEP','PYPL','QCOM',\n",
    "        'QRTEA','REGN','ROST','SBUX','SHPG','SIRI','SNPS','STX','SWKS','SYMC','TMUS','TSLA','TTWO',\n",
    "        'TXN','ULTA','VOD','VRSK','VRTX','WBA','WDAY','WDC','WYNN','XLNX','XRAY']"
   ]
  },
  {
   "cell_type": "code",
   "execution_count": 85,
   "metadata": {},
   "outputs": [
    {
     "name": "stdout",
     "output_type": "stream",
     "text": [
      "Number of Companies: 103\n"
     ]
    }
   ],
   "source": [
    "print('Number of Companies:',len(ticker))"
   ]
  },
  {
   "cell_type": "code",
   "execution_count": 15,
   "metadata": {},
   "outputs": [
    {
     "name": "stdout",
     "output_type": "stream",
     "text": [
      "[*********************100%***********************]  103 of 103 downloaded\n"
     ]
    }
   ],
   "source": [
    "# Multiple\n",
    "from pandas_datareader import data as pdr\n",
    "import fix_yahoo_finance as yf\n",
    "\n",
    "yf.pdr_override() \n",
    "\n",
    "start = dt.datetime(2006,5,31)\n",
    "end = dt.datetime(2018,12,20)\n",
    "\n",
    "df = pdr.get_data_yahoo(ticker, start=start, end=end)"
   ]
  },
  {
   "cell_type": "code",
   "execution_count": 17,
   "metadata": {},
   "outputs": [
    {
     "data": {
      "text/plain": [
       "(3163, 612)"
      ]
     },
     "execution_count": 17,
     "metadata": {},
     "output_type": "execute_result"
    }
   ],
   "source": [
    "df.shape"
   ]
  },
  {
   "cell_type": "code",
   "execution_count": 23,
   "metadata": {},
   "outputs": [],
   "source": [
    "fil_cols = [col for col in df.columns if 'Close' in col]\n",
    "df1=df[fil_cols]\n",
    "df1.columns = df1.columns.droplevel()\n",
    "df1.to_csv('AllClose.csv')"
   ]
  },
  {
   "cell_type": "markdown",
   "metadata": {},
   "source": [
    "## Data Read"
   ]
  },
  {
   "cell_type": "code",
   "execution_count": 2,
   "metadata": {},
   "outputs": [
    {
     "name": "stdout",
     "output_type": "stream",
     "text": [
      "(3163, 102)\n"
     ]
    },
    {
     "data": {
      "text/html": [
       "<div>\n",
       "<style scoped>\n",
       "    .dataframe tbody tr th:only-of-type {\n",
       "        vertical-align: middle;\n",
       "    }\n",
       "\n",
       "    .dataframe tbody tr th {\n",
       "        vertical-align: top;\n",
       "    }\n",
       "\n",
       "    .dataframe thead th {\n",
       "        text-align: right;\n",
       "    }\n",
       "</style>\n",
       "<table border=\"1\" class=\"dataframe\">\n",
       "  <thead>\n",
       "    <tr style=\"text-align: right;\">\n",
       "      <th></th>\n",
       "      <th>AAL</th>\n",
       "      <th>AAPL</th>\n",
       "      <th>ADBE</th>\n",
       "      <th>ADI</th>\n",
       "      <th>ADP</th>\n",
       "      <th>ADSK</th>\n",
       "      <th>ALGN</th>\n",
       "      <th>ALXN</th>\n",
       "      <th>AMAT</th>\n",
       "      <th>AMGN</th>\n",
       "      <th>...</th>\n",
       "      <th>ULTA</th>\n",
       "      <th>VOD</th>\n",
       "      <th>VRSK</th>\n",
       "      <th>VRTX</th>\n",
       "      <th>WBA</th>\n",
       "      <th>WDAY</th>\n",
       "      <th>WDC</th>\n",
       "      <th>WYNN</th>\n",
       "      <th>XLNX</th>\n",
       "      <th>XRAY</th>\n",
       "    </tr>\n",
       "    <tr>\n",
       "      <th>Date</th>\n",
       "      <th></th>\n",
       "      <th></th>\n",
       "      <th></th>\n",
       "      <th></th>\n",
       "      <th></th>\n",
       "      <th></th>\n",
       "      <th></th>\n",
       "      <th></th>\n",
       "      <th></th>\n",
       "      <th></th>\n",
       "      <th></th>\n",
       "      <th></th>\n",
       "      <th></th>\n",
       "      <th></th>\n",
       "      <th></th>\n",
       "      <th></th>\n",
       "      <th></th>\n",
       "      <th></th>\n",
       "      <th></th>\n",
       "      <th></th>\n",
       "      <th></th>\n",
       "    </tr>\n",
       "  </thead>\n",
       "  <tbody>\n",
       "    <tr>\n",
       "      <th>2006-05-30</th>\n",
       "      <td>44.610001</td>\n",
       "      <td>8.745714</td>\n",
       "      <td>28.350000</td>\n",
       "      <td>33.619999</td>\n",
       "      <td>35.957527</td>\n",
       "      <td>36.490002</td>\n",
       "      <td>7.37</td>\n",
       "      <td>8.0025</td>\n",
       "      <td>16.709999</td>\n",
       "      <td>66.830002</td>\n",
       "      <td>...</td>\n",
       "      <td>NaN</td>\n",
       "      <td>26.258919</td>\n",
       "      <td>NaN</td>\n",
       "      <td>32.619999</td>\n",
       "      <td>40.200001</td>\n",
       "      <td>NaN</td>\n",
       "      <td>20.049999</td>\n",
       "      <td>70.000000</td>\n",
       "      <td>25.43</td>\n",
       "      <td>29.645</td>\n",
       "    </tr>\n",
       "    <tr>\n",
       "      <th>2006-05-31</th>\n",
       "      <td>46.700001</td>\n",
       "      <td>8.538571</td>\n",
       "      <td>28.629999</td>\n",
       "      <td>33.730000</td>\n",
       "      <td>36.060623</td>\n",
       "      <td>36.389999</td>\n",
       "      <td>7.39</td>\n",
       "      <td>8.1275</td>\n",
       "      <td>16.910000</td>\n",
       "      <td>67.589996</td>\n",
       "      <td>...</td>\n",
       "      <td>NaN</td>\n",
       "      <td>26.794815</td>\n",
       "      <td>NaN</td>\n",
       "      <td>34.500000</td>\n",
       "      <td>40.599998</td>\n",
       "      <td>NaN</td>\n",
       "      <td>20.350000</td>\n",
       "      <td>71.199997</td>\n",
       "      <td>26.00</td>\n",
       "      <td>29.900</td>\n",
       "    </tr>\n",
       "  </tbody>\n",
       "</table>\n",
       "<p>2 rows × 102 columns</p>\n",
       "</div>"
      ],
      "text/plain": [
       "                  AAL      AAPL       ADBE        ADI        ADP       ADSK  \\\n",
       "Date                                                                          \n",
       "2006-05-30  44.610001  8.745714  28.350000  33.619999  35.957527  36.490002   \n",
       "2006-05-31  46.700001  8.538571  28.629999  33.730000  36.060623  36.389999   \n",
       "\n",
       "            ALGN    ALXN       AMAT       AMGN   ...    ULTA        VOD  VRSK  \\\n",
       "Date                                             ...                            \n",
       "2006-05-30  7.37  8.0025  16.709999  66.830002   ...     NaN  26.258919   NaN   \n",
       "2006-05-31  7.39  8.1275  16.910000  67.589996   ...     NaN  26.794815   NaN   \n",
       "\n",
       "                 VRTX        WBA  WDAY        WDC       WYNN   XLNX    XRAY  \n",
       "Date                                                                         \n",
       "2006-05-30  32.619999  40.200001   NaN  20.049999  70.000000  25.43  29.645  \n",
       "2006-05-31  34.500000  40.599998   NaN  20.350000  71.199997  26.00  29.900  \n",
       "\n",
       "[2 rows x 102 columns]"
      ]
     },
     "execution_count": 2,
     "metadata": {},
     "output_type": "execute_result"
    }
   ],
   "source": [
    "df=pd.read_csv('AllClose.csv')\n",
    "df['Date']=pd.to_datetime(df['Date'])\n",
    "df.set_index('Date', inplace=True)\n",
    "print(df.shape)\n",
    "df.head(2)"
   ]
  },
  {
   "cell_type": "code",
   "execution_count": 3,
   "metadata": {},
   "outputs": [
    {
     "name": "stdout",
     "output_type": "stream",
     "text": [
      "2006-05-30 00:00:00\n",
      "2018-12-19 00:00:00\n",
      "(3158, 102)\n"
     ]
    }
   ],
   "source": [
    "#Clustering on only training data\n",
    "print(df.index.min()),print(df.index.max())\n",
    "df=df.loc[:'2018-12-12',:]\n",
    "print(df.shape)"
   ]
  },
  {
   "cell_type": "code",
   "execution_count": 4,
   "metadata": {},
   "outputs": [
    {
     "name": "stdout",
     "output_type": "stream",
     "text": [
      "(3158, 92)\n",
      "250\n",
      "253\n",
      "253\n"
     ]
    }
   ],
   "source": [
    "df.dropna(axis=1,how='any', thresh=2500,inplace=True);\n",
    "print(df.shape)\n",
    "\n",
    "print(len(df.loc['2011-12-31':'2012-12-31','AAPL']))\n",
    "print(len(df.loc['2012-12-31':'2013-12-31','AAPL']))\n",
    "print(len(df.loc['2014-12-31':'2015-12-31','AAPL']))\n",
    "#print(len(df.loc['2016-12-31':'2017-12-31','AAPL']))"
   ]
  },
  {
   "cell_type": "code",
   "execution_count": 5,
   "metadata": {},
   "outputs": [],
   "source": [
    "#Calculate average annual percentage return and volatilities over a theoretical one year period\n",
    "returns = df.pct_change().mean() * 252\n",
    "returns = pd.DataFrame(returns)\n",
    "#print(returns)\n",
    "returns.columns = ['Returns']\n",
    "returns['Volatility'] = df.pct_change().std() * sqrt(252)\n",
    "#print(returns['Volatility'])\n",
    "#format the data as a numpy array to feed into the K-Means algorithm\n",
    "data = np.asarray([np.asarray(returns['Returns']),np.asarray(returns['Volatility'])]).T\n",
    "#removing NaN values, replacing them by 0\n",
    "cleaned_data = np.where(np.isnan(data), 0, data)\n",
    "#cleaned_data"
   ]
  },
  {
   "cell_type": "code",
   "execution_count": 6,
   "metadata": {},
   "outputs": [
    {
     "data": {
      "text/plain": [
       "(92, 2)"
      ]
     },
     "execution_count": 6,
     "metadata": {},
     "output_type": "execute_result"
    }
   ],
   "source": [
    "cleaned_data.shape"
   ]
  },
  {
   "cell_type": "code",
   "execution_count": 7,
   "metadata": {},
   "outputs": [],
   "source": [
    "from sklearn.cluster import KMeans\n",
    "X = cleaned_data\n",
    "# Within cluster sum of squares. We calculate the sum of squares of the distance of each data point \n",
    "# in cluster k from their center point ki.\n",
    "\n",
    "wcss = []\n",
    "for k in range(2, 21):\n",
    "    k_means = KMeans(n_clusters=k,init='k-means++', n_init=100, n_jobs=-1)\n",
    "    k_means.fit(X)\n",
    "    wcss.append(k_means.inertia_)"
   ]
  },
  {
   "cell_type": "code",
   "execution_count": 8,
   "metadata": {},
   "outputs": [
    {
     "data": {
      "image/png": "[encoded data removed]",
      "text/plain": [
       "<Figure size 504x324 with 1 Axes>"
      ]
     },
     "metadata": {
      "needs_background": "light"
     },
     "output_type": "display_data"
    }
   ],
   "source": [
    "fig = plt.figure(figsize=(7, 4.5))\n",
    "x=range(2,21)\n",
    "plt.plot(range(2, 21), wcss,'o-')\n",
    "plt.grid(False)\n",
    "#plt.title('Elbow Curve')\n",
    "plt.xlabel(\" (a) Number of Clusters\")\n",
    "plt.ylabel(\"Total WCSS\")\n",
    "plt.xticks(np.arange(min(x), max(x)+1, 2))\n",
    "sns.despine(left=True)\n",
    "#plt.savefig('elbow.png', bbox_inches='tight', dpi=350)\n",
    "plt.show()"
   ]
  },
  {
   "cell_type": "code",
   "execution_count": 9,
   "metadata": {},
   "outputs": [
    {
     "data": {
      "text/plain": [
       "0.041990871271137174"
      ]
     },
     "execution_count": 9,
     "metadata": {},
     "output_type": "execute_result"
    }
   ],
   "source": [
    "k_means.inertia_"
   ]
  },
  {
   "cell_type": "code",
   "execution_count": 10,
   "metadata": {},
   "outputs": [],
   "source": [
    "# The change in slope of curve is not significant after k=4.\n",
    "# Hence we select no. of clusters to be 4\n",
    "\n",
    "# Computing K-Means with K = 4 (4 clusters)\n",
    "centroids,_ = kmeans(cleaned_data,4)\n",
    "\n",
    "# Assign each sample to a cluster\n",
    "idx,_ = vq(cleaned_data,centroids)\n",
    " \n",
    "data = cleaned_data"
   ]
  },
  {
   "cell_type": "code",
   "execution_count": 11,
   "metadata": {},
   "outputs": [
    {
     "data": {
      "image/png": "[encoded data removed]",
      "text/plain": [
       "<Figure size 504x360 with 1 Axes>"
      ]
     },
     "metadata": {
      "needs_background": "light"
     },
     "output_type": "display_data"
    }
   ],
   "source": [
    "#Using Scatter plt \n",
    "plt.figure(figsize=(7,5))\n",
    "\n",
    "plt.scatter(X[idx==0,0],X[idx==0,1],s=30,c='maroon',label='Cluster1',alpha=0.50)\n",
    "plt.scatter(X[idx==1,0],X[idx==1,1],s=30,c='blue',label='Cluster2',alpha=0.50)\n",
    "plt.scatter(X[idx==2,0],X[idx==2,1],s=30,c='green',label='Cluster3',alpha=0.50)\n",
    "plt.scatter(X[idx==3,0],X[idx==3,1],s=30,c='orange',label='Cluster4',alpha=0.70)\n",
    "#plt.scatter(X[idx==4,0],X[idx==4,1],s=30,c='gray',label='Cluster5',alpha=0.65)\n",
    "#plt.scatter(k_means.cluster_centers_[:,0],k_means.cluster_centers_[:,1],s=300,c='yellow')\n",
    "plt.scatter(centroids[:,0],centroids[:,1],s=50, c='red', alpha = 1, edgecolors='black')\n",
    "sns.despine(left=True)\n",
    "plt.xlabel('(b) Percentage Return')\n",
    "plt.ylabel('Volatality')\n",
    "plt.legend(loc='upperleft',frameon=False)\n",
    "#plt.savefig('clusters.png', bbox_inches='tight', dpi=350)\n",
    "plt.show()"
   ]
  },
  {
   "cell_type": "code",
   "execution_count": 12,
   "metadata": {},
   "outputs": [],
   "source": [
    "#Finally to get the details of which stock is actually in which cluster we can run the following line\n",
    "\n",
    "# of code to carry out a list comprehension to create a list of tuples in the (Stock Name, Cluster Number) format\n",
    "\n",
    "details = [(name,cluster) for name, cluster in zip(returns.index,idx)]"
   ]
  },
  {
   "cell_type": "code",
   "execution_count": 13,
   "metadata": {},
   "outputs": [
    {
     "data": {
      "text/html": [
       "<div>\n",
       "<style scoped>\n",
       "    .dataframe tbody tr th:only-of-type {\n",
       "        vertical-align: middle;\n",
       "    }\n",
       "\n",
       "    .dataframe tbody tr th {\n",
       "        vertical-align: top;\n",
       "    }\n",
       "\n",
       "    .dataframe thead th {\n",
       "        text-align: right;\n",
       "    }\n",
       "</style>\n",
       "<table border=\"1\" class=\"dataframe\">\n",
       "  <thead>\n",
       "    <tr style=\"text-align: right;\">\n",
       "      <th></th>\n",
       "      <th>Stock_Symbol</th>\n",
       "      <th>Cluster</th>\n",
       "    </tr>\n",
       "  </thead>\n",
       "  <tbody>\n",
       "    <tr>\n",
       "      <th>0</th>\n",
       "      <td>AAL</td>\n",
       "      <td>1</td>\n",
       "    </tr>\n",
       "    <tr>\n",
       "      <th>1</th>\n",
       "      <td>AAPL</td>\n",
       "      <td>2</td>\n",
       "    </tr>\n",
       "    <tr>\n",
       "      <th>2</th>\n",
       "      <td>ADBE</td>\n",
       "      <td>2</td>\n",
       "    </tr>\n",
       "    <tr>\n",
       "      <th>3</th>\n",
       "      <td>ADI</td>\n",
       "      <td>3</td>\n",
       "    </tr>\n",
       "    <tr>\n",
       "      <th>4</th>\n",
       "      <td>ADP</td>\n",
       "      <td>3</td>\n",
       "    </tr>\n",
       "  </tbody>\n",
       "</table>\n",
       "</div>"
      ],
      "text/plain": [
       "  Stock_Symbol  Cluster\n",
       "0          AAL        1\n",
       "1         AAPL        2\n",
       "2         ADBE        2\n",
       "3          ADI        3\n",
       "4          ADP        3"
      ]
     },
     "execution_count": 13,
     "metadata": {},
     "output_type": "execute_result"
    }
   ],
   "source": [
    "labels =['Stock_Symbol', 'Cluster']\n",
    "df1 = pd.DataFrame.from_records(details, columns=labels)\n",
    "df1.head()"
   ]
  },
  {
   "cell_type": "code",
   "execution_count": 14,
   "metadata": {},
   "outputs": [
    {
     "data": {
      "text/plain": [
       "array([1, 2, 3, 0], dtype=int64)"
      ]
     },
     "execution_count": 14,
     "metadata": {},
     "output_type": "execute_result"
    }
   ],
   "source": [
    "df1.Cluster.unique()"
   ]
  },
  {
   "cell_type": "code",
   "execution_count": 100,
   "metadata": {},
   "outputs": [
    {
     "name": "stdout",
     "output_type": "stream",
     "text": [
      "   Stock_Symbol  Cluster\n",
      "60         MSFT        3\n",
      "\n",
      "\n"
     ]
    },
    {
     "data": {
      "text/plain": [
       "(20, 2)"
      ]
     },
     "execution_count": 100,
     "metadata": {},
     "output_type": "execute_result"
    }
   ],
   "source": [
    "print(df1[df1.Stock_Symbol=='MSFT'])\n",
    "print('\\n')\n",
    "df1[df1.Cluster==1].shape"
   ]
  },
  {
   "cell_type": "code",
   "execution_count": 99,
   "metadata": {},
   "outputs": [
    {
     "name": "stdout",
     "output_type": "stream",
     "text": [
      "  Stock_Symbol  Cluster\n",
      "1         AAPL        1\n",
      "\n",
      "\n"
     ]
    },
    {
     "data": {
      "text/plain": [
       "(20, 2)"
      ]
     },
     "execution_count": 99,
     "metadata": {},
     "output_type": "execute_result"
    }
   ],
   "source": [
    "print(df1[df1.Stock_Symbol=='AAPL'])\n",
    "print('\\n')\n",
    "df1[df1.Cluster==1].shape"
   ]
  },
  {
   "cell_type": "code",
   "execution_count": 16,
   "metadata": {},
   "outputs": [
    {
     "name": "stdout",
     "output_type": "stream",
     "text": [
      "   Stock_Symbol  Cluster\n",
      "10         AMZN        0\n",
      "\n",
      "\n"
     ]
    },
    {
     "data": {
      "text/plain": [
       "(12, 2)"
      ]
     },
     "execution_count": 16,
     "metadata": {},
     "output_type": "execute_result"
    }
   ],
   "source": [
    "print(df1[df1.Stock_Symbol=='AMZN'])\n",
    "print('\\n')\n",
    "df1[df1.Cluster==0].shape"
   ]
  },
  {
   "cell_type": "code",
   "execution_count": 17,
   "metadata": {},
   "outputs": [
    {
     "name": "stdout",
     "output_type": "stream",
     "text": [
      "Stock_Symbol    AMZN\n",
      "Cluster            0\n",
      "Name: 10, dtype: object\n"
     ]
    },
    {
     "data": {
      "text/plain": [
       "array(['ALGN', 'AMZN', 'BIDU', 'BKNG', 'ILMN', 'INCY', 'MELI', 'NFLX',\n",
       "       'NVDA', 'REGN', 'SWKS', 'ULTA'], dtype=object)"
      ]
     },
     "execution_count": 17,
     "metadata": {},
     "output_type": "execute_result"
    }
   ],
   "source": [
    "print(df1.iloc[10])\n",
    "s=df1[df1.Cluster==0]\n",
    "s.Stock_Symbol.values #Extracting Symbol Names"
   ]
  },
  {
   "cell_type": "code",
   "execution_count": 75,
   "metadata": {},
   "outputs": [
    {
     "data": {
      "text/plain": [
       "array(['ADI', 'ADP', 'AMAT', 'AMGN', 'CELG', 'CERN', 'CHKP', 'CMCSA',\n",
       "       'COST', 'CSCO', 'CTAS', 'EA', 'EBAY', 'ESRX', 'FAST', 'FISV',\n",
       "       'FOX', 'FOXA', 'GILD', 'GOOG', 'GOOGL', 'HAS', 'HOLX', 'HSIC',\n",
       "       'INTC', 'INTU', 'JBHT', 'KLAC', 'LBTYA', 'LBTYK', 'MAR', 'MCHP',\n",
       "       'MDLZ', 'MSFT', 'MXIM', 'MYL', 'PAYX', 'PCAR', 'PEP', 'QCOM',\n",
       "       'SBUX', 'SHPG', 'SNPS', 'SYMC', 'TXN', 'VOD', 'WBA', 'XLNX',\n",
       "       'XRAY'], dtype=object)"
      ]
     },
     "execution_count": 75,
     "metadata": {},
     "output_type": "execute_result"
    }
   ],
   "source": [
    "s=df1[df1.Cluster==1]\n",
    "s.Stock_Symbol.values #Extracting Symbol Names"
   ]
  },
  {
   "cell_type": "markdown",
   "metadata": {},
   "source": [
    "### Hierarchical"
   ]
  },
  {
   "cell_type": "code",
   "execution_count": 49,
   "metadata": {},
   "outputs": [],
   "source": [
    "# Import hierarchical clustering libraries\n",
    "import scipy.cluster.hierarchy as sch\n",
    "from sklearn.cluster import AgglomerativeClustering"
   ]
  },
  {
   "cell_type": "code",
   "execution_count": 50,
   "metadata": {},
   "outputs": [
    {
     "data": {
      "image/png": "[encoded data removed]",
      "text/plain": [
       "<Figure size 720x360 with 1 Axes>"
      ]
     },
     "metadata": {
      "needs_background": "light"
     },
     "output_type": "display_data"
    }
   ],
   "source": [
    "# create dendrogram\n",
    "plt.figure(figsize=(10,5))\n",
    "dendrogram = sch.dendrogram(sch.linkage(X, method='ward'))\n",
    "plt.ylabel('Euclidean distances');"
   ]
  },
  {
   "cell_type": "code",
   "execution_count": 56,
   "metadata": {},
   "outputs": [],
   "source": [
    "# create clusters\n",
    "hc = AgglomerativeClustering(n_clusters=4, affinity = 'euclidean', linkage = 'ward')\n",
    "# save clusters for chart\n",
    "y_hc = hc.fit_predict(X)"
   ]
  },
  {
   "cell_type": "code",
   "execution_count": 74,
   "metadata": {},
   "outputs": [],
   "source": [
    "labels =['Stock_Symbol', 'Cluster']\n",
    "df1=pd.DataFrame(list(zip(df.Stock_Symbol, y_hc)), columns=labels)"
   ]
  },
  {
   "cell_type": "code",
   "execution_count": 76,
   "metadata": {},
   "outputs": [
    {
     "name": "stdout",
     "output_type": "stream",
     "text": [
      "   Stock_Symbol  Cluster\n",
      "59         MSFT        1\n",
      "\n",
      "\n"
     ]
    },
    {
     "data": {
      "text/plain": [
       "(49, 2)"
      ]
     },
     "execution_count": 76,
     "metadata": {},
     "output_type": "execute_result"
    }
   ],
   "source": [
    "print(df1[df1.Stock_Symbol=='MSFT'])\n",
    "print('\\n')\n",
    "df1[df1.Cluster==1].shape"
   ]
  },
  {
   "cell_type": "code",
   "execution_count": 77,
   "metadata": {},
   "outputs": [
    {
     "data": {
      "image/png": "[encoded data removed]",
      "text/plain": [
       "<Figure size 504x288 with 1 Axes>"
      ]
     },
     "metadata": {
      "needs_background": "light"
     },
     "output_type": "display_data"
    }
   ],
   "source": [
    "plt.figure(figsize=(7,4))\n",
    "\n",
    "plt.scatter(X[y_hc ==0,0], X[y_hc == 0,1], s=50, c='red')\n",
    "plt.scatter(X[y_hc==1,0], X[y_hc == 1,1], s=50, c='blue')\n",
    "plt.scatter(X[y_hc ==2,0], X[y_hc == 2,1], s=50, c='green')\n",
    "plt.scatter(X[y_hc ==3,0], X[y_hc == 3,1], s=50, c='cyan')\n",
    "sns.despine(left=True)"
   ]
  },
  {
   "cell_type": "markdown",
   "metadata": {},
   "source": [
    "### Clustering 3"
   ]
  },
  {
   "cell_type": "code",
   "execution_count": 78,
   "metadata": {},
   "outputs": [
    {
     "data": {
      "text/plain": [
       "(89, 2)"
      ]
     },
     "execution_count": 78,
     "metadata": {},
     "output_type": "execute_result"
    }
   ],
   "source": [
    "X.shape"
   ]
  },
  {
   "cell_type": "code",
   "execution_count": 129,
   "metadata": {},
   "outputs": [],
   "source": [
    "dbsc = DBSCAN(eps = .5, min_samples = 15).fit(df)"
   ]
  },
  {
   "cell_type": "code",
   "execution_count": 131,
   "metadata": {},
   "outputs": [],
   "source": [
    "labels = dbsc.labels_\n",
    "core_samples = np.zeros_like(labels, dtype = bool)\n",
    "core_samples[dbsc.core_sample_indices_] = True"
   ]
  },
  {
   "cell_type": "code",
   "execution_count": 140,
   "metadata": {},
   "outputs": [
    {
     "data": {
      "text/plain": [
       "(89, 2)"
      ]
     },
     "execution_count": 140,
     "metadata": {},
     "output_type": "execute_result"
    }
   ],
   "source": [
    "X=cleaned_data\n",
    "X.shape"
   ]
  },
  {
   "cell_type": "code",
   "execution_count": null,
   "metadata": {},
   "outputs": [],
   "source": [
    "# Compute DBSCAN\n",
    "db = DBSCAN(eps=0.3, min_samples=10).fit(X)\n",
    "core_samples_mask = np.zeros_like(db.labels_, dtype=bool)\n",
    "core_samples_mask[db.core_sample_indices_] = True\n",
    "labels = db.labels_\n",
    "\n",
    "# Number of clusters in labels, ignoring noise if present.\n",
    "n_clusters_ = len(set(labels)) - (1 if -1 in labels else 0)\n",
    "\n",
    "print('Estimated number of clusters: %d' % n_clusters_)\n",
    "\n",
    "print(\"Silhouette Coefficient: %0.3f\"\n",
    "      % metrics.silhouette_score(X, labels))"
   ]
  },
  {
   "cell_type": "markdown",
   "metadata": {},
   "source": [
    "### 3. DBSCAN"
   ]
  },
  {
   "cell_type": "code",
   "execution_count": 111,
   "metadata": {},
   "outputs": [
    {
     "data": {
      "text/plain": [
       "DBSCAN(algorithm='auto', eps=0.05, leaf_size=30, metric='euclidean',\n",
       "    metric_params=None, min_samples=2, n_jobs=None, p=None)"
      ]
     },
     "execution_count": 111,
     "metadata": {},
     "output_type": "execute_result"
    }
   ],
   "source": [
    "from sklearn.cluster import DBSCAN\n",
    "dbscan = DBSCAN(eps=0.05, min_samples=2)\n",
    "dbscan"
   ]
  },
  {
   "cell_type": "code",
   "execution_count": 112,
   "metadata": {},
   "outputs": [
    {
     "data": {
      "text/plain": [
       "DBSCAN(algorithm='auto', eps=0.05, leaf_size=30, metric='euclidean',\n",
       "    metric_params=None, min_samples=2, n_jobs=None, p=None)"
      ]
     },
     "execution_count": 112,
     "metadata": {},
     "output_type": "execute_result"
    }
   ],
   "source": [
    "X=cleaned_data\n",
    "dbscan.fit(X)"
   ]
  },
  {
   "cell_type": "code",
   "execution_count": 113,
   "metadata": {},
   "outputs": [
    {
     "name": "stdout",
     "output_type": "stream",
     "text": [
      "Estimated number of clusters: 4\n",
      "Estimated number of noise points: 3\n"
     ]
    }
   ],
   "source": [
    "core_samples_mask = np.zeros_like(dbscan.labels_, dtype=bool)\n",
    "core_samples_mask[dbscan.core_sample_indices_] = True\n",
    "labels = dbscan.labels_\n",
    "\n",
    "# Number of clusters in labels, ignoring noise if present.\n",
    "n_clusters_ = len(set(labels)) - (1 if -1 in labels else 0)\n",
    "n_noise_ = list(labels).count(-1)\n",
    "\n",
    "print('Estimated number of clusters: %d' % n_clusters_)\n",
    "print('Estimated number of noise points: %d' % n_noise_)"
   ]
  },
  {
   "cell_type": "code",
   "execution_count": 103,
   "metadata": {},
   "outputs": [
    {
     "data": {
      "text/plain": [
       "array([-1, -1,  0,  0,  0,  0,  1,  2,  0,  0,  3,  0,  0,  1,  0,  3,  2,\n",
       "        0,  0,  0,  0,  0,  0,  0,  0,  0,  4,  0,  0,  0,  0,  0,  0,  2,\n",
       "        0,  0,  0,  0,  0,  0,  0,  0,  0,  0,  0,  1, -1,  0,  0,  2,  0,\n",
       "        0,  0,  0,  0,  0,  0,  5,  2,  0, -1,  0,  0, -1,  2,  6,  0,  5,\n",
       "        0, -1,  0,  1,  0,  0,  0, -1,  0, -1,  6,  0, -1,  0, -1,  4,  0,\n",
       "       -1, -1,  0,  5], dtype=int64)"
      ]
     },
     "execution_count": 103,
     "metadata": {},
     "output_type": "execute_result"
    }
   ],
   "source": [
    "db1_labels=dbscan.labels_\n",
    "db1_labels"
   ]
  },
  {
   "cell_type": "code",
   "execution_count": 123,
   "metadata": {},
   "outputs": [
    {
     "data": {
      "text/plain": [
       "3"
      ]
     },
     "execution_count": 123,
     "metadata": {},
     "output_type": "execute_result"
    }
   ],
   "source": [
    "len(db1_labels[db1_labels==5])"
   ]
  },
  {
   "cell_type": "code",
   "execution_count": 126,
   "metadata": {},
   "outputs": [
    {
     "data": {
      "image/png": "[encoded data removed]",
      "text/plain": [
       "<Figure size 432x288 with 1 Axes>"
      ]
     },
     "metadata": {
      "needs_background": "light"
     },
     "output_type": "display_data"
    }
   ],
   "source": [
    "# Black removed and is used for noise instead.\n",
    "unique_labels = set(labels)\n",
    "colors = [plt.cm.Spectral(each)\n",
    "          for each in np.linspace(0, 1, len(unique_labels))]\n",
    "for k, col in zip(unique_labels, colors):\n",
    "    if k == -1:\n",
    "        # Black used for noise.\n",
    "        col = [0, 0, 0, 1]\n",
    "\n",
    "    class_member_mask = (labels == k)\n",
    "\n",
    "    xy = X[class_member_mask & core_samples_mask]\n",
    "    plt.plot(xy[:, 0], xy[:, 1], 'o', markerfacecolor=tuple(col),\n",
    "             markeredgecolor='k', markersize=8)\n",
    "\n",
    "    xy = X[class_member_mask & ~core_samples_mask]\n",
    "    plt.plot(xy[:, 0], xy[:, 1], 'o', markerfacecolor=tuple(col),\n",
    "             markeredgecolor='k', markersize=8)\n",
    "\n",
    "plt.title('Estimated number of clusters: %d' % n_clusters_)\n",
    "plt.show()"
   ]
  },
  {
   "cell_type": "code",
   "execution_count": 87,
   "metadata": {},
   "outputs": [
    {
     "name": "stdout",
     "output_type": "stream",
     "text": [
      "   Stock_Symbol  Cluster\n",
      "59         MSFT        0\n",
      "\n",
      "\n"
     ]
    },
    {
     "data": {
      "text/plain": [
       "(68, 2)"
      ]
     },
     "execution_count": 87,
     "metadata": {},
     "output_type": "execute_result"
    }
   ],
   "source": [
    "labels =['Stock_Symbol', 'Cluster']\n",
    "df2=pd.DataFrame(list(zip(df.Stock_Symbol, dbscan.labels_)), columns=labels)\n",
    "\n",
    "print(df2[df2.Stock_Symbol=='MSFT'])\n",
    "print('\\n')\n",
    "df2[df2.Cluster==0].shape"
   ]
  },
  {
   "cell_type": "code",
   "execution_count": 127,
   "metadata": {},
   "outputs": [
    {
     "data": {
      "image/png": "[encoded data removed]",
      "text/plain": [
       "<Figure size 432x288 with 1 Axes>"
      ]
     },
     "metadata": {
      "needs_background": "light"
     },
     "output_type": "display_data"
    }
   ],
   "source": [
    "for i in range(0, X.shape[0]):\n",
    "    if dbscan.labels_[i] == 0:\n",
    "        c1 = plt.scatter(X[i,0],X[i,1],c='r',marker='+')\n",
    "    \n",
    "    elif dbscan.labels_[i] == 1:\n",
    "        c2 = plt.scatter(X[i,0],X[i,1],c='g',marker='o')\n",
    "    \n",
    "    elif dbscan.labels_[i] == -1:\n",
    "        c3 = plt.scatter(X[i,0],X[i,1],c='b',marker='*')\n",
    "\n",
    "plt.legend([c1, c2, c3], ['Cluster 1', 'Cluster 2','Noise'])\n",
    "plt.title('DBSCAN finds 2 clusters and noise')\n",
    "plt.show()"
   ]
  },
  {
   "cell_type": "code",
   "execution_count": null,
   "metadata": {},
   "outputs": [],
   "source": []
  }
 ],
 "metadata": {
  "kernelspec": {
   "display_name": "Python 3",
   "language": "python",
   "name": "python3"
  },
  "language_info": {
   "codemirror_mode": {
    "name": "ipython",
    "version": 3
   },
   "file_extension": ".py",
   "mimetype": "text/x-python",
   "name": "python",
   "nbconvert_exporter": "python",
   "pygments_lexer": "ipython3",
   "version": "3.6.7"
  }
 },
 "nbformat": 4,
 "nbformat_minor": 2
}
